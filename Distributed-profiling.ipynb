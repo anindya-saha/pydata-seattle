{
 "cells": [
  {
   "cell_type": "markdown",
   "id": "ca89ab3b-357f-4d03-a1b9-8850927aef8a",
   "metadata": {
    "pycharm": {
     "name": "#%% md\n"
    },
    "tags": []
   },
   "source": [
    "# Distributed Profiling of Model Features with Whylogs & Fugue\n",
    "\n",
    "It is a usual practice in the Machine Learning worls to log incoming model inference requests and outgoing predictions. These logs are then processed and aggregated later for various monitoring and drift detection purposes. However, consuming this raw data presents several pain points:\n",
    "+ Machine Learning models vary widely in the number and nature of features and predictions. Some have 10 features and emit probability scores while others may have 30 features and emit a ranking. \n",
    "+ They also differ significantly in the type of features, with some having more categorical features and others having more numerical features.\n",
    "\n",
    "It is imperative for us to devise a uniform way of processing them. We cannot have a specific monitoring logic for each model. \n",
    "\n",
    "In this tutorial we show how to use [Whylogs](https://whylabs.ai/whylogs) to profile the features and predictions and extract only the essential metrics from these profiles, regardless of the scale of the data.\n",
    "\n",
    "The purposes of profiling are:\n",
    "+ To normalize and compress metric data while retaining maximal information.\n",
    "+ We can unify data from totally different models and process them using the same pipeline in the following step.\n",
    "+ The subsequent steps will only need to handle purely numerical time series.\n",
    "+ Significantly reduce the scale of the problem, so the compute can be more efficient and cost effective.\n",
    "\n",
    "We also use the open source framework called [Fugue](https://fugue-tutorials.readthedocs.io/index.html) for its excellent abstraction layer that unifies the computing logic over Pandas, Spark, Ray or Dask.One of Fugue's most popular features is the ability to use a simple Python function call to distribute logic across many partitions of a larger dataframe. Users can provide functions with type-annotated inputs and outputs, and Fugue then converts the data based on the type annotations. This makes the custom logic independent from Fugue and Spark, removing the need for any pre-existing knowledge."
   ]
  },
  {
   "cell_type": "markdown",
   "id": "ca146721-fe70-48d8-b561-16bfee6b6382",
   "metadata": {
    "pycharm": {
     "name": "#%% md\n"
    },
    "tags": []
   },
   "source": [
    "![](images/scale-up-ad.png)"
   ]
  },
  {
   "cell_type": "code",
   "execution_count": 1,
   "id": "40756b07-ecf1-47c9-a17e-a548e99ff40a",
   "metadata": {
    "pycharm": {
     "name": "#%%\n"
    },
    "tags": []
   },
   "outputs": [
    {
     "name": "stderr",
     "output_type": "stream",
     "text": [
      "<jemalloc>: MADV_DONTNEED does not work (memset will be used instead)\n",
      "<jemalloc>: (This is the expected behaviour if you are running under QEMU)\n"
     ]
    }
   ],
   "source": [
    "import seaborn as sns\n",
    "from matplotlib import pyplot as plt\n",
    "\n",
    "from IPython.core.interactiveshell import InteractiveShell\n",
    "InteractiveShell.ast_node_interactivity = \"all\"\n",
    "\n",
    "# this allows plots to appear directly in the notebook\n",
    "%matplotlib inline\n",
    "%config InlineBackend.figure_format = 'retina'"
   ]
  },
  {
   "cell_type": "code",
   "execution_count": 2,
   "id": "d98f7593-1665-4d3c-86c4-bc99cc75fa72",
   "metadata": {
    "pycharm": {
     "name": "#%%\n"
    },
    "tags": []
   },
   "outputs": [],
   "source": [
    "import pandas as pd\n",
    "\n",
    "pd.set_option('display.max_columns', 50)\n",
    "pd.set_option('display.max_colwidth', 100)"
   ]
  },
  {
   "cell_type": "code",
   "execution_count": 3,
   "id": "250c9615-5691-4e89-8e95-698765c26dcc",
   "metadata": {
    "pycharm": {
     "name": "#%%\n"
    },
    "tags": []
   },
   "outputs": [],
   "source": [
    "import pandas as pd"
   ]
  },
  {
   "cell_type": "code",
   "execution_count": 4,
   "id": "a97d67a2-1783-46f8-a178-e020866926b7",
   "metadata": {
    "pycharm": {
     "name": "#%%\n"
    },
    "tags": []
   },
   "outputs": [],
   "source": [
    "demo_df = pd.read_parquet('addemo23/demo_raw_data.parquet')"
   ]
  },
  {
   "cell_type": "code",
   "execution_count": null,
   "outputs": [],
   "source": [
    "#demo_df = demo_df.sample(frac=0.1)"
   ],
   "metadata": {
    "collapsed": false,
    "pycharm": {
     "name": "#%%\n"
    }
   }
  },
  {
   "cell_type": "markdown",
   "source": [
    "## Load Model Feature and Prediction Logs"
   ],
   "metadata": {
    "collapsed": false,
    "pycharm": {
     "name": "#%% md\n"
    }
   }
  },
  {
   "cell_type": "markdown",
   "source": [
    "### Extract Features and Predictions from model logs"
   ],
   "metadata": {
    "collapsed": false,
    "pycharm": {
     "name": "#%% md\n"
    }
   }
  },
  {
   "cell_type": "code",
   "execution_count": null,
   "outputs": [],
   "source": [
    "import json\n",
    "import pandas as pd\n",
    "\n",
    "def extract_features(df: pd.DataFrame) -> pd.DataFrame:\n",
    "    json_str = \"[\" + (\",\".join(df.features)) + \"]\"\n",
    "    feature_df = pd.DataFrame(json.loads(json_str))\n",
    "    #feature_df = feature_df.reset_index(drop=True)\n",
    "    return feature_df[sorted(feature_df.columns)]"
   ],
   "metadata": {
    "collapsed": false,
    "pycharm": {
     "name": "#%%\n"
    }
   }
  },
  {
   "cell_type": "code",
   "execution_count": null,
   "outputs": [],
   "source": [
    "feature_df = extract_features(demo_df)"
   ],
   "metadata": {
    "collapsed": false,
    "pycharm": {
     "name": "#%%\n"
    }
   }
  },
  {
   "cell_type": "code",
   "execution_count": null,
   "outputs": [],
   "source": [
    "feature_df.head(5)"
   ],
   "metadata": {
    "collapsed": false,
    "pycharm": {
     "name": "#%%\n"
    }
   }
  },
  {
   "cell_type": "code",
   "execution_count": null,
   "outputs": [],
   "source": [
    "demo_df.head(5)"
   ],
   "metadata": {
    "collapsed": false,
    "pycharm": {
     "name": "#%%\n"
    }
   }
  },
  {
   "cell_type": "code",
   "execution_count": null,
   "outputs": [],
   "source": [
    "feature_df.shape, demo_df.shape"
   ],
   "metadata": {
    "collapsed": false,
    "pycharm": {
     "name": "#%%\n"
    }
   }
  },
  {
   "cell_type": "code",
   "execution_count": null,
   "outputs": [],
   "source": [
    "pd.merge(demo_df[['occurred_at', 'model_name', 'version', 'predictions']], feature_df, left_index=True, right_index=True)"
   ],
   "metadata": {
    "collapsed": false,
    "pycharm": {
     "name": "#%%\n"
    }
   }
  },
  {
   "cell_type": "code",
   "execution_count": null,
   "outputs": [],
   "source": [
    "import json\n",
    "import pandas as pd\n",
    "\n",
    "def extract_features(model_logs_df: pd.DataFrame) -> pd.DataFrame:\n",
    "    json_str = \"[\" + (\",\".join(model_logs_df.features)) + \"]\"\n",
    "    feature_df = pd.DataFrame(json.loads(json_str))\n",
    "    feature_df = feature_df[sorted(feature_df.columns)]\n",
    "    model_logs_df['occurred_at'] = model_logs_df['occurred_at'].apply(lambda x: x.replace(microsecond=0))\n",
    "    model_logs_df['ds'] = model_logs_df['occurred_at'].apply(lambda x: x.strftime(\"%Y-%m-%d\"))\n",
    "    model_logs_df['hour'] = model_logs_df['occurred_at'].apply(lambda x: x.hour)\n",
    "    return pd.merge(model_logs_df[['occurred_at', 'ds', 'hour', 'model_name', 'version', 'predictions']], feature_df, left_index=True, right_index=True)"
   ],
   "metadata": {
    "collapsed": false,
    "pycharm": {
     "name": "#%%\n"
    }
   }
  },
  {
   "cell_type": "code",
   "execution_count": null,
   "outputs": [],
   "source": [
    "#demo_df"
   ],
   "metadata": {
    "collapsed": false,
    "pycharm": {
     "name": "#%%\n"
    }
   }
  },
  {
   "cell_type": "code",
   "execution_count": null,
   "outputs": [],
   "source": [
    "features_df = extract_features(demo_df)"
   ],
   "metadata": {
    "collapsed": false,
    "pycharm": {
     "name": "#%%\n"
    }
   }
  },
  {
   "cell_type": "code",
   "execution_count": null,
   "outputs": [],
   "source": [
    "features_df.head(5)"
   ],
   "metadata": {
    "collapsed": false,
    "pycharm": {
     "name": "#%%\n"
    }
   }
  },
  {
   "cell_type": "code",
   "execution_count": null,
   "outputs": [],
   "source": [
    "features_df.tail(5)"
   ],
   "metadata": {
    "collapsed": false,
    "pycharm": {
     "name": "#%%\n"
    }
   }
  },
  {
   "cell_type": "code",
   "execution_count": null,
   "outputs": [],
   "source": [
    "features_df.dtypes"
   ],
   "metadata": {
    "collapsed": false,
    "pycharm": {
     "name": "#%%\n"
    }
   }
  },
  {
   "cell_type": "code",
   "execution_count": null,
   "outputs": [],
   "source": [
    "#features_df.ds.unique()"
   ],
   "metadata": {
    "collapsed": false,
    "pycharm": {
     "name": "#%%\n"
    }
   }
  },
  {
   "cell_type": "code",
   "execution_count": null,
   "outputs": [],
   "source": [
    "len(features_df.ds.unique())"
   ],
   "metadata": {
    "collapsed": false,
    "pycharm": {
     "name": "#%%\n"
    }
   }
  },
  {
   "cell_type": "code",
   "execution_count": null,
   "outputs": [],
   "source": [
    "features_df.hour.unique()"
   ],
   "metadata": {
    "collapsed": false,
    "pycharm": {
     "name": "#%%\n"
    }
   }
  },
  {
   "cell_type": "code",
   "execution_count": null,
   "outputs": [],
   "source": [
    "features_df[(features_df['ds'] == '2023-02-10') & (features_df['hour'] == 5)]"
   ],
   "metadata": {
    "collapsed": false,
    "pycharm": {
     "name": "#%%\n"
    }
   }
  },
  {
   "cell_type": "markdown",
   "source": [
    "### Generate Whylogs Profiles"
   ],
   "metadata": {
    "collapsed": false,
    "pycharm": {
     "name": "#%% md\n"
    }
   }
  },
  {
   "cell_type": "code",
   "execution_count": null,
   "outputs": [],
   "source": [
    "import json\n",
    "import numpy as np\n",
    "\n",
    "import whylogs as why\n",
    "from whylogs import DatasetProfileView"
   ],
   "metadata": {
    "collapsed": false,
    "pycharm": {
     "name": "#%%\n"
    }
   }
  },
  {
   "cell_type": "code",
   "execution_count": null,
   "outputs": [],
   "source": [
    "feb_test_df = features_df[(features_df['ds'] == '2023-02-10') & (features_df['hour'] == 5)]"
   ],
   "metadata": {
    "collapsed": false,
    "pycharm": {
     "name": "#%%\n"
    }
   }
  },
  {
   "cell_type": "code",
   "execution_count": null,
   "outputs": [],
   "source": [
    "feb_test_df.head(5)"
   ],
   "metadata": {
    "collapsed": false,
    "pycharm": {
     "name": "#%%\n"
    }
   }
  },
  {
   "cell_type": "code",
   "execution_count": null,
   "outputs": [],
   "source": [
    "feb_whylogs_prof = why.log(feb_test_df[['feature_5', 'feature_6']]).view()"
   ],
   "metadata": {
    "collapsed": false,
    "pycharm": {
     "name": "#%%\n"
    }
   }
  },
  {
   "cell_type": "code",
   "execution_count": null,
   "outputs": [],
   "source": [
    "mar_test_df = features_df[(features_df['ds'] == '2023-03-10') & (features_df['hour'] == 5)]"
   ],
   "metadata": {
    "collapsed": false,
    "pycharm": {
     "name": "#%%\n"
    }
   }
  },
  {
   "cell_type": "code",
   "execution_count": null,
   "outputs": [],
   "source": [
    "mar_test_df.head(5)"
   ],
   "metadata": {
    "collapsed": false,
    "pycharm": {
     "name": "#%%\n"
    }
   }
  },
  {
   "cell_type": "code",
   "execution_count": 32,
   "id": "16a776c9",
   "metadata": {
    "collapsed": false,
    "jupyter": {
     "outputs_hidden": false
    },
    "pycharm": {
     "name": "#%%\n"
    },
    "tags": []
   },
   "outputs": [],
   "source": [
    "feb_whylogs_prof = why.log(feb_test_df[['feature_5', 'feature_6']]).view()"
   ]
  },
  {
   "cell_type": "code",
   "execution_count": 40,
   "id": "b6e06977",
   "metadata": {
    "collapsed": false,
    "jupyter": {
     "outputs_hidden": false
    },
    "pycharm": {
     "name": "#%%\n"
    },
    "tags": []
   },
   "outputs": [],
   "source": [
    "mar_test_df = features_df[(features_df['ds'] == '2023-03-10') & (features_df['hour'] == 5)]"
   ]
  },
  {
   "cell_type": "code",
   "execution_count": 41,
   "id": "bcdfa969-b0f7-4c3e-8739-e4b4503c9b65",
   "metadata": {
    "tags": []
   },
   "outputs": [
    {
     "data": {
      "text/html": [
       "<div>\n",
       "<style scoped>\n",
       "    .dataframe tbody tr th:only-of-type {\n",
       "        vertical-align: middle;\n",
       "    }\n",
       "\n",
       "    .dataframe tbody tr th {\n",
       "        vertical-align: top;\n",
       "    }\n",
       "\n",
       "    .dataframe thead th {\n",
       "        text-align: right;\n",
       "    }\n",
       "</style>\n",
       "<table border=\"1\" class=\"dataframe\">\n",
       "  <thead>\n",
       "    <tr style=\"text-align: right;\">\n",
       "      <th></th>\n",
       "      <th>occurred_at</th>\n",
       "      <th>ds</th>\n",
       "      <th>hour</th>\n",
       "      <th>model_name</th>\n",
       "      <th>version</th>\n",
       "      <th>predictions</th>\n",
       "      <th>feature_1</th>\n",
       "      <th>feature_2</th>\n",
       "      <th>feature_3</th>\n",
       "      <th>feature_4</th>\n",
       "      <th>feature_5</th>\n",
       "      <th>feature_6</th>\n",
       "    </tr>\n",
       "  </thead>\n",
       "  <tbody>\n",
       "    <tr>\n",
       "      <th>1345041</th>\n",
       "      <td>2023-03-10 05:35:05</td>\n",
       "      <td>2023-03-10</td>\n",
       "      <td>5</td>\n",
       "      <td>demo_model</td>\n",
       "      <td>1.0.1</td>\n",
       "      <td>21.382330</td>\n",
       "      <td>0.0</td>\n",
       "      <td>3.250000</td>\n",
       "      <td>-7.376024</td>\n",
       "      <td>-355.624186</td>\n",
       "      <td>33.0</td>\n",
       "      <td>-4.216038</td>\n",
       "    </tr>\n",
       "    <tr>\n",
       "      <th>1345042</th>\n",
       "      <td>2023-03-10 05:49:41</td>\n",
       "      <td>2023-03-10</td>\n",
       "      <td>5</td>\n",
       "      <td>demo_model</td>\n",
       "      <td>1.0.1</td>\n",
       "      <td>3.573456</td>\n",
       "      <td>1.0</td>\n",
       "      <td>7.159091</td>\n",
       "      <td>-16.573775</td>\n",
       "      <td>-222.700659</td>\n",
       "      <td>55.0</td>\n",
       "      <td>1.512827</td>\n",
       "    </tr>\n",
       "    <tr>\n",
       "      <th>1345043</th>\n",
       "      <td>2023-03-10 05:24:38</td>\n",
       "      <td>2023-03-10</td>\n",
       "      <td>5</td>\n",
       "      <td>demo_model</td>\n",
       "      <td>1.0.1</td>\n",
       "      <td>29.099798</td>\n",
       "      <td>0.0</td>\n",
       "      <td>3.157895</td>\n",
       "      <td>-7.376024</td>\n",
       "      <td>-355.871126</td>\n",
       "      <td>44.0</td>\n",
       "      <td>-4.487054</td>\n",
       "    </tr>\n",
       "    <tr>\n",
       "      <th>1345044</th>\n",
       "      <td>2023-03-10 05:38:00</td>\n",
       "      <td>2023-03-10</td>\n",
       "      <td>5</td>\n",
       "      <td>demo_model</td>\n",
       "      <td>1.0.1</td>\n",
       "      <td>13.405657</td>\n",
       "      <td>1.0</td>\n",
       "      <td>11.350000</td>\n",
       "      <td>-16.573775</td>\n",
       "      <td>-222.698992</td>\n",
       "      <td>33.0</td>\n",
       "      <td>1.146094</td>\n",
       "    </tr>\n",
       "    <tr>\n",
       "      <th>1345045</th>\n",
       "      <td>2023-03-10 05:57:26</td>\n",
       "      <td>2023-03-10</td>\n",
       "      <td>5</td>\n",
       "      <td>demo_model</td>\n",
       "      <td>1.0.1</td>\n",
       "      <td>17.109037</td>\n",
       "      <td>1.0</td>\n",
       "      <td>1.785714</td>\n",
       "      <td>-7.376024</td>\n",
       "      <td>-356.029852</td>\n",
       "      <td>110.0</td>\n",
       "      <td>-3.645520</td>\n",
       "    </tr>\n",
       "  </tbody>\n",
       "</table>\n",
       "</div>"
      ],
      "text/plain": [
       "                occurred_at          ds  hour  model_name version   \n",
       "1345041 2023-03-10 05:35:05  2023-03-10     5  demo_model   1.0.1  \\\n",
       "1345042 2023-03-10 05:49:41  2023-03-10     5  demo_model   1.0.1   \n",
       "1345043 2023-03-10 05:24:38  2023-03-10     5  demo_model   1.0.1   \n",
       "1345044 2023-03-10 05:38:00  2023-03-10     5  demo_model   1.0.1   \n",
       "1345045 2023-03-10 05:57:26  2023-03-10     5  demo_model   1.0.1   \n",
       "\n",
       "         predictions  feature_1  feature_2  feature_3   feature_4  feature_5   \n",
       "1345041    21.382330        0.0   3.250000  -7.376024 -355.624186       33.0  \\\n",
       "1345042     3.573456        1.0   7.159091 -16.573775 -222.700659       55.0   \n",
       "1345043    29.099798        0.0   3.157895  -7.376024 -355.871126       44.0   \n",
       "1345044    13.405657        1.0  11.350000 -16.573775 -222.698992       33.0   \n",
       "1345045    17.109037        1.0   1.785714  -7.376024 -356.029852      110.0   \n",
       "\n",
       "         feature_6  \n",
       "1345041  -4.216038  \n",
       "1345042   1.512827  \n",
       "1345043  -4.487054  \n",
       "1345044   1.146094  \n",
       "1345045  -3.645520  "
      ]
     },
     "execution_count": 41,
     "metadata": {},
     "output_type": "execute_result"
    }
   ],
   "source": [
    "mar_test_df.head(5)"
   ]
  },
  {
   "cell_type": "code",
   "execution_count": 42,
   "id": "3fb78ad0",
   "metadata": {
    "collapsed": false,
    "jupyter": {
     "outputs_hidden": false
    },
    "pycharm": {
     "name": "#%%\n"
    },
    "tags": []
   },
   "outputs": [],
   "source": [
    "mar_whylogs_prof = why.log(mar_test_df[['feature_5', 'feature_6']]).view()"
   ]
  },
  {
   "cell_type": "code",
   "execution_count": 43,
   "id": "443599a7",
   "metadata": {
    "collapsed": false,
    "jupyter": {
     "outputs_hidden": false
    },
    "pycharm": {
     "name": "#%%\n"
    },
    "tags": []
   },
   "outputs": [
    {
     "data": {
      "text/html": [
       "<div>\n",
       "<style scoped>\n",
       "    .dataframe tbody tr th:only-of-type {\n",
       "        vertical-align: middle;\n",
       "    }\n",
       "\n",
       "    .dataframe tbody tr th {\n",
       "        vertical-align: top;\n",
       "    }\n",
       "\n",
       "    .dataframe thead th {\n",
       "        text-align: right;\n",
       "    }\n",
       "</style>\n",
       "<table border=\"1\" class=\"dataframe\">\n",
       "  <thead>\n",
       "    <tr style=\"text-align: right;\">\n",
       "      <th></th>\n",
       "      <th>cardinality/est</th>\n",
       "      <th>cardinality/lower_1</th>\n",
       "      <th>cardinality/upper_1</th>\n",
       "      <th>counts/inf</th>\n",
       "      <th>counts/n</th>\n",
       "      <th>counts/nan</th>\n",
       "      <th>counts/null</th>\n",
       "      <th>distribution/max</th>\n",
       "      <th>distribution/mean</th>\n",
       "      <th>distribution/median</th>\n",
       "      <th>distribution/min</th>\n",
       "      <th>distribution/n</th>\n",
       "      <th>distribution/q_01</th>\n",
       "      <th>distribution/q_05</th>\n",
       "      <th>distribution/q_10</th>\n",
       "      <th>distribution/q_25</th>\n",
       "      <th>distribution/q_75</th>\n",
       "      <th>distribution/q_90</th>\n",
       "      <th>distribution/q_95</th>\n",
       "      <th>distribution/q_99</th>\n",
       "      <th>distribution/stddev</th>\n",
       "      <th>type</th>\n",
       "      <th>types/boolean</th>\n",
       "      <th>types/fractional</th>\n",
       "      <th>types/integral</th>\n",
       "      <th>types/object</th>\n",
       "      <th>types/string</th>\n",
       "      <th>types/tensor</th>\n",
       "    </tr>\n",
       "    <tr>\n",
       "      <th>column</th>\n",
       "      <th></th>\n",
       "      <th></th>\n",
       "      <th></th>\n",
       "      <th></th>\n",
       "      <th></th>\n",
       "      <th></th>\n",
       "      <th></th>\n",
       "      <th></th>\n",
       "      <th></th>\n",
       "      <th></th>\n",
       "      <th></th>\n",
       "      <th></th>\n",
       "      <th></th>\n",
       "      <th></th>\n",
       "      <th></th>\n",
       "      <th></th>\n",
       "      <th></th>\n",
       "      <th></th>\n",
       "      <th></th>\n",
       "      <th></th>\n",
       "      <th></th>\n",
       "      <th></th>\n",
       "      <th></th>\n",
       "      <th></th>\n",
       "      <th></th>\n",
       "      <th></th>\n",
       "      <th></th>\n",
       "      <th></th>\n",
       "    </tr>\n",
       "  </thead>\n",
       "  <tbody>\n",
       "    <tr>\n",
       "      <th>feature_5</th>\n",
       "      <td>425.569275</td>\n",
       "      <td>420.134311</td>\n",
       "      <td>431.139744</td>\n",
       "      <td>0</td>\n",
       "      <td>1000</td>\n",
       "      <td>0</td>\n",
       "      <td>0</td>\n",
       "      <td>38148.000000</td>\n",
       "      <td>2184.743000</td>\n",
       "      <td>715.000000</td>\n",
       "      <td>0.000000</td>\n",
       "      <td>1000</td>\n",
       "      <td>11.000000</td>\n",
       "      <td>22.000000</td>\n",
       "      <td>33.000000</td>\n",
       "      <td>55.0000</td>\n",
       "      <td>3190.000000</td>\n",
       "      <td>6248.000000</td>\n",
       "      <td>9141.00000</td>\n",
       "      <td>14388.000000</td>\n",
       "      <td>3310.736242</td>\n",
       "      <td>SummaryType.COLUMN</td>\n",
       "      <td>0</td>\n",
       "      <td>1000</td>\n",
       "      <td>0</td>\n",
       "      <td>0</td>\n",
       "      <td>0</td>\n",
       "      <td>0</td>\n",
       "    </tr>\n",
       "    <tr>\n",
       "      <th>feature_6</th>\n",
       "      <td>233.000134</td>\n",
       "      <td>233.000000</td>\n",
       "      <td>233.011768</td>\n",
       "      <td>0</td>\n",
       "      <td>1000</td>\n",
       "      <td>0</td>\n",
       "      <td>0</td>\n",
       "      <td>1.785209</td>\n",
       "      <td>-1.798066</td>\n",
       "      <td>-1.543214</td>\n",
       "      <td>-6.845155</td>\n",
       "      <td>1000</td>\n",
       "      <td>-5.256787</td>\n",
       "      <td>-4.975246</td>\n",
       "      <td>-4.793975</td>\n",
       "      <td>-4.1657</td>\n",
       "      <td>0.373155</td>\n",
       "      <td>1.207462</td>\n",
       "      <td>1.48241</td>\n",
       "      <td>1.724903</td>\n",
       "      <td>2.350622</td>\n",
       "      <td>SummaryType.COLUMN</td>\n",
       "      <td>0</td>\n",
       "      <td>1000</td>\n",
       "      <td>0</td>\n",
       "      <td>0</td>\n",
       "      <td>0</td>\n",
       "      <td>0</td>\n",
       "    </tr>\n",
       "  </tbody>\n",
       "</table>\n",
       "</div>"
      ],
      "text/plain": [
       "           cardinality/est  cardinality/lower_1  cardinality/upper_1   \n",
       "column                                                                 \n",
       "feature_5       425.569275           420.134311           431.139744  \\\n",
       "feature_6       233.000134           233.000000           233.011768   \n",
       "\n",
       "           counts/inf  counts/n  counts/nan  counts/null  distribution/max   \n",
       "column                                                                       \n",
       "feature_5           0      1000           0            0      38148.000000  \\\n",
       "feature_6           0      1000           0            0          1.785209   \n",
       "\n",
       "           distribution/mean  distribution/median  distribution/min   \n",
       "column                                                                \n",
       "feature_5        2184.743000           715.000000          0.000000  \\\n",
       "feature_6          -1.798066            -1.543214         -6.845155   \n",
       "\n",
       "           distribution/n  distribution/q_01  distribution/q_05   \n",
       "column                                                            \n",
       "feature_5            1000          11.000000          22.000000  \\\n",
       "feature_6            1000          -5.256787          -4.975246   \n",
       "\n",
       "           distribution/q_10  distribution/q_25  distribution/q_75   \n",
       "column                                                               \n",
       "feature_5          33.000000            55.0000        3190.000000  \\\n",
       "feature_6          -4.793975            -4.1657           0.373155   \n",
       "\n",
       "           distribution/q_90  distribution/q_95  distribution/q_99   \n",
       "column                                                               \n",
       "feature_5        6248.000000         9141.00000       14388.000000  \\\n",
       "feature_6           1.207462            1.48241           1.724903   \n",
       "\n",
       "           distribution/stddev                type  types/boolean   \n",
       "column                                                              \n",
       "feature_5          3310.736242  SummaryType.COLUMN              0  \\\n",
       "feature_6             2.350622  SummaryType.COLUMN              0   \n",
       "\n",
       "           types/fractional  types/integral  types/object  types/string   \n",
       "column                                                                    \n",
       "feature_5              1000               0             0             0  \\\n",
       "feature_6              1000               0             0             0   \n",
       "\n",
       "           types/tensor  \n",
       "column                   \n",
       "feature_5             0  \n",
       "feature_6             0  "
      ]
     },
     "execution_count": 43,
     "metadata": {},
     "output_type": "execute_result"
    }
   ],
   "source": [
    "feb_whylogs_prof.to_pandas()"
   ]
  },
  {
   "cell_type": "markdown",
   "id": "41b68b25",
   "metadata": {
    "pycharm": {
     "name": "#%% md\n"
    }
   },
   "source": [
    "### Visualize Whylogs Profiles"
   ]
  },
  {
   "cell_type": "code",
   "execution_count": 44,
   "id": "ca2ef8d3",
   "metadata": {
    "collapsed": false,
    "jupyter": {
     "outputs_hidden": false
    },
    "pycharm": {
     "name": "#%%\n"
    },
    "tags": []
   },
   "outputs": [],
   "source": [
    "from whylogs.viz import NotebookProfileVisualizer\n",
    "\n",
    "from whylogs.viz.utils.histogram_calculations import histogram_from_view\n",
    "from whylogs.viz.utils.frequent_items_calculations import frequent_items_from_view"
   ]
  },
  {
   "cell_type": "code",
   "execution_count": 45,
   "id": "a86c54d2",
   "metadata": {
    "collapsed": false,
    "jupyter": {
     "outputs_hidden": false
    },
    "pycharm": {
     "name": "#%%\n"
    },
    "tags": []
   },
   "outputs": [],
   "source": [
    "visualization = NotebookProfileVisualizer()\n",
    "visualization.set_profiles(target_profile_view=feb_whylogs_prof, reference_profile_view=mar_whylogs_prof)"
   ]
  },
  {
   "cell_type": "code",
   "execution_count": 46,
   "id": "131fff26",
   "metadata": {
    "collapsed": false,
    "jupyter": {
     "outputs_hidden": false
    },
    "pycharm": {
     "name": "#%%\n"
    },
    "tags": []
   },
   "outputs": [
    {
     "data": {
      "text/html": [
       "<div></div><iframe srcdoc=\"&lt;!DOCTYPE html&gt;\n",
       "&lt;html lang=&quot;en&quot;&gt;\n",
       "  &lt;head&gt;\n",
       "    &lt;meta charset=&quot;UTF-8&quot; /&gt;\n",
       "    &lt;meta http-equiv=&quot;X-UA-Compatible&quot; content=&quot;IE=edge&quot; /&gt;\n",
       "    &lt;meta name=&quot;viewport&quot; content=&quot;width=device-width, initial-scale=1.0&quot; /&gt;\n",
       "    &lt;meta name=&quot;description&quot; content=&quot;&quot; /&gt;\n",
       "    &lt;meta name=&quot;author&quot; content=&quot;&quot; /&gt;\n",
       "\n",
       "    &lt;title&gt;Profile Visualizer | whylogs&lt;/title&gt;\n",
       "\n",
       "    &lt;link rel=&quot;icon&quot; href=&quot;images/whylabs-favicon.png&quot; type=&quot;image/png&quot; sizes=&quot;16x16&quot; /&gt;\n",
       "    &lt;link rel=&quot;preconnect&quot; href=&quot;https://fonts.googleapis.com&quot; /&gt;\n",
       "    &lt;link rel=&quot;preconnect&quot; href=&quot;https://fonts.gstatic.com&quot; crossorigin /&gt;\n",
       "    &lt;link href=&quot;https://fonts.googleapis.com/css2?family=Asap:wght@400;500;600;700&amp;display=swap&quot; rel=&quot;stylesheet&quot; /&gt;\n",
       "    &lt;link rel=&quot;preconnect&quot; href=&quot;https://fonts.gstatic.com&quot; /&gt;\n",
       "    &lt;link rel=&quot;stylesheet&quot; href=&quot;https://cdn.jsdelivr.net/npm/bootstrap@5.1.0/dist/css/bootstrap.min.css&quot; /&gt;\n",
       "\n",
       "    &lt;script\n",
       "      src=&quot;https://cdnjs.cloudflare.com/ajax/libs/handlebars.js/4.7.7/handlebars.min.js&quot;\n",
       "      integrity=&quot;sha512-RNLkV3d+aLtfcpEyFG8jRbnWHxUqVZozacROI4J2F1sTaDqo1dPQYs01OMi1t1w9Y2FdbSCDSQ2ZVdAC8bzgAg==&quot;\n",
       "      crossorigin=&quot;anonymous&quot;\n",
       "      referrerpolicy=&quot;no-referrer&quot;\n",
       "    &gt;&lt;/script&gt;\n",
       "\n",
       "    &lt;style type=&quot;text/css&quot;&gt;\n",
       "\n",
       "      :root {\n",
       "        /** Branded colors */\n",
       "        --brandSecondary900: #4f595b;\n",
       "        --secondaryLight1000: #313b3d;\n",
       "        /** Purpose colors */\n",
       "        --tealBackground: #eaf2f3;\n",
       "      }\n",
       "\n",
       "      /* RESET STYLE */\n",
       "      *,\n",
       "      *::after,\n",
       "      *::before {\n",
       "        margin: 0;\n",
       "        padding: 0;\n",
       "        box-sizing: border-box;\n",
       "        overflow-y: hidden;\n",
       "      }\n",
       "\n",
       "      /* Screen on smaller screens */\n",
       "      .no-responsive {\n",
       "        display: none;\n",
       "        position: fixed;\n",
       "        top: 0;\n",
       "        left: 0;\n",
       "        z-index: 1031;\n",
       "        width: 100vw;\n",
       "        height: 100vh;\n",
       "        background-color: var(--tealBackground);\n",
       "        display: flex;\n",
       "        align-items: center;\n",
       "        justify-content: center;\n",
       "      }\n",
       "\n",
       "      .desktop-content {\n",
       "        display: flex;\n",
       "        flex-direction: column;\n",
       "      }\n",
       "\n",
       "      .no-responsive__content {\n",
       "        max-width: 600px;\n",
       "        width: 100%;\n",
       "        padding: 0 24px;\n",
       "      }\n",
       "\n",
       "      .no-responsive__title {\n",
       "        font-size: 96px;\n",
       "        font-weight: 300;\n",
       "        color: var(--brandSecondary900);\n",
       "        line-height: 1.167;\n",
       "      }\n",
       "\n",
       "      .no-responsive__text {\n",
       "        margin: 0;\n",
       "        font-size: 16px;\n",
       "        font-weight: 400;\n",
       "        color: var(--brandSecondary900);\n",
       "        line-height: 1.5;\n",
       "      }\n",
       "\n",
       "      .svg-container {\n",
       "        display: inline-block;\n",
       "        position: relative;\n",
       "        width: 100%;\n",
       "        vertical-align: top;\n",
       "        overflow: hidden;\n",
       "      }\n",
       "\n",
       "      .svg-content-responsive {\n",
       "        display: inline-block;\n",
       "        position: absolute;\n",
       "        left: 0;\n",
       "      }\n",
       "\n",
       "      .circle-color {\n",
       "       display: inline-block;\n",
       "       padding: 5px;\n",
       "       border-radius: 50px;\n",
       "     }\n",
       "\n",
       "     .colors-for-distingushing-charts {\n",
       "       padding-right: 10px;\n",
       "     }\n",
       "\n",
       "     .display-flex{\n",
       "       display: flex;\n",
       "     }\n",
       "\n",
       "     .align-items-flex-end {\n",
       "       align-items: flex-end;\n",
       "     }\n",
       "\n",
       "     .chart-box-title {\n",
       "       width: 88%;\n",
       "       justify-content: space-between;\n",
       "       margin: 10px;\n",
       "       margin-top: 15px;\n",
       "       bottom: 0;\n",
       "     }\n",
       "\n",
       "     .chart-box-title p{\n",
       "       margin-bottom: 0;\n",
       "       font-family: Asap;\n",
       "       font-weight: bold;\n",
       "       font-size: 18px;\n",
       "       line-height: 16px;\n",
       "       color: #4F595B;\n",
       "     }\n",
       "\n",
       "    .bar {\n",
       "      font: 10px sans-serif;\n",
       "    }\n",
       "\n",
       "    .bar path,\n",
       "    .bar line {\n",
       "      fill: none;\n",
       "      stroke: #000;\n",
       "      shape-rendering: crispEdges;\n",
       "    }\n",
       "\n",
       "    .error-message {\n",
       "      display: flex;\n",
       "      justify-content: center;\n",
       "      align-items: center;\n",
       "      color: rgb(255, 114, 71);\n",
       "      font-size: 30px;\n",
       "      font-weight: 900;\n",
       "    }\n",
       "\n",
       "     @media screen and (min-width: 500px) {\n",
       "       .desktop-content {\n",
       "         display: block;\n",
       "       }\n",
       "       .no-responsive {\n",
       "         display: none;\n",
       "       }\n",
       "     }\n",
       "    &lt;/style&gt;\n",
       "  &lt;/head&gt;\n",
       "\n",
       "  &lt;body id=&quot;generated-html&quot;&gt;&lt;/body&gt;\n",
       "  &lt;script id=&quot;entry-template&quot; type=&quot;text/x-handlebars-template&quot;&gt;\n",
       "    \n",
       "      &lt;div class=&quot;desktop-content&quot;&gt;\n",
       "{{#each this}}              &lt;div class=&quot;chart-box&quot; id=&quot;chart-box&quot;&gt;\n",
       "                &lt;div class=&quot;chart-box-title display-flex&quot;&gt;\n",
       "                  &lt;p&gt;{{@key}}&lt;/p&gt;\n",
       "                  &lt;div class=&quot;display-flex&quot;&gt;\n",
       "                    &lt;div class=&quot;colors-for-distingushing-charts&quot;&gt;\n",
       "                      &lt;div class=&quot;circle-color&quot; style=&quot;background: #44C0E7;&quot;&gt;&lt;/div&gt;\n",
       "                      &lt;text alignment-baseline=&quot;middle&quot; style=&quot;font-size: 15px;&quot;&gt;Target&lt;/text&gt;\n",
       "                    &lt;/div&gt;\n",
       "                    &lt;div class=&quot;colors-for-distingushing-charts&quot;&gt;\n",
       "                      &lt;div class=&quot;circle-color&quot; style=&quot;background: #F5843C&quot;&gt;&lt;/div&gt;\n",
       "                      &lt;text alignment-baseline=&quot;middle&quot; style=&quot;font-size: 15px;&quot;&gt;Reference&lt;/text&gt;\n",
       "                    &lt;/div&gt;\n",
       "                  &lt;/div&gt;&lt;/div&gt;\n",
       "                &lt;div class=&quot;svg-container&quot;&gt;{{{getDoubleHistogramChart this}}}&lt;/div&gt;\n",
       "              &lt;/div&gt;\n",
       "{{/each}}      &lt;/div&gt;\n",
       "      &lt;div class=&quot;no-responsive&quot;&gt;\n",
       "        &lt;div class=&quot;no-responsive__content&quot;&gt;\n",
       "          &lt;h1 class=&quot;no-responsive__title&quot;&gt;Hold on! :)&lt;/h1&gt;\n",
       "          &lt;p class=&quot;no-responsive__text&quot;&gt;\n",
       "            It looks like your current screen size or device is not yet supported by the WhyLabs Sandbox. The Sandbox is\n",
       "            best experienced on a desktop computer. Please try maximizing this window or switching to another device. We\n",
       "            are working on adding support for a larger variety of devices.\n",
       "          &lt;/p&gt;\n",
       "        &lt;/div&gt;\n",
       "      &lt;/div&gt;\n",
       "    \n",
       "  &lt;/script&gt;\n",
       "\n",
       "  &lt;script src=&quot;https://code.jquery.com/jquery-3.6.0.min.js&quot; integrity=&quot;sha256-/xUj+3OJU5yExlq6GSYGSHk7tPXikynS7ogEvDej/m4=&quot; crossorigin=&quot;anonymous&quot;&gt;&lt;/script&gt;\n",
       "\n",
       "  &lt;script src=&quot;https://cdnjs.cloudflare.com/ajax/libs/d3/6.7.0/d3.min.js&quot; integrity=&quot;sha512-cd6CHE+XWDQ33ElJqsi0MdNte3S+bQY819f7p3NUHgwQQLXSKjE4cPZTeGNI+vaxZynk1wVU3hoHmow3m089wA==&quot; crossorigin=&quot;anonymous&quot; referrerpolicy=&quot;no-referrer&quot;&gt;&lt;/script&gt;\n",
       "\n",
       "  &lt;script&gt;\n",
       "    function registerHandlebarHelperFunctions() {\n",
       "      //helper fun\n",
       "\n",
       "      class GenerateChartParams {\n",
       "        constructor(height, width, targetData, referenceData, bottomMargin=30, topMargin=5) {\n",
       "          this.MARGIN = {\n",
       "            TOP: topMargin,\n",
       "            RIGHT: 5,\n",
       "            BOTTOM: bottomMargin,\n",
       "            LEFT: 55,\n",
       "          };\n",
       "          this.SVG_WIDTH = width;\n",
       "          this.SVG_HEIGHT = height;\n",
       "          this.CHART_WIDTH = this.SVG_WIDTH - this.MARGIN.LEFT - this.MARGIN.RIGHT;\n",
       "          this.CHART_HEIGHT = this.SVG_HEIGHT - this.MARGIN.TOP - this.MARGIN.BOTTOM;\n",
       "          this.svgEl = d3.create(&quot;svg&quot;)\n",
       "             .attr(&quot;preserveAspectRatio&quot;, &quot;xMinYMin meet&quot;)\n",
       "             .attr(&quot;viewBox&quot;, `0 0 ${$(window).width()+100} ${$(window).height()-30}`)\n",
       "             .classed(&quot;svg-content-responsive&quot;, true)\n",
       "          this.maxYValue = d3.max(targetData, (d) =&gt; Math.abs(d.axisY));\n",
       "          this.minYValue = d3.min(targetData, (d) =&gt; Math.abs(d.axisY));\n",
       "          const mergedReferenceData = referenceData.map(({axisX, axisY}) =&gt; {\n",
       "            return {axisX, axisY}\n",
       "          })\n",
       "          const mergedTargetedData = targetData.map(({axisX, axisY}) =&gt; {\n",
       "            return {axisX, axisY}\n",
       "          })\n",
       "\n",
       "          this.charts2 = mergedReferenceData.concat(mergedTargetedData)\n",
       "          this.charts2 = this.charts2.sort(function(a, b) { return a - b; });\n",
       "\n",
       "          this.targetBinWidth = targetData[1]?.axisX - targetData[0]?.axisX\n",
       "          this.referenceBinWidth = referenceData[1]?.axisX - referenceData[0]?.axisX\n",
       "          this.maxTargetXValue = d3.max(targetData, (d) =&gt; d.axisX);\n",
       "\n",
       "          this.maxReferenceXValue = d3.max(referenceData, (d) =&gt; d.axisX);\n",
       "\n",
       "          this.xScale = d3\n",
       "              .scaleLinear()\n",
       "         .domain([d3.min(this.charts2, function(d) { return parseFloat(d.axisX); }),(this.maxTargetXValue+this.targetBinWidth &gt;= this.maxReferenceXValue+this.referenceBinWidth) ? this.maxTargetXValue+this.targetBinWidth:this.maxReferenceXValue+this.referenceBinWidth])\n",
       "         .range([0, this.CHART_WIDTH ]);\n",
       "\n",
       "         this.svgEl.append(&quot;g&quot;)\n",
       "             .attr(&quot;transform&quot;, &quot;translate(&quot;+ this.MARGIN.LEFT +&quot;,&quot; + this.SVG_HEIGHT + &quot;)&quot;)\n",
       "             .call(d3.axisBottom(this.xScale));\n",
       "          this.yScale = d3.scaleLinear()\n",
       "              .range([this.CHART_HEIGHT , 0])\n",
       "              .domain([d3.min(this.charts2, function(d) { return parseFloat(d.axisY); }), d3.max(this.charts2, function(d) { return parseFloat(d.axisY); })*1.2])\n",
       "              .nice();\n",
       "        }\n",
       "      }\n",
       "\n",
       "      function chartData(column) {\n",
       "        const data = [];\n",
       "        if (column?.histogram) {\n",
       "          for (let i = 0; i&lt;column.histogram.bins.length; i++) {\n",
       "            data.push({\n",
       "              axisY: column.histogram.counts[i] || 0,\n",
       "              axisX: column.histogram.bins[i] || 0,\n",
       "            });\n",
       "          }\n",
       "        } else {\n",
       "            $(document).ready(() =&gt;\n",
       "              $(&quot;.desktop-content&quot;).html(`\n",
       "                &lt;p style=&quot;height: ${$(window).height()}px&quot; class=&quot;error-message&quot;&gt;\n",
       "                  Something went wrong. Please try again.\n",
       "                &lt;/p&gt;\n",
       "              `)\n",
       "            )\n",
       "          }\n",
       "\n",
       "        return data\n",
       "      }\n",
       "\n",
       "      function generateDoubleHistogramChart(targetData, referenceData) {\n",
       "        let histogramData = [],\n",
       "            overlappedHistogramData = [];\n",
       "        let yFormat;\n",
       "\n",
       "        histogramData = chartData(targetData)\n",
       "        overlappedHistogramData = chartData(referenceData)\n",
       "\n",
       "        const sizes = new GenerateChartParams($(window).height()-80, $(window).width(), histogramData, overlappedHistogramData)\n",
       "        const {\n",
       "          MARGIN,\n",
       "          SVG_WIDTH,\n",
       "          SVG_HEIGHT,\n",
       "          CHART_WIDTH,\n",
       "          CHART_HEIGHT,\n",
       "          svgEl,\n",
       "          maxYValue,\n",
       "          minYValue,\n",
       "          xScale,\n",
       "          yScale\n",
       "        } = sizes\n",
       "\n",
       "        const rectColors = [&quot;#44C0E7&quot;, &quot;#F5843C&quot;]\n",
       "        const yAxis = d3.axisLeft(yScale).ticks(SVG_HEIGHT / 40);\n",
       "\n",
       "        svgEl.append(&quot;g&quot;)\n",
       "          .attr(&quot;transform&quot;, `translate(${MARGIN.LEFT}, ${MARGIN.BOTTOM})`)\n",
       "          .call(yAxis)\n",
       "          .call(g =&gt; g.select(&quot;.domain&quot;).remove())\n",
       "          .call(g =&gt; g.selectAll(&quot;.tick line&quot;)\n",
       "              .attr(&quot;x2&quot;, CHART_WIDTH)\n",
       "              .attr(&quot;stroke-opacity&quot;, 0.1))\n",
       "          .call(g =&gt; g.append(&quot;text&quot;)\n",
       "              .attr(&quot;x&quot;, -MARGIN.LEFT)\n",
       "              .attr(&quot;y&quot;, 10)\n",
       "              .attr(&quot;fill&quot;, &quot;currentColor&quot;)\n",
       "              .attr(&quot;text-anchor&quot;, &quot;start&quot;))\n",
       "\n",
       "        svgEl.append(&quot;text&quot;)\n",
       "          .attr(&quot;transform&quot;,\n",
       "                &quot;translate(&quot; + (CHART_WIDTH/2) + &quot; ,&quot; +\n",
       "                               (CHART_HEIGHT + MARGIN.TOP + 75) + &quot;)&quot;)\n",
       "          .style(&quot;text-anchor&quot;, &quot;middle&quot;)\n",
       "          .text(&quot;Values&quot;)\n",
       "          .style(&quot;font-size&quot;, &quot;15&quot;)\n",
       "          .style(&quot;opacity&quot;, &quot;0.6&quot;)\n",
       "\n",
       "        svgEl.append(&quot;text&quot;)\n",
       "          .attr(&quot;transform&quot;, &quot;rotate(-90)&quot;)\n",
       "          .attr(&quot;y&quot;, 0)\n",
       "          .attr(&quot;x&quot;, 0 - (SVG_HEIGHT / 2))\n",
       "          .attr(&quot;dy&quot;, &quot;1em&quot;)\n",
       "          .style(&quot;text-anchor&quot;, &quot;middle&quot;)\n",
       "          .text(&quot;Counts&quot;)\n",
       "          .style(&quot;font-size&quot;, &quot;15&quot;)\n",
       "          .style(&quot;opacity&quot;, &quot;0.6&quot;)\n",
       "\n",
       "          const gChart = svgEl.append(&quot;g&quot;);\n",
       "          gChart\n",
       "          .attr(&quot;transform&quot;, &quot;translate(&quot;+ MARGIN.LEFT +&quot;,0)&quot;)\n",
       "          .selectAll(&quot;.bar&quot;)\n",
       "          .data(histogramData)\n",
       "          .enter()\n",
       "          .append(&quot;rect&quot;)\n",
       "          .style(&quot;stroke&quot;, &quot;#021826&quot;)\n",
       "          .classed(&quot;bar&quot;, true)\n",
       "          .attr(&quot;width&quot;, function(d) { return xScale(histogramData[1]?.axisX)-xScale(histogramData[0]?.axisX); })\n",
       "          .attr(&quot;height&quot;, (d) =&gt; CHART_HEIGHT - yScale(d.axisY))\n",
       "          .attr(&quot;x&quot;, 1)\n",
       "          .attr(&quot;transform&quot;, function(d) { return &quot;translate(&quot; + xScale(d.axisX) + &quot;,&quot; + 0  +  &quot;)&quot;; })\n",
       "          .attr(&quot;y&quot;, (d) =&gt; yScale(d.axisY) + MARGIN.TOP + MARGIN.BOTTOM)\n",
       "          .attr(&quot;fill&quot;, rectColors[0])\n",
       "          .style(&quot;opacity&quot;,&quot;0.6&quot;)\n",
       "\n",
       "          const gChart1 = svgEl.append(&quot;g&quot;);\n",
       "          gChart1\n",
       "          .attr(&quot;transform&quot;, &quot;translate(&quot;+ MARGIN.LEFT +&quot;,0)&quot;)\n",
       "          .selectAll(&quot;.bar&quot;)\n",
       "          .data(overlappedHistogramData)\n",
       "          .enter()\n",
       "          .append(&quot;rect&quot;)\n",
       "          .style(&quot;stroke&quot;, &quot;#021826&quot;)\n",
       "          .classed(&quot;bar&quot;, true)\n",
       "          .attr(&quot;width&quot;, function(d) { return xScale(overlappedHistogramData[1]?.axisX)-xScale(overlappedHistogramData[0]?.axisX); })\n",
       "          .attr(&quot;height&quot;, (d) =&gt; CHART_HEIGHT - yScale(d.axisY))\n",
       "          .attr(&quot;x&quot;, 1)\n",
       "          .attr(&quot;transform&quot;, function(d) { return &quot;translate(&quot; + xScale(d.axisX) + &quot;,&quot; + 0  +  &quot;)&quot;; })\n",
       "          .attr(&quot;y&quot;, (d) =&gt; yScale(d.axisY) + MARGIN.TOP + MARGIN.BOTTOM)\n",
       "          .attr(&quot;fill&quot;, rectColors[1])\n",
       "          .style(&quot;opacity&quot;,&quot;0.6&quot;)\n",
       "\n",
       "        return svgEl._groups[0][0].outerHTML;\n",
       "      }\n",
       "\n",
       "      const profileFromCSVfile = {&quot;feature_6&quot;: {&quot;histogram&quot;: {&quot;start&quot;: -5.0196249854, &quot;end&quot;: 1.815312072231189, &quot;width&quot;: 0, &quot;counts&quot;: [15, 15, 15, 14, 15, 21, 6, 0, 2, 1, 0, 0, 0, 1, 6, 4, 7, 1, 3, 2, 9, 1, 22, 12, 14, 19, 15, 17, 18, 12], &quot;max&quot;: 1.8153118907, &quot;min&quot;: -5.0196249854, &quot;bins&quot;: [-5.0196249854, -4.791793750145628, -4.563962514891254, -4.336131279636882, -4.108300044382508, -3.8804688091281356, -3.652637573873762, -3.4248063386193897, -3.1969751033650162, -2.9691438681106437, -2.7413126328562707, -2.5134813976018977, -2.2856501623475247, -2.0578189270931517, -1.8299876918387787, -1.6021564565844058, -1.3743252213300328, -1.1464939860756598, -0.9186627508212872, -0.6908315155669138, -0.46300028031254126, -0.23516904505816782, -0.007337809803795281, 0.22049342545057815, 0.4483246607049507, 0.6761558959593241, 0.9039871312136967, 1.13181836646807, 1.3596496017224426, 1.587480836976816, 1.8153120722311886], &quot;n&quot;: 267}}}\n",
       "\n",
       "      Handlebars.registerHelper(&quot;getDoubleHistogramChart&quot;,(column,key) =&gt; {\n",
       "          const columnKey = key.data.key\n",
       "        try {\n",
       "          if (profileFromCSVfile) {\n",
       "          return  generateDoubleHistogramChart (\n",
       "              column,\n",
       "              profileFromCSVfile[columnKey]\n",
       "            )\n",
       "          }\n",
       "        } catch (err) {\n",
       "          $(document).ready(() =&gt;\n",
       "            $(&quot;.desktop-content&quot;).html(`\n",
       "              &lt;p style=&quot;height: ${$(window).height()}px&quot; class=&quot;error-message&quot;&gt;\n",
       "                Something went wrong. Please try again.\n",
       "              &lt;/p&gt;\n",
       "            `)\n",
       "          )\n",
       "        }\n",
       "      });\n",
       "    }\n",
       "\n",
       "    function initWebsiteScripts() {\n",
       "      $(&quot;.svg-container&quot;).css(&quot;height&quot;, $(window).height() - 32)\n",
       "    }\n",
       "\n",
       "    function initHandlebarsTemplate() {\n",
       "      // Replace this context with JSON from .py file\n",
       "      const context = {&quot;feature_6&quot;: {&quot;histogram&quot;: {&quot;start&quot;: -6.8451554618, &quot;end&quot;: 1.785209607420943, &quot;width&quot;: 0, &quot;counts&quot;: [2, 2, 0, 0, 1, 13, 71, 73, 72, 74, 58, 25, 11, 13, 6, 7, 21, 35, 37, 27, 26, 18, 27, 42, 81, 55, 56, 49, 54, 44], &quot;max&quot;: 1.7852094289, &quot;min&quot;: -6.8451554618, &quot;bins&quot;: [-6.8451554618, -6.557476626159302, -6.269797790518604, -5.9821189548779055, -5.694440119237208, -5.406761283596509, -5.119082447955812, -4.831403612315113, -4.543724776674415, -4.256045941033717, -3.968367105393019, -3.680688269752321, -3.3930094341116224, -3.1053305984709243, -2.8176517628302262, -2.5299729271895286, -2.24229409154883, -1.9546152559081316, -1.666936420267434, -1.3792575846267354, -1.0915787489860378, -0.8038999133453393, -0.5162210777046417, -0.22854224206394314, 0.05913659357675538, 0.346815429217453, 0.6344942648581515, 0.9221731004988492, 1.2098519361395477, 1.4975307717802453, 1.785209607420943], &quot;n&quot;: 1000}}};\n",
       "      // Config handlebars and pass data to HBS template\n",
       "      const source = document.getElementById(&quot;entry-template&quot;).innerHTML;\n",
       "      const template = Handlebars.compile(source);\n",
       "      const html = template(context);\n",
       "      const target = document.getElementById(&quot;generated-html&quot;);\n",
       "      target.innerHTML = html;\n",
       "    }\n",
       "\n",
       "    // Invoke functions -- keep in mind invokation order\n",
       "    registerHandlebarHelperFunctions();\n",
       "    initHandlebarsTemplate();\n",
       "    initWebsiteScripts();\n",
       "  &lt;/script&gt;\n",
       "&lt;/html&gt;\n",
       "\" width=100% height=300px\n",
       "        frameBorder=0></iframe>"
      ],
      "text/plain": [
       "<IPython.core.display.HTML object>"
      ]
     },
     "execution_count": 46,
     "metadata": {},
     "output_type": "execute_result"
    }
   ],
   "source": [
    "visualization.double_histogram(feature_name=\"feature_6\")"
   ]
  },
  {
   "cell_type": "markdown",
   "id": "ff5f2efb",
   "metadata": {
    "pycharm": {
     "name": "#%% md\n"
    }
   },
   "source": [
    "### Serialize Whylogs Profiles"
   ]
  },
  {
   "cell_type": "code",
   "execution_count": 47,
   "id": "7deefb43",
   "metadata": {
    "collapsed": false,
    "jupyter": {
     "outputs_hidden": false
    },
    "pycharm": {
     "name": "#%%\n"
    },
    "tags": []
   },
   "outputs": [
    {
     "data": {
      "text/plain": [
       "b'WHY1\\x00\\xc2\\x02\\n\\x0e \\xe6\\xe0\\xe4\\xd1\\xfb0(\\xe6\\xe0\\xe4\\xd1\\xfb0\\x12\\x10\\n\\tfeature_5\\x12\\x03\\n\\x01\\x00\\x12\\x11\\n\\tfeature_6\\x12\\x04\\n\\x02\\xa6P \\xd4\\x97\\x01*\\x0e\\x08\\x01\\x12\\ncounts/inf*\\x12\\x08\\n\\x12\\x0etypes/integral'"
      ]
     },
     "execution_count": 47,
     "metadata": {},
     "output_type": "execute_result"
    }
   ],
   "source": [
    "feb_whylogs_prof.serialize()[0:100]"
   ]
  },
  {
   "cell_type": "code",
   "execution_count": null,
   "id": "1c08e17d",
   "metadata": {
    "collapsed": false,
    "jupyter": {
     "outputs_hidden": false
    },
    "pycharm": {
     "name": "#%%\n"
    }
   },
   "outputs": [],
   "source": []
  },
  {
   "cell_type": "markdown",
   "id": "c6589ae7",
   "metadata": {
    "pycharm": {
     "name": "#%% md\n"
    }
   },
   "source": [
    "### Generate Hourly Profiles using Fugue"
   ]
  },
  {
   "cell_type": "code",
   "execution_count": 48,
   "id": "11ee03ce",
   "metadata": {
    "collapsed": false,
    "jupyter": {
     "outputs_hidden": false
    },
    "pycharm": {
     "name": "#%%\n"
    },
    "tags": []
   },
   "outputs": [],
   "source": [
    "import json\n",
    "import pandas as pd\n",
    "\n",
    "def profile_features(features_df: pd.DataFrame) -> pd.DataFrame:\n",
    "    features_buf = why.log(features_df[['feature_1', 'feature_2', 'feature_3', 'feature_4', 'feature_5', 'feature_6']]).view().serialize()\n",
    "    predictions_buf = why.log(features_df[['predictions']]).view().serialize()\n",
    "    profiled_features = features_df.head(1).copy()\n",
    "    profiled_features = profiled_features.drop(['occurred_at'], axis=1)\n",
    "    profiled_features = profiled_features.assign(features_profile=features_buf, predictions_profile = predictions_buf, sample_records=len(features_df))\n",
    "    return profiled_features"
   ]
  },
  {
   "cell_type": "code",
   "execution_count": 49,
   "id": "5a4db369",
   "metadata": {
    "collapsed": false,
    "jupyter": {
     "outputs_hidden": false
    },
    "pycharm": {
     "name": "#%%\n"
    },
    "tags": []
   },
   "outputs": [
    {
     "data": {
      "text/plain": [
       "(1000, 12)"
      ]
     },
     "execution_count": 49,
     "metadata": {},
     "output_type": "execute_result"
    }
   ],
   "source": [
    "feb_test_df.shape"
   ]
  },
  {
   "cell_type": "code",
   "execution_count": 50,
   "id": "cd499ad2",
   "metadata": {
    "collapsed": false,
    "jupyter": {
     "outputs_hidden": false
    },
    "pycharm": {
     "name": "#%%\n"
    },
    "tags": []
   },
   "outputs": [
    {
     "data": {
      "text/html": [
       "<div>\n",
       "<style scoped>\n",
       "    .dataframe tbody tr th:only-of-type {\n",
       "        vertical-align: middle;\n",
       "    }\n",
       "\n",
       "    .dataframe tbody tr th {\n",
       "        vertical-align: top;\n",
       "    }\n",
       "\n",
       "    .dataframe thead th {\n",
       "        text-align: right;\n",
       "    }\n",
       "</style>\n",
       "<table border=\"1\" class=\"dataframe\">\n",
       "  <thead>\n",
       "    <tr style=\"text-align: right;\">\n",
       "      <th></th>\n",
       "      <th>ds</th>\n",
       "      <th>hour</th>\n",
       "      <th>model_name</th>\n",
       "      <th>version</th>\n",
       "      <th>predictions</th>\n",
       "      <th>feature_1</th>\n",
       "      <th>feature_2</th>\n",
       "      <th>feature_3</th>\n",
       "      <th>feature_4</th>\n",
       "      <th>feature_5</th>\n",
       "      <th>feature_6</th>\n",
       "      <th>features_profile</th>\n",
       "      <th>predictions_profile</th>\n",
       "      <th>sample_records</th>\n",
       "    </tr>\n",
       "  </thead>\n",
       "  <tbody>\n",
       "    <tr>\n",
       "      <th>0</th>\n",
       "      <td>2023-02-10</td>\n",
       "      <td>5</td>\n",
       "      <td>demo_model</td>\n",
       "      <td>1.0.1</td>\n",
       "      <td>59.753181</td>\n",
       "      <td>0.0</td>\n",
       "      <td>1.904762</td>\n",
       "      <td>-16.573775</td>\n",
       "      <td>-231.864749</td>\n",
       "      <td>10087.0</td>\n",
       "      <td>0.528394</td>\n",
       "      <td>b'WHY1\\x00\\x92\\x03\\n\\x0e \\xda\\xde\\xe9\\xd1\\xfb0(\\xda\\xde\\xe9\\xd1\\xfb0\\x12\\x11\\n\\tfeature_2\\x12\\x0...</td>\n",
       "      <td>b'WHY1\\x00\\xb0\\x02\\n\\x0e \\xcd\\xdf\\xe9\\xd1\\xfb0(\\xcd\\xdf\\xe9\\xd1\\xfb0\\x12\\x12\\n\\x0bpredictions\\x1...</td>\n",
       "      <td>1000</td>\n",
       "    </tr>\n",
       "  </tbody>\n",
       "</table>\n",
       "</div>"
      ],
      "text/plain": [
       "           ds  hour  model_name version  predictions  feature_1  feature_2   \n",
       "0  2023-02-10     5  demo_model   1.0.1    59.753181        0.0   1.904762  \\\n",
       "\n",
       "   feature_3   feature_4  feature_5  feature_6   \n",
       "0 -16.573775 -231.864749    10087.0   0.528394  \\\n",
       "\n",
       "                                                                                      features_profile   \n",
       "0  b'WHY1\\x00\\x92\\x03\\n\\x0e \\xda\\xde\\xe9\\xd1\\xfb0(\\xda\\xde\\xe9\\xd1\\xfb0\\x12\\x11\\n\\tfeature_2\\x12\\x0...  \\\n",
       "\n",
       "                                                                                   predictions_profile   \n",
       "0  b'WHY1\\x00\\xb0\\x02\\n\\x0e \\xcd\\xdf\\xe9\\xd1\\xfb0(\\xcd\\xdf\\xe9\\xd1\\xfb0\\x12\\x12\\n\\x0bpredictions\\x1...  \\\n",
       "\n",
       "   sample_records  \n",
       "0            1000  "
      ]
     },
     "execution_count": 50,
     "metadata": {},
     "output_type": "execute_result"
    }
   ],
   "source": [
    "profile_features(feb_test_df[(feb_test_df['ds'] == '2023-02-10') & (feb_test_df['hour'] == 5)])"
   ]
  },
  {
   "cell_type": "code",
   "execution_count": 51,
   "id": "ea71d7ea",
   "metadata": {
    "collapsed": false,
    "jupyter": {
     "outputs_hidden": false
    },
    "pycharm": {
     "name": "#%%\n"
    },
    "tags": []
   },
   "outputs": [],
   "source": [
    "from fugue import transform\n",
    "\n",
    "hourly_feature_profile_df = transform(\n",
    "    df=features_df, \n",
    "    using=profile_features, \n",
    "    schema=\"*-occurred_at+features_profile:binary,predictions_profile:binary,sample_records:long\",\n",
    "    partition=dict(by=['ds', 'hour', 'model_name', 'version']), \n",
    "    engine=None\n",
    ")"
   ]
  },
  {
   "cell_type": "code",
   "execution_count": 52,
   "id": "778cbd75",
   "metadata": {
    "collapsed": false,
    "jupyter": {
     "outputs_hidden": false
    },
    "pycharm": {
     "name": "#%%\n"
    },
    "tags": []
   },
   "outputs": [
    {
     "data": {
      "text/html": [
       "<div>\n",
       "<style scoped>\n",
       "    .dataframe tbody tr th:only-of-type {\n",
       "        vertical-align: middle;\n",
       "    }\n",
       "\n",
       "    .dataframe tbody tr th {\n",
       "        vertical-align: top;\n",
       "    }\n",
       "\n",
       "    .dataframe thead th {\n",
       "        text-align: right;\n",
       "    }\n",
       "</style>\n",
       "<table border=\"1\" class=\"dataframe\">\n",
       "  <thead>\n",
       "    <tr style=\"text-align: right;\">\n",
       "      <th></th>\n",
       "      <th>ds</th>\n",
       "      <th>hour</th>\n",
       "      <th>model_name</th>\n",
       "      <th>version</th>\n",
       "      <th>predictions</th>\n",
       "      <th>feature_1</th>\n",
       "      <th>feature_2</th>\n",
       "      <th>feature_3</th>\n",
       "      <th>feature_4</th>\n",
       "      <th>feature_5</th>\n",
       "      <th>feature_6</th>\n",
       "      <th>features_profile</th>\n",
       "      <th>predictions_profile</th>\n",
       "      <th>sample_records</th>\n",
       "    </tr>\n",
       "  </thead>\n",
       "  <tbody>\n",
       "    <tr>\n",
       "      <th>0</th>\n",
       "      <td>2023-01-01</td>\n",
       "      <td>0</td>\n",
       "      <td>demo_model</td>\n",
       "      <td>1.0.1</td>\n",
       "      <td>28.874601</td>\n",
       "      <td>0.0</td>\n",
       "      <td>5.000000e+08</td>\n",
       "      <td>-13.291135</td>\n",
       "      <td>-303.546123</td>\n",
       "      <td>957.0</td>\n",
       "      <td>-6.954191</td>\n",
       "      <td>b'WHY1\\x00\\x92\\x03\\n\\x0e \\xce\\xb4\\xea\\xd1\\xfb0(\\xce\\xb4\\xea\\xd1\\xfb0\\x12\\x12\\n\\tfeature_6\\x12\\x0...</td>\n",
       "      <td>b'WHY1\\x00\\xb0\\x02\\n\\x0e \\xca\\xb5\\xea\\xd1\\xfb0(\\xca\\xb5\\xea\\xd1\\xfb0\\x12\\x12\\n\\x0bpredictions\\x1...</td>\n",
       "      <td>1000</td>\n",
       "    </tr>\n",
       "    <tr>\n",
       "      <th>1</th>\n",
       "      <td>2023-01-01</td>\n",
       "      <td>1</td>\n",
       "      <td>demo_model</td>\n",
       "      <td>1.0.1</td>\n",
       "      <td>34.759167</td>\n",
       "      <td>1.0</td>\n",
       "      <td>2.619048e+00</td>\n",
       "      <td>-13.291135</td>\n",
       "      <td>-226.094488</td>\n",
       "      <td>1111.0</td>\n",
       "      <td>-5.675494</td>\n",
       "      <td>b'WHY1\\x00\\x92\\x03\\n\\x0e \\xf1\\xb5\\xea\\xd1\\xfb0(\\xf1\\xb5\\xea\\xd1\\xfb0\\x12\\x12\\n\\tfeature_6\\x12\\x0...</td>\n",
       "      <td>b'WHY1\\x00\\xb0\\x02\\n\\x0e \\xd8\\xb6\\xea\\xd1\\xfb0(\\xd8\\xb6\\xea\\xd1\\xfb0\\x12\\x12\\n\\x0bpredictions\\x1...</td>\n",
       "      <td>1000</td>\n",
       "    </tr>\n",
       "    <tr>\n",
       "      <th>2</th>\n",
       "      <td>2023-01-01</td>\n",
       "      <td>2</td>\n",
       "      <td>demo_model</td>\n",
       "      <td>1.0.1</td>\n",
       "      <td>31.434237</td>\n",
       "      <td>0.0</td>\n",
       "      <td>5.000000e+08</td>\n",
       "      <td>-13.291135</td>\n",
       "      <td>-257.492325</td>\n",
       "      <td>1969.0</td>\n",
       "      <td>-3.698853</td>\n",
       "      <td>b'WHY1\\x00\\x92\\x03\\n\\x0e \\xf9\\xb6\\xea\\xd1\\xfb0(\\xf9\\xb6\\xea\\xd1\\xfb0\\x12\\x10\\n\\tfeature_1\\x12\\x0...</td>\n",
       "      <td>b'WHY1\\x00\\xb0\\x02\\n\\x0e \\xe0\\xb7\\xea\\xd1\\xfb0(\\xe0\\xb7\\xea\\xd1\\xfb0\\x12\\x12\\n\\x0bpredictions\\x1...</td>\n",
       "      <td>1000</td>\n",
       "    </tr>\n",
       "    <tr>\n",
       "      <th>3</th>\n",
       "      <td>2023-01-01</td>\n",
       "      <td>3</td>\n",
       "      <td>demo_model</td>\n",
       "      <td>1.0.1</td>\n",
       "      <td>26.973177</td>\n",
       "      <td>0.0</td>\n",
       "      <td>0.000000e+00</td>\n",
       "      <td>-13.291135</td>\n",
       "      <td>-260.120910</td>\n",
       "      <td>990.0</td>\n",
       "      <td>-3.830946</td>\n",
       "      <td>b'WHY1\\x00\\x92\\x03\\n\\x0e \\x82\\xb8\\xea\\xd1\\xfb0(\\x82\\xb8\\xea\\xd1\\xfb0\\x12\\x11\\n\\tfeature_2\\x12\\x0...</td>\n",
       "      <td>b'WHY1\\x00\\xb0\\x02\\n\\x0e \\xe9\\xb8\\xea\\xd1\\xfb0(\\xe9\\xb8\\xea\\xd1\\xfb0\\x12\\x12\\n\\x0bpredictions\\x1...</td>\n",
       "      <td>1000</td>\n",
       "    </tr>\n",
       "    <tr>\n",
       "      <th>4</th>\n",
       "      <td>2023-01-01</td>\n",
       "      <td>4</td>\n",
       "      <td>demo_model</td>\n",
       "      <td>1.0.1</td>\n",
       "      <td>18.229908</td>\n",
       "      <td>0.0</td>\n",
       "      <td>2.590361e+00</td>\n",
       "      <td>-13.291135</td>\n",
       "      <td>-368.447875</td>\n",
       "      <td>55.0</td>\n",
       "      <td>-6.030039</td>\n",
       "      <td>b'WHY1\\x00\\x92\\x03\\n\\x0e \\x8a\\xb9\\xea\\xd1\\xfb0(\\x8a\\xb9\\xea\\xd1\\xfb0\\x12\\x11\\n\\tfeature_2\\x12\\x0...</td>\n",
       "      <td>b'WHY1\\x00\\xb0\\x02\\n\\x0e \\xf1\\xb9\\xea\\xd1\\xfb0(\\xf1\\xb9\\xea\\xd1\\xfb0\\x12\\x12\\n\\x0bpredictions\\x1...</td>\n",
       "      <td>1000</td>\n",
       "    </tr>\n",
       "    <tr>\n",
       "      <th>...</th>\n",
       "      <td>...</td>\n",
       "      <td>...</td>\n",
       "      <td>...</td>\n",
       "      <td>...</td>\n",
       "      <td>...</td>\n",
       "      <td>...</td>\n",
       "      <td>...</td>\n",
       "      <td>...</td>\n",
       "      <td>...</td>\n",
       "      <td>...</td>\n",
       "      <td>...</td>\n",
       "      <td>...</td>\n",
       "      <td>...</td>\n",
       "      <td>...</td>\n",
       "    </tr>\n",
       "    <tr>\n",
       "      <th>2091</th>\n",
       "      <td>2023-03-29</td>\n",
       "      <td>3</td>\n",
       "      <td>demo_model</td>\n",
       "      <td>1.0.1</td>\n",
       "      <td>16.853651</td>\n",
       "      <td>0.0</td>\n",
       "      <td>1.739130e+00</td>\n",
       "      <td>16.573775</td>\n",
       "      <td>-226.308186</td>\n",
       "      <td>22.0</td>\n",
       "      <td>-0.404220</td>\n",
       "      <td>b'WHY1\\x00\\x8d\\x03\\n\\x0e \\xd4\\xc5\\xfa\\xd1\\xfb0(\\xd4\\xc5\\xfa\\xd1\\xfb0\\x12\\x11\\n\\tfeature_2\\x12\\x0...</td>\n",
       "      <td>b'WHY1\\x00\\xb0\\x02\\n\\x0e \\x8e\\xc6\\xfa\\xd1\\xfb0(\\x8e\\xc6\\xfa\\xd1\\xfb0\\x12\\x12\\n\\x0bpredictions\\x1...</td>\n",
       "      <td>188</td>\n",
       "    </tr>\n",
       "    <tr>\n",
       "      <th>2092</th>\n",
       "      <td>2023-03-29</td>\n",
       "      <td>4</td>\n",
       "      <td>demo_model</td>\n",
       "      <td>1.0.1</td>\n",
       "      <td>30.805862</td>\n",
       "      <td>1.0</td>\n",
       "      <td>4.736842e+00</td>\n",
       "      <td>16.573775</td>\n",
       "      <td>-355.970607</td>\n",
       "      <td>44.0</td>\n",
       "      <td>-4.701136</td>\n",
       "      <td>b'WHY1\\x00\\x8d\\x03\\n\\x0e \\xa8\\xc6\\xfa\\xd1\\xfb0(\\xa8\\xc6\\xfa\\xd1\\xfb0\\x12\\x11\\n\\tfeature_6\\x12\\x0...</td>\n",
       "      <td>b'WHY1\\x00\\xb0\\x02\\n\\x0e \\xde\\xc6\\xfa\\xd1\\xfb0(\\xde\\xc6\\xfa\\xd1\\xfb0\\x12\\x12\\n\\x0bpredictions\\x1...</td>\n",
       "      <td>125</td>\n",
       "    </tr>\n",
       "    <tr>\n",
       "      <th>2093</th>\n",
       "      <td>2023-03-29</td>\n",
       "      <td>5</td>\n",
       "      <td>demo_model</td>\n",
       "      <td>1.0.1</td>\n",
       "      <td>9.924586</td>\n",
       "      <td>1.0</td>\n",
       "      <td>3.730159e+00</td>\n",
       "      <td>16.573775</td>\n",
       "      <td>-356.026755</td>\n",
       "      <td>22.0</td>\n",
       "      <td>-2.173682</td>\n",
       "      <td>b'WHY1\\x00\\x8d\\x03\\n\\x0e \\xf7\\xc6\\xfa\\xd1\\xfb0(\\xf7\\xc6\\xfa\\xd1\\xfb0\\x12\\x11\\n\\tfeature_2\\x12\\x0...</td>\n",
       "      <td>b'WHY1\\x00\\xb0\\x02\\n\\x0e \\xaa\\xc7\\xfa\\xd1\\xfb0(\\xaa\\xc7\\xfa\\xd1\\xfb0\\x12\\x12\\n\\x0bpredictions\\x1...</td>\n",
       "      <td>67</td>\n",
       "    </tr>\n",
       "    <tr>\n",
       "      <th>2094</th>\n",
       "      <td>2023-03-29</td>\n",
       "      <td>6</td>\n",
       "      <td>demo_model</td>\n",
       "      <td>1.0.1</td>\n",
       "      <td>30.811672</td>\n",
       "      <td>0.0</td>\n",
       "      <td>2.500000e+00</td>\n",
       "      <td>7.376024</td>\n",
       "      <td>-264.412372</td>\n",
       "      <td>33.0</td>\n",
       "      <td>3.319832</td>\n",
       "      <td>b'WHY1\\x00\\x8d\\x03\\n\\x0e \\xc3\\xc7\\xfa\\xd1\\xfb0(\\xc3\\xc7\\xfa\\xd1\\xfb0\\x12\\x11\\n\\tfeature_2\\x12\\x0...</td>\n",
       "      <td>b'WHY1\\x00\\xb0\\x02\\n\\x0e \\xf6\\xc7\\xfa\\xd1\\xfb0(\\xf6\\xc7\\xfa\\xd1\\xfb0\\x12\\x12\\n\\x0bpredictions\\x1...</td>\n",
       "      <td>74</td>\n",
       "    </tr>\n",
       "    <tr>\n",
       "      <th>2095</th>\n",
       "      <td>2023-03-29</td>\n",
       "      <td>7</td>\n",
       "      <td>demo_model</td>\n",
       "      <td>1.0.1</td>\n",
       "      <td>13.667322</td>\n",
       "      <td>1.0</td>\n",
       "      <td>8.333333e-01</td>\n",
       "      <td>7.376024</td>\n",
       "      <td>-346.594101</td>\n",
       "      <td>33.0</td>\n",
       "      <td>0.186642</td>\n",
       "      <td>b'WHY1\\x00\\x8d\\x03\\n\\x0e \\x8f\\xc8\\xfa\\xd1\\xfb0(\\x8f\\xc8\\xfa\\xd1\\xfb0\\x12\\x11\\n\\tfeature_2\\x12\\x0...</td>\n",
       "      <td>b'WHY1\\x00\\xb0\\x02\\n\\x0e \\xc0\\xc8\\xfa\\xd1\\xfb0(\\xc0\\xc8\\xfa\\xd1\\xfb0\\x12\\x12\\n\\x0bpredictions\\x1...</td>\n",
       "      <td>19</td>\n",
       "    </tr>\n",
       "  </tbody>\n",
       "</table>\n",
       "<p>2096 rows × 14 columns</p>\n",
       "</div>"
      ],
      "text/plain": [
       "              ds  hour  model_name version  predictions  feature_1   \n",
       "0     2023-01-01     0  demo_model   1.0.1    28.874601        0.0  \\\n",
       "1     2023-01-01     1  demo_model   1.0.1    34.759167        1.0   \n",
       "2     2023-01-01     2  demo_model   1.0.1    31.434237        0.0   \n",
       "3     2023-01-01     3  demo_model   1.0.1    26.973177        0.0   \n",
       "4     2023-01-01     4  demo_model   1.0.1    18.229908        0.0   \n",
       "...          ...   ...         ...     ...          ...        ...   \n",
       "2091  2023-03-29     3  demo_model   1.0.1    16.853651        0.0   \n",
       "2092  2023-03-29     4  demo_model   1.0.1    30.805862        1.0   \n",
       "2093  2023-03-29     5  demo_model   1.0.1     9.924586        1.0   \n",
       "2094  2023-03-29     6  demo_model   1.0.1    30.811672        0.0   \n",
       "2095  2023-03-29     7  demo_model   1.0.1    13.667322        1.0   \n",
       "\n",
       "         feature_2  feature_3   feature_4  feature_5  feature_6   \n",
       "0     5.000000e+08 -13.291135 -303.546123      957.0  -6.954191  \\\n",
       "1     2.619048e+00 -13.291135 -226.094488     1111.0  -5.675494   \n",
       "2     5.000000e+08 -13.291135 -257.492325     1969.0  -3.698853   \n",
       "3     0.000000e+00 -13.291135 -260.120910      990.0  -3.830946   \n",
       "4     2.590361e+00 -13.291135 -368.447875       55.0  -6.030039   \n",
       "...            ...        ...         ...        ...        ...   \n",
       "2091  1.739130e+00  16.573775 -226.308186       22.0  -0.404220   \n",
       "2092  4.736842e+00  16.573775 -355.970607       44.0  -4.701136   \n",
       "2093  3.730159e+00  16.573775 -356.026755       22.0  -2.173682   \n",
       "2094  2.500000e+00   7.376024 -264.412372       33.0   3.319832   \n",
       "2095  8.333333e-01   7.376024 -346.594101       33.0   0.186642   \n",
       "\n",
       "                                                                                         features_profile   \n",
       "0     b'WHY1\\x00\\x92\\x03\\n\\x0e \\xce\\xb4\\xea\\xd1\\xfb0(\\xce\\xb4\\xea\\xd1\\xfb0\\x12\\x12\\n\\tfeature_6\\x12\\x0...  \\\n",
       "1     b'WHY1\\x00\\x92\\x03\\n\\x0e \\xf1\\xb5\\xea\\xd1\\xfb0(\\xf1\\xb5\\xea\\xd1\\xfb0\\x12\\x12\\n\\tfeature_6\\x12\\x0...   \n",
       "2     b'WHY1\\x00\\x92\\x03\\n\\x0e \\xf9\\xb6\\xea\\xd1\\xfb0(\\xf9\\xb6\\xea\\xd1\\xfb0\\x12\\x10\\n\\tfeature_1\\x12\\x0...   \n",
       "3     b'WHY1\\x00\\x92\\x03\\n\\x0e \\x82\\xb8\\xea\\xd1\\xfb0(\\x82\\xb8\\xea\\xd1\\xfb0\\x12\\x11\\n\\tfeature_2\\x12\\x0...   \n",
       "4     b'WHY1\\x00\\x92\\x03\\n\\x0e \\x8a\\xb9\\xea\\xd1\\xfb0(\\x8a\\xb9\\xea\\xd1\\xfb0\\x12\\x11\\n\\tfeature_2\\x12\\x0...   \n",
       "...                                                                                                   ...   \n",
       "2091  b'WHY1\\x00\\x8d\\x03\\n\\x0e \\xd4\\xc5\\xfa\\xd1\\xfb0(\\xd4\\xc5\\xfa\\xd1\\xfb0\\x12\\x11\\n\\tfeature_2\\x12\\x0...   \n",
       "2092  b'WHY1\\x00\\x8d\\x03\\n\\x0e \\xa8\\xc6\\xfa\\xd1\\xfb0(\\xa8\\xc6\\xfa\\xd1\\xfb0\\x12\\x11\\n\\tfeature_6\\x12\\x0...   \n",
       "2093  b'WHY1\\x00\\x8d\\x03\\n\\x0e \\xf7\\xc6\\xfa\\xd1\\xfb0(\\xf7\\xc6\\xfa\\xd1\\xfb0\\x12\\x11\\n\\tfeature_2\\x12\\x0...   \n",
       "2094  b'WHY1\\x00\\x8d\\x03\\n\\x0e \\xc3\\xc7\\xfa\\xd1\\xfb0(\\xc3\\xc7\\xfa\\xd1\\xfb0\\x12\\x11\\n\\tfeature_2\\x12\\x0...   \n",
       "2095  b'WHY1\\x00\\x8d\\x03\\n\\x0e \\x8f\\xc8\\xfa\\xd1\\xfb0(\\x8f\\xc8\\xfa\\xd1\\xfb0\\x12\\x11\\n\\tfeature_2\\x12\\x0...   \n",
       "\n",
       "                                                                                      predictions_profile   \n",
       "0     b'WHY1\\x00\\xb0\\x02\\n\\x0e \\xca\\xb5\\xea\\xd1\\xfb0(\\xca\\xb5\\xea\\xd1\\xfb0\\x12\\x12\\n\\x0bpredictions\\x1...  \\\n",
       "1     b'WHY1\\x00\\xb0\\x02\\n\\x0e \\xd8\\xb6\\xea\\xd1\\xfb0(\\xd8\\xb6\\xea\\xd1\\xfb0\\x12\\x12\\n\\x0bpredictions\\x1...   \n",
       "2     b'WHY1\\x00\\xb0\\x02\\n\\x0e \\xe0\\xb7\\xea\\xd1\\xfb0(\\xe0\\xb7\\xea\\xd1\\xfb0\\x12\\x12\\n\\x0bpredictions\\x1...   \n",
       "3     b'WHY1\\x00\\xb0\\x02\\n\\x0e \\xe9\\xb8\\xea\\xd1\\xfb0(\\xe9\\xb8\\xea\\xd1\\xfb0\\x12\\x12\\n\\x0bpredictions\\x1...   \n",
       "4     b'WHY1\\x00\\xb0\\x02\\n\\x0e \\xf1\\xb9\\xea\\xd1\\xfb0(\\xf1\\xb9\\xea\\xd1\\xfb0\\x12\\x12\\n\\x0bpredictions\\x1...   \n",
       "...                                                                                                   ...   \n",
       "2091  b'WHY1\\x00\\xb0\\x02\\n\\x0e \\x8e\\xc6\\xfa\\xd1\\xfb0(\\x8e\\xc6\\xfa\\xd1\\xfb0\\x12\\x12\\n\\x0bpredictions\\x1...   \n",
       "2092  b'WHY1\\x00\\xb0\\x02\\n\\x0e \\xde\\xc6\\xfa\\xd1\\xfb0(\\xde\\xc6\\xfa\\xd1\\xfb0\\x12\\x12\\n\\x0bpredictions\\x1...   \n",
       "2093  b'WHY1\\x00\\xb0\\x02\\n\\x0e \\xaa\\xc7\\xfa\\xd1\\xfb0(\\xaa\\xc7\\xfa\\xd1\\xfb0\\x12\\x12\\n\\x0bpredictions\\x1...   \n",
       "2094  b'WHY1\\x00\\xb0\\x02\\n\\x0e \\xf6\\xc7\\xfa\\xd1\\xfb0(\\xf6\\xc7\\xfa\\xd1\\xfb0\\x12\\x12\\n\\x0bpredictions\\x1...   \n",
       "2095  b'WHY1\\x00\\xb0\\x02\\n\\x0e \\xc0\\xc8\\xfa\\xd1\\xfb0(\\xc0\\xc8\\xfa\\xd1\\xfb0\\x12\\x12\\n\\x0bpredictions\\x1...   \n",
       "\n",
       "      sample_records  \n",
       "0               1000  \n",
       "1               1000  \n",
       "2               1000  \n",
       "3               1000  \n",
       "4               1000  \n",
       "...              ...  \n",
       "2091             188  \n",
       "2092             125  \n",
       "2093              67  \n",
       "2094              74  \n",
       "2095              19  \n",
       "\n",
       "[2096 rows x 14 columns]"
      ]
     },
     "execution_count": 52,
     "metadata": {},
     "output_type": "execute_result"
    }
   ],
   "source": [
    "hourly_feature_profile_df"
   ]
  },
  {
   "cell_type": "code",
   "execution_count": null,
   "id": "f04612c4",
   "metadata": {
    "collapsed": false,
    "jupyter": {
     "outputs_hidden": false
    },
    "pycharm": {
     "name": "#%%\n"
    }
   },
   "outputs": [],
   "source": []
  },
  {
   "cell_type": "markdown",
   "id": "6c6f390c",
   "metadata": {
    "pycharm": {
     "name": "#%% md\n"
    }
   },
   "source": [
    "### Merge Whylogs Profiles"
   ]
  },
  {
   "cell_type": "code",
   "execution_count": 53,
   "id": "69c7001d",
   "metadata": {
    "collapsed": false,
    "jupyter": {
     "outputs_hidden": false
    },
    "pycharm": {
     "name": "#%%\n"
    },
    "tags": []
   },
   "outputs": [
    {
     "data": {
      "text/plain": [
       "whylogs.core.view.dataset_profile_view.DatasetProfileView"
      ]
     },
     "execution_count": 53,
     "metadata": {},
     "output_type": "execute_result"
    }
   ],
   "source": [
    "type(feb_whylogs_prof)"
   ]
  },
  {
   "cell_type": "code",
   "execution_count": 54,
   "id": "3b52cdce",
   "metadata": {
    "collapsed": false,
    "jupyter": {
     "outputs_hidden": false
    },
    "pycharm": {
     "name": "#%%\n"
    },
    "tags": []
   },
   "outputs": [
    {
     "data": {
      "text/html": [
       "<div>\n",
       "<style scoped>\n",
       "    .dataframe tbody tr th:only-of-type {\n",
       "        vertical-align: middle;\n",
       "    }\n",
       "\n",
       "    .dataframe tbody tr th {\n",
       "        vertical-align: top;\n",
       "    }\n",
       "\n",
       "    .dataframe thead th {\n",
       "        text-align: right;\n",
       "    }\n",
       "</style>\n",
       "<table border=\"1\" class=\"dataframe\">\n",
       "  <thead>\n",
       "    <tr style=\"text-align: right;\">\n",
       "      <th></th>\n",
       "      <th>cardinality/est</th>\n",
       "      <th>cardinality/lower_1</th>\n",
       "      <th>cardinality/upper_1</th>\n",
       "      <th>counts/inf</th>\n",
       "      <th>counts/n</th>\n",
       "      <th>counts/nan</th>\n",
       "      <th>counts/null</th>\n",
       "      <th>distribution/max</th>\n",
       "      <th>distribution/mean</th>\n",
       "      <th>distribution/median</th>\n",
       "      <th>distribution/min</th>\n",
       "      <th>distribution/n</th>\n",
       "      <th>distribution/q_01</th>\n",
       "      <th>distribution/q_05</th>\n",
       "      <th>distribution/q_10</th>\n",
       "      <th>distribution/q_25</th>\n",
       "      <th>distribution/q_75</th>\n",
       "      <th>distribution/q_90</th>\n",
       "      <th>distribution/q_95</th>\n",
       "      <th>distribution/q_99</th>\n",
       "      <th>distribution/stddev</th>\n",
       "      <th>type</th>\n",
       "      <th>types/boolean</th>\n",
       "      <th>types/fractional</th>\n",
       "      <th>types/integral</th>\n",
       "      <th>types/object</th>\n",
       "      <th>types/string</th>\n",
       "      <th>types/tensor</th>\n",
       "    </tr>\n",
       "    <tr>\n",
       "      <th>column</th>\n",
       "      <th></th>\n",
       "      <th></th>\n",
       "      <th></th>\n",
       "      <th></th>\n",
       "      <th></th>\n",
       "      <th></th>\n",
       "      <th></th>\n",
       "      <th></th>\n",
       "      <th></th>\n",
       "      <th></th>\n",
       "      <th></th>\n",
       "      <th></th>\n",
       "      <th></th>\n",
       "      <th></th>\n",
       "      <th></th>\n",
       "      <th></th>\n",
       "      <th></th>\n",
       "      <th></th>\n",
       "      <th></th>\n",
       "      <th></th>\n",
       "      <th></th>\n",
       "      <th></th>\n",
       "      <th></th>\n",
       "      <th></th>\n",
       "      <th></th>\n",
       "      <th></th>\n",
       "      <th></th>\n",
       "      <th></th>\n",
       "    </tr>\n",
       "  </thead>\n",
       "  <tbody>\n",
       "    <tr>\n",
       "      <th>feature_5</th>\n",
       "      <td>425.569275</td>\n",
       "      <td>420.134311</td>\n",
       "      <td>431.139744</td>\n",
       "      <td>0</td>\n",
       "      <td>1000</td>\n",
       "      <td>0</td>\n",
       "      <td>0</td>\n",
       "      <td>38148.000000</td>\n",
       "      <td>2184.743000</td>\n",
       "      <td>715.000000</td>\n",
       "      <td>0.000000</td>\n",
       "      <td>1000</td>\n",
       "      <td>11.000000</td>\n",
       "      <td>22.000000</td>\n",
       "      <td>33.000000</td>\n",
       "      <td>55.0000</td>\n",
       "      <td>3190.000000</td>\n",
       "      <td>6248.000000</td>\n",
       "      <td>9141.00000</td>\n",
       "      <td>14388.000000</td>\n",
       "      <td>3310.736242</td>\n",
       "      <td>SummaryType.COLUMN</td>\n",
       "      <td>0</td>\n",
       "      <td>1000</td>\n",
       "      <td>0</td>\n",
       "      <td>0</td>\n",
       "      <td>0</td>\n",
       "      <td>0</td>\n",
       "    </tr>\n",
       "    <tr>\n",
       "      <th>feature_6</th>\n",
       "      <td>233.000134</td>\n",
       "      <td>233.000000</td>\n",
       "      <td>233.011768</td>\n",
       "      <td>0</td>\n",
       "      <td>1000</td>\n",
       "      <td>0</td>\n",
       "      <td>0</td>\n",
       "      <td>1.785209</td>\n",
       "      <td>-1.798066</td>\n",
       "      <td>-1.543214</td>\n",
       "      <td>-6.845155</td>\n",
       "      <td>1000</td>\n",
       "      <td>-5.256787</td>\n",
       "      <td>-4.975246</td>\n",
       "      <td>-4.793975</td>\n",
       "      <td>-4.1657</td>\n",
       "      <td>0.373155</td>\n",
       "      <td>1.207462</td>\n",
       "      <td>1.48241</td>\n",
       "      <td>1.724903</td>\n",
       "      <td>2.350622</td>\n",
       "      <td>SummaryType.COLUMN</td>\n",
       "      <td>0</td>\n",
       "      <td>1000</td>\n",
       "      <td>0</td>\n",
       "      <td>0</td>\n",
       "      <td>0</td>\n",
       "      <td>0</td>\n",
       "    </tr>\n",
       "  </tbody>\n",
       "</table>\n",
       "</div>"
      ],
      "text/plain": [
       "           cardinality/est  cardinality/lower_1  cardinality/upper_1   \n",
       "column                                                                 \n",
       "feature_5       425.569275           420.134311           431.139744  \\\n",
       "feature_6       233.000134           233.000000           233.011768   \n",
       "\n",
       "           counts/inf  counts/n  counts/nan  counts/null  distribution/max   \n",
       "column                                                                       \n",
       "feature_5           0      1000           0            0      38148.000000  \\\n",
       "feature_6           0      1000           0            0          1.785209   \n",
       "\n",
       "           distribution/mean  distribution/median  distribution/min   \n",
       "column                                                                \n",
       "feature_5        2184.743000           715.000000          0.000000  \\\n",
       "feature_6          -1.798066            -1.543214         -6.845155   \n",
       "\n",
       "           distribution/n  distribution/q_01  distribution/q_05   \n",
       "column                                                            \n",
       "feature_5            1000          11.000000          22.000000  \\\n",
       "feature_6            1000          -5.256787          -4.975246   \n",
       "\n",
       "           distribution/q_10  distribution/q_25  distribution/q_75   \n",
       "column                                                               \n",
       "feature_5          33.000000            55.0000        3190.000000  \\\n",
       "feature_6          -4.793975            -4.1657           0.373155   \n",
       "\n",
       "           distribution/q_90  distribution/q_95  distribution/q_99   \n",
       "column                                                               \n",
       "feature_5        6248.000000         9141.00000       14388.000000  \\\n",
       "feature_6           1.207462            1.48241           1.724903   \n",
       "\n",
       "           distribution/stddev                type  types/boolean   \n",
       "column                                                              \n",
       "feature_5          3310.736242  SummaryType.COLUMN              0  \\\n",
       "feature_6             2.350622  SummaryType.COLUMN              0   \n",
       "\n",
       "           types/fractional  types/integral  types/object  types/string   \n",
       "column                                                                    \n",
       "feature_5              1000               0             0             0  \\\n",
       "feature_6              1000               0             0             0   \n",
       "\n",
       "           types/tensor  \n",
       "column                   \n",
       "feature_5             0  \n",
       "feature_6             0  "
      ]
     },
     "execution_count": 54,
     "metadata": {},
     "output_type": "execute_result"
    }
   ],
   "source": [
    "feb_whylogs_prof.to_pandas()"
   ]
  },
  {
   "cell_type": "code",
   "execution_count": 55,
   "id": "a2d84764",
   "metadata": {
    "collapsed": false,
    "jupyter": {
     "outputs_hidden": false
    },
    "pycharm": {
     "name": "#%%\n"
    },
    "tags": []
   },
   "outputs": [
    {
     "data": {
      "text/html": [
       "<div>\n",
       "<style scoped>\n",
       "    .dataframe tbody tr th:only-of-type {\n",
       "        vertical-align: middle;\n",
       "    }\n",
       "\n",
       "    .dataframe tbody tr th {\n",
       "        vertical-align: top;\n",
       "    }\n",
       "\n",
       "    .dataframe thead th {\n",
       "        text-align: right;\n",
       "    }\n",
       "</style>\n",
       "<table border=\"1\" class=\"dataframe\">\n",
       "  <thead>\n",
       "    <tr style=\"text-align: right;\">\n",
       "      <th></th>\n",
       "      <th>cardinality/est</th>\n",
       "      <th>cardinality/lower_1</th>\n",
       "      <th>cardinality/upper_1</th>\n",
       "      <th>counts/inf</th>\n",
       "      <th>counts/n</th>\n",
       "      <th>counts/nan</th>\n",
       "      <th>counts/null</th>\n",
       "      <th>distribution/max</th>\n",
       "      <th>distribution/mean</th>\n",
       "      <th>distribution/median</th>\n",
       "      <th>distribution/min</th>\n",
       "      <th>distribution/n</th>\n",
       "      <th>distribution/q_01</th>\n",
       "      <th>distribution/q_05</th>\n",
       "      <th>distribution/q_10</th>\n",
       "      <th>distribution/q_25</th>\n",
       "      <th>distribution/q_75</th>\n",
       "      <th>distribution/q_90</th>\n",
       "      <th>distribution/q_95</th>\n",
       "      <th>distribution/q_99</th>\n",
       "      <th>distribution/stddev</th>\n",
       "      <th>type</th>\n",
       "      <th>types/boolean</th>\n",
       "      <th>types/fractional</th>\n",
       "      <th>types/integral</th>\n",
       "      <th>types/object</th>\n",
       "      <th>types/string</th>\n",
       "      <th>types/tensor</th>\n",
       "    </tr>\n",
       "    <tr>\n",
       "      <th>column</th>\n",
       "      <th></th>\n",
       "      <th></th>\n",
       "      <th></th>\n",
       "      <th></th>\n",
       "      <th></th>\n",
       "      <th></th>\n",
       "      <th></th>\n",
       "      <th></th>\n",
       "      <th></th>\n",
       "      <th></th>\n",
       "      <th></th>\n",
       "      <th></th>\n",
       "      <th></th>\n",
       "      <th></th>\n",
       "      <th></th>\n",
       "      <th></th>\n",
       "      <th></th>\n",
       "      <th></th>\n",
       "      <th></th>\n",
       "      <th></th>\n",
       "      <th></th>\n",
       "      <th></th>\n",
       "      <th></th>\n",
       "      <th></th>\n",
       "      <th></th>\n",
       "      <th></th>\n",
       "      <th></th>\n",
       "      <th></th>\n",
       "    </tr>\n",
       "  </thead>\n",
       "  <tbody>\n",
       "    <tr>\n",
       "      <th>feature_5</th>\n",
       "      <td>13.000000</td>\n",
       "      <td>13.0</td>\n",
       "      <td>13.000649</td>\n",
       "      <td>0</td>\n",
       "      <td>267</td>\n",
       "      <td>0</td>\n",
       "      <td>0</td>\n",
       "      <td>154.000000</td>\n",
       "      <td>39.426966</td>\n",
       "      <td>33.000000</td>\n",
       "      <td>11.000000</td>\n",
       "      <td>267</td>\n",
       "      <td>11.000000</td>\n",
       "      <td>22.000000</td>\n",
       "      <td>22.000000</td>\n",
       "      <td>22.000000</td>\n",
       "      <td>44.000000</td>\n",
       "      <td>55.00000</td>\n",
       "      <td>110.000000</td>\n",
       "      <td>132.000000</td>\n",
       "      <td>24.119169</td>\n",
       "      <td>SummaryType.COLUMN</td>\n",
       "      <td>0</td>\n",
       "      <td>267</td>\n",
       "      <td>0</td>\n",
       "      <td>0</td>\n",
       "      <td>0</td>\n",
       "      <td>0</td>\n",
       "    </tr>\n",
       "    <tr>\n",
       "      <th>feature_6</th>\n",
       "      <td>134.000044</td>\n",
       "      <td>134.0</td>\n",
       "      <td>134.006735</td>\n",
       "      <td>0</td>\n",
       "      <td>267</td>\n",
       "      <td>0</td>\n",
       "      <td>0</td>\n",
       "      <td>1.815312</td>\n",
       "      <td>-1.352451</td>\n",
       "      <td>-0.373155</td>\n",
       "      <td>-5.019625</td>\n",
       "      <td>267</td>\n",
       "      <td>-5.019625</td>\n",
       "      <td>-4.793975</td>\n",
       "      <td>-4.630565</td>\n",
       "      <td>-3.987045</td>\n",
       "      <td>0.838042</td>\n",
       "      <td>1.48241</td>\n",
       "      <td>1.573573</td>\n",
       "      <td>1.785209</td>\n",
       "      <td>2.434174</td>\n",
       "      <td>SummaryType.COLUMN</td>\n",
       "      <td>0</td>\n",
       "      <td>267</td>\n",
       "      <td>0</td>\n",
       "      <td>0</td>\n",
       "      <td>0</td>\n",
       "      <td>0</td>\n",
       "    </tr>\n",
       "  </tbody>\n",
       "</table>\n",
       "</div>"
      ],
      "text/plain": [
       "           cardinality/est  cardinality/lower_1  cardinality/upper_1   \n",
       "column                                                                 \n",
       "feature_5        13.000000                 13.0            13.000649  \\\n",
       "feature_6       134.000044                134.0           134.006735   \n",
       "\n",
       "           counts/inf  counts/n  counts/nan  counts/null  distribution/max   \n",
       "column                                                                       \n",
       "feature_5           0       267           0            0        154.000000  \\\n",
       "feature_6           0       267           0            0          1.815312   \n",
       "\n",
       "           distribution/mean  distribution/median  distribution/min   \n",
       "column                                                                \n",
       "feature_5          39.426966            33.000000         11.000000  \\\n",
       "feature_6          -1.352451            -0.373155         -5.019625   \n",
       "\n",
       "           distribution/n  distribution/q_01  distribution/q_05   \n",
       "column                                                            \n",
       "feature_5             267          11.000000          22.000000  \\\n",
       "feature_6             267          -5.019625          -4.793975   \n",
       "\n",
       "           distribution/q_10  distribution/q_25  distribution/q_75   \n",
       "column                                                               \n",
       "feature_5          22.000000          22.000000          44.000000  \\\n",
       "feature_6          -4.630565          -3.987045           0.838042   \n",
       "\n",
       "           distribution/q_90  distribution/q_95  distribution/q_99   \n",
       "column                                                               \n",
       "feature_5           55.00000         110.000000         132.000000  \\\n",
       "feature_6            1.48241           1.573573           1.785209   \n",
       "\n",
       "           distribution/stddev                type  types/boolean   \n",
       "column                                                              \n",
       "feature_5            24.119169  SummaryType.COLUMN              0  \\\n",
       "feature_6             2.434174  SummaryType.COLUMN              0   \n",
       "\n",
       "           types/fractional  types/integral  types/object  types/string   \n",
       "column                                                                    \n",
       "feature_5               267               0             0             0  \\\n",
       "feature_6               267               0             0             0   \n",
       "\n",
       "           types/tensor  \n",
       "column                   \n",
       "feature_5             0  \n",
       "feature_6             0  "
      ]
     },
     "execution_count": 55,
     "metadata": {},
     "output_type": "execute_result"
    }
   ],
   "source": [
    "mar_whylogs_prof.to_pandas()"
   ]
  },
  {
   "cell_type": "code",
   "execution_count": 56,
   "id": "ca1dceb3",
   "metadata": {
    "collapsed": false,
    "jupyter": {
     "outputs_hidden": false
    },
    "pycharm": {
     "name": "#%%\n"
    },
    "tags": []
   },
   "outputs": [
    {
     "data": {
      "text/html": [
       "<div>\n",
       "<style scoped>\n",
       "    .dataframe tbody tr th:only-of-type {\n",
       "        vertical-align: middle;\n",
       "    }\n",
       "\n",
       "    .dataframe tbody tr th {\n",
       "        vertical-align: top;\n",
       "    }\n",
       "\n",
       "    .dataframe thead th {\n",
       "        text-align: right;\n",
       "    }\n",
       "</style>\n",
       "<table border=\"1\" class=\"dataframe\">\n",
       "  <thead>\n",
       "    <tr style=\"text-align: right;\">\n",
       "      <th></th>\n",
       "      <th>cardinality/est</th>\n",
       "      <th>cardinality/lower_1</th>\n",
       "      <th>cardinality/upper_1</th>\n",
       "      <th>counts/inf</th>\n",
       "      <th>counts/n</th>\n",
       "      <th>counts/nan</th>\n",
       "      <th>counts/null</th>\n",
       "      <th>distribution/max</th>\n",
       "      <th>distribution/mean</th>\n",
       "      <th>distribution/median</th>\n",
       "      <th>distribution/min</th>\n",
       "      <th>distribution/n</th>\n",
       "      <th>distribution/q_01</th>\n",
       "      <th>distribution/q_05</th>\n",
       "      <th>distribution/q_10</th>\n",
       "      <th>distribution/q_25</th>\n",
       "      <th>distribution/q_75</th>\n",
       "      <th>distribution/q_90</th>\n",
       "      <th>distribution/q_95</th>\n",
       "      <th>distribution/q_99</th>\n",
       "      <th>distribution/stddev</th>\n",
       "      <th>type</th>\n",
       "      <th>types/boolean</th>\n",
       "      <th>types/fractional</th>\n",
       "      <th>types/integral</th>\n",
       "      <th>types/object</th>\n",
       "      <th>types/string</th>\n",
       "      <th>types/tensor</th>\n",
       "    </tr>\n",
       "    <tr>\n",
       "      <th>column</th>\n",
       "      <th></th>\n",
       "      <th></th>\n",
       "      <th></th>\n",
       "      <th></th>\n",
       "      <th></th>\n",
       "      <th></th>\n",
       "      <th></th>\n",
       "      <th></th>\n",
       "      <th></th>\n",
       "      <th></th>\n",
       "      <th></th>\n",
       "      <th></th>\n",
       "      <th></th>\n",
       "      <th></th>\n",
       "      <th></th>\n",
       "      <th></th>\n",
       "      <th></th>\n",
       "      <th></th>\n",
       "      <th></th>\n",
       "      <th></th>\n",
       "      <th></th>\n",
       "      <th></th>\n",
       "      <th></th>\n",
       "      <th></th>\n",
       "      <th></th>\n",
       "      <th></th>\n",
       "      <th></th>\n",
       "      <th></th>\n",
       "    </tr>\n",
       "  </thead>\n",
       "  <tbody>\n",
       "    <tr>\n",
       "      <th>feature_5</th>\n",
       "      <td>425.569275</td>\n",
       "      <td>420.134311</td>\n",
       "      <td>431.139744</td>\n",
       "      <td>0</td>\n",
       "      <td>1267</td>\n",
       "      <td>0</td>\n",
       "      <td>0</td>\n",
       "      <td>38148.000000</td>\n",
       "      <td>1732.651934</td>\n",
       "      <td>220.000000</td>\n",
       "      <td>0.000000</td>\n",
       "      <td>1267</td>\n",
       "      <td>11.000000</td>\n",
       "      <td>22.000000</td>\n",
       "      <td>22.000000</td>\n",
       "      <td>44.000000</td>\n",
       "      <td>2310.000000</td>\n",
       "      <td>5500.000000</td>\n",
       "      <td>7546.000000</td>\n",
       "      <td>13640.000000</td>\n",
       "      <td>3068.471691</td>\n",
       "      <td>SummaryType.COLUMN</td>\n",
       "      <td>0</td>\n",
       "      <td>1267</td>\n",
       "      <td>0</td>\n",
       "      <td>0</td>\n",
       "      <td>0</td>\n",
       "      <td>0</td>\n",
       "    </tr>\n",
       "    <tr>\n",
       "      <th>feature_6</th>\n",
       "      <td>235.000137</td>\n",
       "      <td>235.000000</td>\n",
       "      <td>235.011870</td>\n",
       "      <td>0</td>\n",
       "      <td>1267</td>\n",
       "      <td>0</td>\n",
       "      <td>0</td>\n",
       "      <td>1.815312</td>\n",
       "      <td>-1.704160</td>\n",
       "      <td>-1.390994</td>\n",
       "      <td>-6.845155</td>\n",
       "      <td>1267</td>\n",
       "      <td>-5.214552</td>\n",
       "      <td>-4.952914</td>\n",
       "      <td>-4.770901</td>\n",
       "      <td>-4.140412</td>\n",
       "      <td>0.528394</td>\n",
       "      <td>1.268737</td>\n",
       "      <td>1.512827</td>\n",
       "      <td>1.755073</td>\n",
       "      <td>2.374470</td>\n",
       "      <td>SummaryType.COLUMN</td>\n",
       "      <td>0</td>\n",
       "      <td>1267</td>\n",
       "      <td>0</td>\n",
       "      <td>0</td>\n",
       "      <td>0</td>\n",
       "      <td>0</td>\n",
       "    </tr>\n",
       "  </tbody>\n",
       "</table>\n",
       "</div>"
      ],
      "text/plain": [
       "           cardinality/est  cardinality/lower_1  cardinality/upper_1   \n",
       "column                                                                 \n",
       "feature_5       425.569275           420.134311           431.139744  \\\n",
       "feature_6       235.000137           235.000000           235.011870   \n",
       "\n",
       "           counts/inf  counts/n  counts/nan  counts/null  distribution/max   \n",
       "column                                                                       \n",
       "feature_5           0      1267           0            0      38148.000000  \\\n",
       "feature_6           0      1267           0            0          1.815312   \n",
       "\n",
       "           distribution/mean  distribution/median  distribution/min   \n",
       "column                                                                \n",
       "feature_5        1732.651934           220.000000          0.000000  \\\n",
       "feature_6          -1.704160            -1.390994         -6.845155   \n",
       "\n",
       "           distribution/n  distribution/q_01  distribution/q_05   \n",
       "column                                                            \n",
       "feature_5            1267          11.000000          22.000000  \\\n",
       "feature_6            1267          -5.214552          -4.952914   \n",
       "\n",
       "           distribution/q_10  distribution/q_25  distribution/q_75   \n",
       "column                                                               \n",
       "feature_5          22.000000          44.000000        2310.000000  \\\n",
       "feature_6          -4.770901          -4.140412           0.528394   \n",
       "\n",
       "           distribution/q_90  distribution/q_95  distribution/q_99   \n",
       "column                                                               \n",
       "feature_5        5500.000000        7546.000000       13640.000000  \\\n",
       "feature_6           1.268737           1.512827           1.755073   \n",
       "\n",
       "           distribution/stddev                type  types/boolean   \n",
       "column                                                              \n",
       "feature_5          3068.471691  SummaryType.COLUMN              0  \\\n",
       "feature_6             2.374470  SummaryType.COLUMN              0   \n",
       "\n",
       "           types/fractional  types/integral  types/object  types/string   \n",
       "column                                                                    \n",
       "feature_5              1267               0             0             0  \\\n",
       "feature_6              1267               0             0             0   \n",
       "\n",
       "           types/tensor  \n",
       "column                   \n",
       "feature_5             0  \n",
       "feature_6             0  "
      ]
     },
     "execution_count": 56,
     "metadata": {},
     "output_type": "execute_result"
    }
   ],
   "source": [
    "merged_prof_view = feb_whylogs_prof.merge(mar_whylogs_prof)\n",
    "merged_prof_view.to_pandas()"
   ]
  },
  {
   "cell_type": "code",
   "execution_count": 57,
   "id": "b4375cdf",
   "metadata": {
    "collapsed": false,
    "jupyter": {
     "outputs_hidden": false
    },
    "pycharm": {
     "name": "#%%\n"
    },
    "tags": []
   },
   "outputs": [],
   "source": [
    "merge_test_df = features_df[((features_df['ds'] == '2023-02-10') | (features_df['ds'] == '2023-03-10')) & (features_df['hour'] == 5)]"
   ]
  },
  {
   "cell_type": "code",
   "execution_count": 58,
   "id": "fc4be6d1",
   "metadata": {
    "collapsed": false,
    "jupyter": {
     "outputs_hidden": false
    },
    "pycharm": {
     "name": "#%%\n"
    },
    "tags": []
   },
   "outputs": [
    {
     "data": {
      "text/plain": [
       "array(['2023-02-10', '2023-03-10'], dtype=object)"
      ]
     },
     "execution_count": 58,
     "metadata": {},
     "output_type": "execute_result"
    }
   ],
   "source": [
    "merge_test_df['ds'].unique()"
   ]
  },
  {
   "cell_type": "code",
   "execution_count": 59,
   "id": "1e424226",
   "metadata": {
    "collapsed": false,
    "jupyter": {
     "outputs_hidden": false
    },
    "pycharm": {
     "name": "#%%\n"
    },
    "tags": []
   },
   "outputs": [],
   "source": [
    "merged_whylogs_prof = why.log(merge_test_df[['feature_5', 'feature_6']]).view()"
   ]
  },
  {
   "cell_type": "code",
   "execution_count": 60,
   "id": "1d861765",
   "metadata": {
    "collapsed": false,
    "jupyter": {
     "outputs_hidden": false
    },
    "pycharm": {
     "name": "#%%\n"
    },
    "tags": []
   },
   "outputs": [
    {
     "data": {
      "text/html": [
       "<div>\n",
       "<style scoped>\n",
       "    .dataframe tbody tr th:only-of-type {\n",
       "        vertical-align: middle;\n",
       "    }\n",
       "\n",
       "    .dataframe tbody tr th {\n",
       "        vertical-align: top;\n",
       "    }\n",
       "\n",
       "    .dataframe thead th {\n",
       "        text-align: right;\n",
       "    }\n",
       "</style>\n",
       "<table border=\"1\" class=\"dataframe\">\n",
       "  <thead>\n",
       "    <tr style=\"text-align: right;\">\n",
       "      <th></th>\n",
       "      <th>cardinality/est</th>\n",
       "      <th>cardinality/lower_1</th>\n",
       "      <th>cardinality/upper_1</th>\n",
       "      <th>counts/inf</th>\n",
       "      <th>counts/n</th>\n",
       "      <th>counts/nan</th>\n",
       "      <th>counts/null</th>\n",
       "      <th>distribution/max</th>\n",
       "      <th>distribution/mean</th>\n",
       "      <th>distribution/median</th>\n",
       "      <th>distribution/min</th>\n",
       "      <th>distribution/n</th>\n",
       "      <th>distribution/q_01</th>\n",
       "      <th>distribution/q_05</th>\n",
       "      <th>distribution/q_10</th>\n",
       "      <th>distribution/q_25</th>\n",
       "      <th>distribution/q_75</th>\n",
       "      <th>distribution/q_90</th>\n",
       "      <th>distribution/q_95</th>\n",
       "      <th>distribution/q_99</th>\n",
       "      <th>distribution/stddev</th>\n",
       "      <th>type</th>\n",
       "      <th>types/boolean</th>\n",
       "      <th>types/fractional</th>\n",
       "      <th>types/integral</th>\n",
       "      <th>types/object</th>\n",
       "      <th>types/string</th>\n",
       "      <th>types/tensor</th>\n",
       "    </tr>\n",
       "    <tr>\n",
       "      <th>column</th>\n",
       "      <th></th>\n",
       "      <th></th>\n",
       "      <th></th>\n",
       "      <th></th>\n",
       "      <th></th>\n",
       "      <th></th>\n",
       "      <th></th>\n",
       "      <th></th>\n",
       "      <th></th>\n",
       "      <th></th>\n",
       "      <th></th>\n",
       "      <th></th>\n",
       "      <th></th>\n",
       "      <th></th>\n",
       "      <th></th>\n",
       "      <th></th>\n",
       "      <th></th>\n",
       "      <th></th>\n",
       "      <th></th>\n",
       "      <th></th>\n",
       "      <th></th>\n",
       "      <th></th>\n",
       "      <th></th>\n",
       "      <th></th>\n",
       "      <th></th>\n",
       "      <th></th>\n",
       "      <th></th>\n",
       "      <th></th>\n",
       "    </tr>\n",
       "  </thead>\n",
       "  <tbody>\n",
       "    <tr>\n",
       "      <th>feature_5</th>\n",
       "      <td>425.569275</td>\n",
       "      <td>420.134311</td>\n",
       "      <td>431.139744</td>\n",
       "      <td>0</td>\n",
       "      <td>1267</td>\n",
       "      <td>0</td>\n",
       "      <td>0</td>\n",
       "      <td>38148.000000</td>\n",
       "      <td>1732.651934</td>\n",
       "      <td>220.000000</td>\n",
       "      <td>0.000000</td>\n",
       "      <td>1267</td>\n",
       "      <td>11.000000</td>\n",
       "      <td>22.000000</td>\n",
       "      <td>22.000000</td>\n",
       "      <td>44.000000</td>\n",
       "      <td>2365.000000</td>\n",
       "      <td>5577.000000</td>\n",
       "      <td>7590.000000</td>\n",
       "      <td>14234.000000</td>\n",
       "      <td>3068.471691</td>\n",
       "      <td>SummaryType.COLUMN</td>\n",
       "      <td>0</td>\n",
       "      <td>1267</td>\n",
       "      <td>0</td>\n",
       "      <td>0</td>\n",
       "      <td>0</td>\n",
       "      <td>0</td>\n",
       "    </tr>\n",
       "    <tr>\n",
       "      <th>feature_6</th>\n",
       "      <td>235.000137</td>\n",
       "      <td>235.000000</td>\n",
       "      <td>235.011870</td>\n",
       "      <td>0</td>\n",
       "      <td>1267</td>\n",
       "      <td>0</td>\n",
       "      <td>0</td>\n",
       "      <td>1.815312</td>\n",
       "      <td>-1.704160</td>\n",
       "      <td>-1.390994</td>\n",
       "      <td>-6.845155</td>\n",
       "      <td>1267</td>\n",
       "      <td>-5.235719</td>\n",
       "      <td>-4.952914</td>\n",
       "      <td>-4.770901</td>\n",
       "      <td>-4.140412</td>\n",
       "      <td>0.528394</td>\n",
       "      <td>1.268737</td>\n",
       "      <td>1.512827</td>\n",
       "      <td>1.724903</td>\n",
       "      <td>2.374470</td>\n",
       "      <td>SummaryType.COLUMN</td>\n",
       "      <td>0</td>\n",
       "      <td>1267</td>\n",
       "      <td>0</td>\n",
       "      <td>0</td>\n",
       "      <td>0</td>\n",
       "      <td>0</td>\n",
       "    </tr>\n",
       "  </tbody>\n",
       "</table>\n",
       "</div>"
      ],
      "text/plain": [
       "           cardinality/est  cardinality/lower_1  cardinality/upper_1   \n",
       "column                                                                 \n",
       "feature_5       425.569275           420.134311           431.139744  \\\n",
       "feature_6       235.000137           235.000000           235.011870   \n",
       "\n",
       "           counts/inf  counts/n  counts/nan  counts/null  distribution/max   \n",
       "column                                                                       \n",
       "feature_5           0      1267           0            0      38148.000000  \\\n",
       "feature_6           0      1267           0            0          1.815312   \n",
       "\n",
       "           distribution/mean  distribution/median  distribution/min   \n",
       "column                                                                \n",
       "feature_5        1732.651934           220.000000          0.000000  \\\n",
       "feature_6          -1.704160            -1.390994         -6.845155   \n",
       "\n",
       "           distribution/n  distribution/q_01  distribution/q_05   \n",
       "column                                                            \n",
       "feature_5            1267          11.000000          22.000000  \\\n",
       "feature_6            1267          -5.235719          -4.952914   \n",
       "\n",
       "           distribution/q_10  distribution/q_25  distribution/q_75   \n",
       "column                                                               \n",
       "feature_5          22.000000          44.000000        2365.000000  \\\n",
       "feature_6          -4.770901          -4.140412           0.528394   \n",
       "\n",
       "           distribution/q_90  distribution/q_95  distribution/q_99   \n",
       "column                                                               \n",
       "feature_5        5577.000000        7590.000000       14234.000000  \\\n",
       "feature_6           1.268737           1.512827           1.724903   \n",
       "\n",
       "           distribution/stddev                type  types/boolean   \n",
       "column                                                              \n",
       "feature_5          3068.471691  SummaryType.COLUMN              0  \\\n",
       "feature_6             2.374470  SummaryType.COLUMN              0   \n",
       "\n",
       "           types/fractional  types/integral  types/object  types/string   \n",
       "column                                                                    \n",
       "feature_5              1267               0             0             0  \\\n",
       "feature_6              1267               0             0             0   \n",
       "\n",
       "           types/tensor  \n",
       "column                   \n",
       "feature_5             0  \n",
       "feature_6             0  "
      ]
     },
     "execution_count": 60,
     "metadata": {},
     "output_type": "execute_result"
    }
   ],
   "source": [
    "merged_whylogs_prof.to_pandas()"
   ]
  },
  {
   "cell_type": "code",
   "execution_count": null,
   "id": "6ecc272f",
   "metadata": {
    "collapsed": false,
    "jupyter": {
     "outputs_hidden": false
    },
    "pycharm": {
     "name": "#%%\n"
    }
   },
   "outputs": [],
   "source": []
  },
  {
   "cell_type": "markdown",
   "id": "4554a704",
   "metadata": {
    "pycharm": {
     "name": "#%% md\n"
    }
   },
   "source": [
    "### Generate Daily Profiles"
   ]
  },
  {
   "cell_type": "code",
   "execution_count": 61,
   "id": "61c1b338",
   "metadata": {
    "collapsed": false,
    "jupyter": {
     "outputs_hidden": false
    },
    "pycharm": {
     "name": "#%%\n"
    },
    "tags": []
   },
   "outputs": [],
   "source": [
    "from functools import reduce\n",
    "\n",
    "def profile_reduce(hourly_profiles_df: pd.DataFrame) -> pd.DataFrame:\n",
    "    features_buf = reduce(\n",
    "        lambda acc, x: acc.merge(x),\n",
    "        hourly_profiles_df.features_profile.apply(DatasetProfileView.deserialize),\n",
    "    ).serialize()\n",
    "    predictions_buf = reduce(\n",
    "        lambda acc, x: acc.merge(x),\n",
    "        hourly_profiles_df.predictions_profile.apply(DatasetProfileView.deserialize),\n",
    "    ).serialize()\n",
    "    records = hourly_profiles_df.sample_records.sum()\n",
    "    daily_profiles_df = hourly_profiles_df.head(1).copy()\n",
    "    daily_profiles_df = daily_profiles_df.drop(['hour'], axis=1)\n",
    "    daily_profiles_df = daily_profiles_df.assign(features_profile=features_buf, predictions_profile = predictions_buf, sample_records=records)\n",
    "    return daily_profiles_df"
   ]
  },
  {
   "cell_type": "code",
   "execution_count": 62,
   "id": "c13af142",
   "metadata": {
    "collapsed": false,
    "jupyter": {
     "outputs_hidden": false
    },
    "pycharm": {
     "name": "#%%\n"
    },
    "tags": []
   },
   "outputs": [
    {
     "data": {
      "text/html": [
       "<div>\n",
       "<style scoped>\n",
       "    .dataframe tbody tr th:only-of-type {\n",
       "        vertical-align: middle;\n",
       "    }\n",
       "\n",
       "    .dataframe tbody tr th {\n",
       "        vertical-align: top;\n",
       "    }\n",
       "\n",
       "    .dataframe thead th {\n",
       "        text-align: right;\n",
       "    }\n",
       "</style>\n",
       "<table border=\"1\" class=\"dataframe\">\n",
       "  <thead>\n",
       "    <tr style=\"text-align: right;\">\n",
       "      <th></th>\n",
       "      <th>ds</th>\n",
       "      <th>hour</th>\n",
       "      <th>model_name</th>\n",
       "      <th>version</th>\n",
       "      <th>predictions</th>\n",
       "      <th>feature_1</th>\n",
       "      <th>feature_2</th>\n",
       "      <th>feature_3</th>\n",
       "      <th>feature_4</th>\n",
       "      <th>feature_5</th>\n",
       "      <th>feature_6</th>\n",
       "      <th>features_profile</th>\n",
       "      <th>predictions_profile</th>\n",
       "      <th>sample_records</th>\n",
       "    </tr>\n",
       "  </thead>\n",
       "  <tbody>\n",
       "    <tr>\n",
       "      <th>0</th>\n",
       "      <td>2023-01-01</td>\n",
       "      <td>0</td>\n",
       "      <td>demo_model</td>\n",
       "      <td>1.0.1</td>\n",
       "      <td>28.874601</td>\n",
       "      <td>0.0</td>\n",
       "      <td>5.000000e+08</td>\n",
       "      <td>-13.291135</td>\n",
       "      <td>-303.546123</td>\n",
       "      <td>957.0</td>\n",
       "      <td>-6.954191</td>\n",
       "      <td>b'WHY1\\x00\\x92\\x03\\n\\x0e \\xce\\xb4\\xea\\xd1\\xfb0(\\xce\\xb4\\xea\\xd1\\xfb0\\x12\\x12\\n\\tfeature_6\\x12\\x0...</td>\n",
       "      <td>b'WHY1\\x00\\xb0\\x02\\n\\x0e \\xca\\xb5\\xea\\xd1\\xfb0(\\xca\\xb5\\xea\\xd1\\xfb0\\x12\\x12\\n\\x0bpredictions\\x1...</td>\n",
       "      <td>1000</td>\n",
       "    </tr>\n",
       "    <tr>\n",
       "      <th>1</th>\n",
       "      <td>2023-01-01</td>\n",
       "      <td>1</td>\n",
       "      <td>demo_model</td>\n",
       "      <td>1.0.1</td>\n",
       "      <td>34.759167</td>\n",
       "      <td>1.0</td>\n",
       "      <td>2.619048e+00</td>\n",
       "      <td>-13.291135</td>\n",
       "      <td>-226.094488</td>\n",
       "      <td>1111.0</td>\n",
       "      <td>-5.675494</td>\n",
       "      <td>b'WHY1\\x00\\x92\\x03\\n\\x0e \\xf1\\xb5\\xea\\xd1\\xfb0(\\xf1\\xb5\\xea\\xd1\\xfb0\\x12\\x12\\n\\tfeature_6\\x12\\x0...</td>\n",
       "      <td>b'WHY1\\x00\\xb0\\x02\\n\\x0e \\xd8\\xb6\\xea\\xd1\\xfb0(\\xd8\\xb6\\xea\\xd1\\xfb0\\x12\\x12\\n\\x0bpredictions\\x1...</td>\n",
       "      <td>1000</td>\n",
       "    </tr>\n",
       "    <tr>\n",
       "      <th>2</th>\n",
       "      <td>2023-01-01</td>\n",
       "      <td>2</td>\n",
       "      <td>demo_model</td>\n",
       "      <td>1.0.1</td>\n",
       "      <td>31.434237</td>\n",
       "      <td>0.0</td>\n",
       "      <td>5.000000e+08</td>\n",
       "      <td>-13.291135</td>\n",
       "      <td>-257.492325</td>\n",
       "      <td>1969.0</td>\n",
       "      <td>-3.698853</td>\n",
       "      <td>b'WHY1\\x00\\x92\\x03\\n\\x0e \\xf9\\xb6\\xea\\xd1\\xfb0(\\xf9\\xb6\\xea\\xd1\\xfb0\\x12\\x10\\n\\tfeature_1\\x12\\x0...</td>\n",
       "      <td>b'WHY1\\x00\\xb0\\x02\\n\\x0e \\xe0\\xb7\\xea\\xd1\\xfb0(\\xe0\\xb7\\xea\\xd1\\xfb0\\x12\\x12\\n\\x0bpredictions\\x1...</td>\n",
       "      <td>1000</td>\n",
       "    </tr>\n",
       "    <tr>\n",
       "      <th>3</th>\n",
       "      <td>2023-01-01</td>\n",
       "      <td>3</td>\n",
       "      <td>demo_model</td>\n",
       "      <td>1.0.1</td>\n",
       "      <td>26.973177</td>\n",
       "      <td>0.0</td>\n",
       "      <td>0.000000e+00</td>\n",
       "      <td>-13.291135</td>\n",
       "      <td>-260.120910</td>\n",
       "      <td>990.0</td>\n",
       "      <td>-3.830946</td>\n",
       "      <td>b'WHY1\\x00\\x92\\x03\\n\\x0e \\x82\\xb8\\xea\\xd1\\xfb0(\\x82\\xb8\\xea\\xd1\\xfb0\\x12\\x11\\n\\tfeature_2\\x12\\x0...</td>\n",
       "      <td>b'WHY1\\x00\\xb0\\x02\\n\\x0e \\xe9\\xb8\\xea\\xd1\\xfb0(\\xe9\\xb8\\xea\\xd1\\xfb0\\x12\\x12\\n\\x0bpredictions\\x1...</td>\n",
       "      <td>1000</td>\n",
       "    </tr>\n",
       "    <tr>\n",
       "      <th>4</th>\n",
       "      <td>2023-01-01</td>\n",
       "      <td>4</td>\n",
       "      <td>demo_model</td>\n",
       "      <td>1.0.1</td>\n",
       "      <td>18.229908</td>\n",
       "      <td>0.0</td>\n",
       "      <td>2.590361e+00</td>\n",
       "      <td>-13.291135</td>\n",
       "      <td>-368.447875</td>\n",
       "      <td>55.0</td>\n",
       "      <td>-6.030039</td>\n",
       "      <td>b'WHY1\\x00\\x92\\x03\\n\\x0e \\x8a\\xb9\\xea\\xd1\\xfb0(\\x8a\\xb9\\xea\\xd1\\xfb0\\x12\\x11\\n\\tfeature_2\\x12\\x0...</td>\n",
       "      <td>b'WHY1\\x00\\xb0\\x02\\n\\x0e \\xf1\\xb9\\xea\\xd1\\xfb0(\\xf1\\xb9\\xea\\xd1\\xfb0\\x12\\x12\\n\\x0bpredictions\\x1...</td>\n",
       "      <td>1000</td>\n",
       "    </tr>\n",
       "    <tr>\n",
       "      <th>...</th>\n",
       "      <td>...</td>\n",
       "      <td>...</td>\n",
       "      <td>...</td>\n",
       "      <td>...</td>\n",
       "      <td>...</td>\n",
       "      <td>...</td>\n",
       "      <td>...</td>\n",
       "      <td>...</td>\n",
       "      <td>...</td>\n",
       "      <td>...</td>\n",
       "      <td>...</td>\n",
       "      <td>...</td>\n",
       "      <td>...</td>\n",
       "      <td>...</td>\n",
       "    </tr>\n",
       "    <tr>\n",
       "      <th>2091</th>\n",
       "      <td>2023-03-29</td>\n",
       "      <td>3</td>\n",
       "      <td>demo_model</td>\n",
       "      <td>1.0.1</td>\n",
       "      <td>16.853651</td>\n",
       "      <td>0.0</td>\n",
       "      <td>1.739130e+00</td>\n",
       "      <td>16.573775</td>\n",
       "      <td>-226.308186</td>\n",
       "      <td>22.0</td>\n",
       "      <td>-0.404220</td>\n",
       "      <td>b'WHY1\\x00\\x8d\\x03\\n\\x0e \\xd4\\xc5\\xfa\\xd1\\xfb0(\\xd4\\xc5\\xfa\\xd1\\xfb0\\x12\\x11\\n\\tfeature_2\\x12\\x0...</td>\n",
       "      <td>b'WHY1\\x00\\xb0\\x02\\n\\x0e \\x8e\\xc6\\xfa\\xd1\\xfb0(\\x8e\\xc6\\xfa\\xd1\\xfb0\\x12\\x12\\n\\x0bpredictions\\x1...</td>\n",
       "      <td>188</td>\n",
       "    </tr>\n",
       "    <tr>\n",
       "      <th>2092</th>\n",
       "      <td>2023-03-29</td>\n",
       "      <td>4</td>\n",
       "      <td>demo_model</td>\n",
       "      <td>1.0.1</td>\n",
       "      <td>30.805862</td>\n",
       "      <td>1.0</td>\n",
       "      <td>4.736842e+00</td>\n",
       "      <td>16.573775</td>\n",
       "      <td>-355.970607</td>\n",
       "      <td>44.0</td>\n",
       "      <td>-4.701136</td>\n",
       "      <td>b'WHY1\\x00\\x8d\\x03\\n\\x0e \\xa8\\xc6\\xfa\\xd1\\xfb0(\\xa8\\xc6\\xfa\\xd1\\xfb0\\x12\\x11\\n\\tfeature_6\\x12\\x0...</td>\n",
       "      <td>b'WHY1\\x00\\xb0\\x02\\n\\x0e \\xde\\xc6\\xfa\\xd1\\xfb0(\\xde\\xc6\\xfa\\xd1\\xfb0\\x12\\x12\\n\\x0bpredictions\\x1...</td>\n",
       "      <td>125</td>\n",
       "    </tr>\n",
       "    <tr>\n",
       "      <th>2093</th>\n",
       "      <td>2023-03-29</td>\n",
       "      <td>5</td>\n",
       "      <td>demo_model</td>\n",
       "      <td>1.0.1</td>\n",
       "      <td>9.924586</td>\n",
       "      <td>1.0</td>\n",
       "      <td>3.730159e+00</td>\n",
       "      <td>16.573775</td>\n",
       "      <td>-356.026755</td>\n",
       "      <td>22.0</td>\n",
       "      <td>-2.173682</td>\n",
       "      <td>b'WHY1\\x00\\x8d\\x03\\n\\x0e \\xf7\\xc6\\xfa\\xd1\\xfb0(\\xf7\\xc6\\xfa\\xd1\\xfb0\\x12\\x11\\n\\tfeature_2\\x12\\x0...</td>\n",
       "      <td>b'WHY1\\x00\\xb0\\x02\\n\\x0e \\xaa\\xc7\\xfa\\xd1\\xfb0(\\xaa\\xc7\\xfa\\xd1\\xfb0\\x12\\x12\\n\\x0bpredictions\\x1...</td>\n",
       "      <td>67</td>\n",
       "    </tr>\n",
       "    <tr>\n",
       "      <th>2094</th>\n",
       "      <td>2023-03-29</td>\n",
       "      <td>6</td>\n",
       "      <td>demo_model</td>\n",
       "      <td>1.0.1</td>\n",
       "      <td>30.811672</td>\n",
       "      <td>0.0</td>\n",
       "      <td>2.500000e+00</td>\n",
       "      <td>7.376024</td>\n",
       "      <td>-264.412372</td>\n",
       "      <td>33.0</td>\n",
       "      <td>3.319832</td>\n",
       "      <td>b'WHY1\\x00\\x8d\\x03\\n\\x0e \\xc3\\xc7\\xfa\\xd1\\xfb0(\\xc3\\xc7\\xfa\\xd1\\xfb0\\x12\\x11\\n\\tfeature_2\\x12\\x0...</td>\n",
       "      <td>b'WHY1\\x00\\xb0\\x02\\n\\x0e \\xf6\\xc7\\xfa\\xd1\\xfb0(\\xf6\\xc7\\xfa\\xd1\\xfb0\\x12\\x12\\n\\x0bpredictions\\x1...</td>\n",
       "      <td>74</td>\n",
       "    </tr>\n",
       "    <tr>\n",
       "      <th>2095</th>\n",
       "      <td>2023-03-29</td>\n",
       "      <td>7</td>\n",
       "      <td>demo_model</td>\n",
       "      <td>1.0.1</td>\n",
       "      <td>13.667322</td>\n",
       "      <td>1.0</td>\n",
       "      <td>8.333333e-01</td>\n",
       "      <td>7.376024</td>\n",
       "      <td>-346.594101</td>\n",
       "      <td>33.0</td>\n",
       "      <td>0.186642</td>\n",
       "      <td>b'WHY1\\x00\\x8d\\x03\\n\\x0e \\x8f\\xc8\\xfa\\xd1\\xfb0(\\x8f\\xc8\\xfa\\xd1\\xfb0\\x12\\x11\\n\\tfeature_2\\x12\\x0...</td>\n",
       "      <td>b'WHY1\\x00\\xb0\\x02\\n\\x0e \\xc0\\xc8\\xfa\\xd1\\xfb0(\\xc0\\xc8\\xfa\\xd1\\xfb0\\x12\\x12\\n\\x0bpredictions\\x1...</td>\n",
       "      <td>19</td>\n",
       "    </tr>\n",
       "  </tbody>\n",
       "</table>\n",
       "<p>2096 rows × 14 columns</p>\n",
       "</div>"
      ],
      "text/plain": [
       "              ds  hour  model_name version  predictions  feature_1   \n",
       "0     2023-01-01     0  demo_model   1.0.1    28.874601        0.0  \\\n",
       "1     2023-01-01     1  demo_model   1.0.1    34.759167        1.0   \n",
       "2     2023-01-01     2  demo_model   1.0.1    31.434237        0.0   \n",
       "3     2023-01-01     3  demo_model   1.0.1    26.973177        0.0   \n",
       "4     2023-01-01     4  demo_model   1.0.1    18.229908        0.0   \n",
       "...          ...   ...         ...     ...          ...        ...   \n",
       "2091  2023-03-29     3  demo_model   1.0.1    16.853651        0.0   \n",
       "2092  2023-03-29     4  demo_model   1.0.1    30.805862        1.0   \n",
       "2093  2023-03-29     5  demo_model   1.0.1     9.924586        1.0   \n",
       "2094  2023-03-29     6  demo_model   1.0.1    30.811672        0.0   \n",
       "2095  2023-03-29     7  demo_model   1.0.1    13.667322        1.0   \n",
       "\n",
       "         feature_2  feature_3   feature_4  feature_5  feature_6   \n",
       "0     5.000000e+08 -13.291135 -303.546123      957.0  -6.954191  \\\n",
       "1     2.619048e+00 -13.291135 -226.094488     1111.0  -5.675494   \n",
       "2     5.000000e+08 -13.291135 -257.492325     1969.0  -3.698853   \n",
       "3     0.000000e+00 -13.291135 -260.120910      990.0  -3.830946   \n",
       "4     2.590361e+00 -13.291135 -368.447875       55.0  -6.030039   \n",
       "...            ...        ...         ...        ...        ...   \n",
       "2091  1.739130e+00  16.573775 -226.308186       22.0  -0.404220   \n",
       "2092  4.736842e+00  16.573775 -355.970607       44.0  -4.701136   \n",
       "2093  3.730159e+00  16.573775 -356.026755       22.0  -2.173682   \n",
       "2094  2.500000e+00   7.376024 -264.412372       33.0   3.319832   \n",
       "2095  8.333333e-01   7.376024 -346.594101       33.0   0.186642   \n",
       "\n",
       "                                                                                         features_profile   \n",
       "0     b'WHY1\\x00\\x92\\x03\\n\\x0e \\xce\\xb4\\xea\\xd1\\xfb0(\\xce\\xb4\\xea\\xd1\\xfb0\\x12\\x12\\n\\tfeature_6\\x12\\x0...  \\\n",
       "1     b'WHY1\\x00\\x92\\x03\\n\\x0e \\xf1\\xb5\\xea\\xd1\\xfb0(\\xf1\\xb5\\xea\\xd1\\xfb0\\x12\\x12\\n\\tfeature_6\\x12\\x0...   \n",
       "2     b'WHY1\\x00\\x92\\x03\\n\\x0e \\xf9\\xb6\\xea\\xd1\\xfb0(\\xf9\\xb6\\xea\\xd1\\xfb0\\x12\\x10\\n\\tfeature_1\\x12\\x0...   \n",
       "3     b'WHY1\\x00\\x92\\x03\\n\\x0e \\x82\\xb8\\xea\\xd1\\xfb0(\\x82\\xb8\\xea\\xd1\\xfb0\\x12\\x11\\n\\tfeature_2\\x12\\x0...   \n",
       "4     b'WHY1\\x00\\x92\\x03\\n\\x0e \\x8a\\xb9\\xea\\xd1\\xfb0(\\x8a\\xb9\\xea\\xd1\\xfb0\\x12\\x11\\n\\tfeature_2\\x12\\x0...   \n",
       "...                                                                                                   ...   \n",
       "2091  b'WHY1\\x00\\x8d\\x03\\n\\x0e \\xd4\\xc5\\xfa\\xd1\\xfb0(\\xd4\\xc5\\xfa\\xd1\\xfb0\\x12\\x11\\n\\tfeature_2\\x12\\x0...   \n",
       "2092  b'WHY1\\x00\\x8d\\x03\\n\\x0e \\xa8\\xc6\\xfa\\xd1\\xfb0(\\xa8\\xc6\\xfa\\xd1\\xfb0\\x12\\x11\\n\\tfeature_6\\x12\\x0...   \n",
       "2093  b'WHY1\\x00\\x8d\\x03\\n\\x0e \\xf7\\xc6\\xfa\\xd1\\xfb0(\\xf7\\xc6\\xfa\\xd1\\xfb0\\x12\\x11\\n\\tfeature_2\\x12\\x0...   \n",
       "2094  b'WHY1\\x00\\x8d\\x03\\n\\x0e \\xc3\\xc7\\xfa\\xd1\\xfb0(\\xc3\\xc7\\xfa\\xd1\\xfb0\\x12\\x11\\n\\tfeature_2\\x12\\x0...   \n",
       "2095  b'WHY1\\x00\\x8d\\x03\\n\\x0e \\x8f\\xc8\\xfa\\xd1\\xfb0(\\x8f\\xc8\\xfa\\xd1\\xfb0\\x12\\x11\\n\\tfeature_2\\x12\\x0...   \n",
       "\n",
       "                                                                                      predictions_profile   \n",
       "0     b'WHY1\\x00\\xb0\\x02\\n\\x0e \\xca\\xb5\\xea\\xd1\\xfb0(\\xca\\xb5\\xea\\xd1\\xfb0\\x12\\x12\\n\\x0bpredictions\\x1...  \\\n",
       "1     b'WHY1\\x00\\xb0\\x02\\n\\x0e \\xd8\\xb6\\xea\\xd1\\xfb0(\\xd8\\xb6\\xea\\xd1\\xfb0\\x12\\x12\\n\\x0bpredictions\\x1...   \n",
       "2     b'WHY1\\x00\\xb0\\x02\\n\\x0e \\xe0\\xb7\\xea\\xd1\\xfb0(\\xe0\\xb7\\xea\\xd1\\xfb0\\x12\\x12\\n\\x0bpredictions\\x1...   \n",
       "3     b'WHY1\\x00\\xb0\\x02\\n\\x0e \\xe9\\xb8\\xea\\xd1\\xfb0(\\xe9\\xb8\\xea\\xd1\\xfb0\\x12\\x12\\n\\x0bpredictions\\x1...   \n",
       "4     b'WHY1\\x00\\xb0\\x02\\n\\x0e \\xf1\\xb9\\xea\\xd1\\xfb0(\\xf1\\xb9\\xea\\xd1\\xfb0\\x12\\x12\\n\\x0bpredictions\\x1...   \n",
       "...                                                                                                   ...   \n",
       "2091  b'WHY1\\x00\\xb0\\x02\\n\\x0e \\x8e\\xc6\\xfa\\xd1\\xfb0(\\x8e\\xc6\\xfa\\xd1\\xfb0\\x12\\x12\\n\\x0bpredictions\\x1...   \n",
       "2092  b'WHY1\\x00\\xb0\\x02\\n\\x0e \\xde\\xc6\\xfa\\xd1\\xfb0(\\xde\\xc6\\xfa\\xd1\\xfb0\\x12\\x12\\n\\x0bpredictions\\x1...   \n",
       "2093  b'WHY1\\x00\\xb0\\x02\\n\\x0e \\xaa\\xc7\\xfa\\xd1\\xfb0(\\xaa\\xc7\\xfa\\xd1\\xfb0\\x12\\x12\\n\\x0bpredictions\\x1...   \n",
       "2094  b'WHY1\\x00\\xb0\\x02\\n\\x0e \\xf6\\xc7\\xfa\\xd1\\xfb0(\\xf6\\xc7\\xfa\\xd1\\xfb0\\x12\\x12\\n\\x0bpredictions\\x1...   \n",
       "2095  b'WHY1\\x00\\xb0\\x02\\n\\x0e \\xc0\\xc8\\xfa\\xd1\\xfb0(\\xc0\\xc8\\xfa\\xd1\\xfb0\\x12\\x12\\n\\x0bpredictions\\x1...   \n",
       "\n",
       "      sample_records  \n",
       "0               1000  \n",
       "1               1000  \n",
       "2               1000  \n",
       "3               1000  \n",
       "4               1000  \n",
       "...              ...  \n",
       "2091             188  \n",
       "2092             125  \n",
       "2093              67  \n",
       "2094              74  \n",
       "2095              19  \n",
       "\n",
       "[2096 rows x 14 columns]"
      ]
     },
     "execution_count": 62,
     "metadata": {},
     "output_type": "execute_result"
    }
   ],
   "source": [
    "hourly_feature_profile_df"
   ]
  },
  {
   "cell_type": "code",
   "execution_count": 63,
   "id": "4edc61ed",
   "metadata": {
    "collapsed": false,
    "jupyter": {
     "outputs_hidden": false
    },
    "pycharm": {
     "name": "#%%\n"
    },
    "tags": []
   },
   "outputs": [
    {
     "data": {
      "text/html": [
       "<div>\n",
       "<style scoped>\n",
       "    .dataframe tbody tr th:only-of-type {\n",
       "        vertical-align: middle;\n",
       "    }\n",
       "\n",
       "    .dataframe tbody tr th {\n",
       "        vertical-align: top;\n",
       "    }\n",
       "\n",
       "    .dataframe thead th {\n",
       "        text-align: right;\n",
       "    }\n",
       "</style>\n",
       "<table border=\"1\" class=\"dataframe\">\n",
       "  <thead>\n",
       "    <tr style=\"text-align: right;\">\n",
       "      <th></th>\n",
       "      <th>ds</th>\n",
       "      <th>model_name</th>\n",
       "      <th>version</th>\n",
       "      <th>predictions</th>\n",
       "      <th>feature_1</th>\n",
       "      <th>feature_2</th>\n",
       "      <th>feature_3</th>\n",
       "      <th>feature_4</th>\n",
       "      <th>feature_5</th>\n",
       "      <th>feature_6</th>\n",
       "      <th>features_profile</th>\n",
       "      <th>predictions_profile</th>\n",
       "      <th>sample_records</th>\n",
       "    </tr>\n",
       "  </thead>\n",
       "  <tbody>\n",
       "    <tr>\n",
       "      <th>0</th>\n",
       "      <td>2023-01-01</td>\n",
       "      <td>demo_model</td>\n",
       "      <td>1.0.1</td>\n",
       "      <td>28.874601</td>\n",
       "      <td>0.0</td>\n",
       "      <td>500000000.0</td>\n",
       "      <td>-13.291135</td>\n",
       "      <td>-303.546123</td>\n",
       "      <td>957.0</td>\n",
       "      <td>-6.954191</td>\n",
       "      <td>b'WHY1\\x00\\x93\\x03\\n\\x0e \\xce\\xb4\\xea\\xd1\\xfb0(\\xce\\xb4\\xea\\xd1\\xfb0\\x12\\x12\\n\\tfeature_4\\x12\\x0...</td>\n",
       "      <td>b'WHY1\\x00\\xb1\\x02\\n\\x0e \\xca\\xb5\\xea\\xd1\\xfb0(\\xca\\xb5\\xea\\xd1\\xfb0\\x12\\x12\\n\\x0bpredictions\\x1...</td>\n",
       "      <td>24001</td>\n",
       "    </tr>\n",
       "  </tbody>\n",
       "</table>\n",
       "</div>"
      ],
      "text/plain": [
       "           ds  model_name version  predictions  feature_1    feature_2   \n",
       "0  2023-01-01  demo_model   1.0.1    28.874601        0.0  500000000.0  \\\n",
       "\n",
       "   feature_3   feature_4  feature_5  feature_6   \n",
       "0 -13.291135 -303.546123      957.0  -6.954191  \\\n",
       "\n",
       "                                                                                      features_profile   \n",
       "0  b'WHY1\\x00\\x93\\x03\\n\\x0e \\xce\\xb4\\xea\\xd1\\xfb0(\\xce\\xb4\\xea\\xd1\\xfb0\\x12\\x12\\n\\tfeature_4\\x12\\x0...  \\\n",
       "\n",
       "                                                                                   predictions_profile   \n",
       "0  b'WHY1\\x00\\xb1\\x02\\n\\x0e \\xca\\xb5\\xea\\xd1\\xfb0(\\xca\\xb5\\xea\\xd1\\xfb0\\x12\\x12\\n\\x0bpredictions\\x1...  \\\n",
       "\n",
       "   sample_records  \n",
       "0           24001  "
      ]
     },
     "execution_count": 63,
     "metadata": {},
     "output_type": "execute_result"
    }
   ],
   "source": [
    "profile_reduce(hourly_feature_profile_df[hourly_feature_profile_df['ds'] == '2023-01-01'])"
   ]
  },
  {
   "cell_type": "code",
   "execution_count": 64,
   "id": "439119ef",
   "metadata": {
    "collapsed": false,
    "jupyter": {
     "outputs_hidden": false
    },
    "pycharm": {
     "name": "#%%\n"
    },
    "tags": []
   },
   "outputs": [],
   "source": [
    "from fugue import transform\n",
    "\n",
    "daily_feature_profile_df = transform(\n",
    "    df=hourly_feature_profile_df, \n",
    "    using=profile_reduce, \n",
    "    schema=\"*-hour\",\n",
    "    partition=dict(by=['ds', 'model_name', 'version']), \n",
    "    engine=None\n",
    ")"
   ]
  },
  {
   "cell_type": "code",
   "execution_count": null,
   "id": "fa919c11",
   "metadata": {
    "collapsed": false,
    "jupyter": {
     "outputs_hidden": false
    },
    "pycharm": {
     "name": "#%%\n"
    }
   },
   "outputs": [],
   "source": []
  },
  {
   "cell_type": "code",
   "execution_count": 65,
   "id": "f9eed769",
   "metadata": {
    "collapsed": false,
    "jupyter": {
     "outputs_hidden": false
    },
    "pycharm": {
     "name": "#%%\n"
    },
    "tags": []
   },
   "outputs": [
    {
     "data": {
      "text/html": [
       "<div>\n",
       "<style scoped>\n",
       "    .dataframe tbody tr th:only-of-type {\n",
       "        vertical-align: middle;\n",
       "    }\n",
       "\n",
       "    .dataframe tbody tr th {\n",
       "        vertical-align: top;\n",
       "    }\n",
       "\n",
       "    .dataframe thead th {\n",
       "        text-align: right;\n",
       "    }\n",
       "</style>\n",
       "<table border=\"1\" class=\"dataframe\">\n",
       "  <thead>\n",
       "    <tr style=\"text-align: right;\">\n",
       "      <th></th>\n",
       "      <th>ds</th>\n",
       "      <th>model_name</th>\n",
       "      <th>version</th>\n",
       "      <th>predictions</th>\n",
       "      <th>feature_1</th>\n",
       "      <th>feature_2</th>\n",
       "      <th>feature_3</th>\n",
       "      <th>feature_4</th>\n",
       "      <th>feature_5</th>\n",
       "      <th>feature_6</th>\n",
       "      <th>features_profile</th>\n",
       "      <th>predictions_profile</th>\n",
       "      <th>sample_records</th>\n",
       "    </tr>\n",
       "  </thead>\n",
       "  <tbody>\n",
       "    <tr>\n",
       "      <th>0</th>\n",
       "      <td>2023-01-01</td>\n",
       "      <td>demo_model</td>\n",
       "      <td>1.0.1</td>\n",
       "      <td>28.874601</td>\n",
       "      <td>0.0</td>\n",
       "      <td>5.000000e+08</td>\n",
       "      <td>-13.291135</td>\n",
       "      <td>-303.546123</td>\n",
       "      <td>957.0</td>\n",
       "      <td>-6.954191</td>\n",
       "      <td>b'WHY1\\x00\\x93\\x03\\n\\x0e \\xce\\xb4\\xea\\xd1\\xfb0(\\xce\\xb4\\xea\\xd1\\xfb0\\x12\\x12\\n\\tfeature_6\\x12\\x0...</td>\n",
       "      <td>b'WHY1\\x00\\xb1\\x02\\n\\x0e \\xca\\xb5\\xea\\xd1\\xfb0(\\xca\\xb5\\xea\\xd1\\xfb0\\x12\\x12\\n\\x0bpredictions\\x1...</td>\n",
       "      <td>24001</td>\n",
       "    </tr>\n",
       "    <tr>\n",
       "      <th>1</th>\n",
       "      <td>2023-01-02</td>\n",
       "      <td>demo_model</td>\n",
       "      <td>1.0.1</td>\n",
       "      <td>17.241968</td>\n",
       "      <td>1.0</td>\n",
       "      <td>3.750000e+00</td>\n",
       "      <td>-0.000000</td>\n",
       "      <td>-226.315937</td>\n",
       "      <td>44.0</td>\n",
       "      <td>-6.295416</td>\n",
       "      <td>b'WHY1\\x00\\x93\\x03\\n\\x0e \\xd6\\xcf\\xea\\xd1\\xfb0(\\xd6\\xcf\\xea\\xd1\\xfb0\\x12\\x12\\n\\tfeature_2\\x12\\x0...</td>\n",
       "      <td>b'WHY1\\x00\\xb1\\x02\\n\\x0e \\xce\\xd0\\xea\\xd1\\xfb0(\\xce\\xd0\\xea\\xd1\\xfb0\\x12\\x12\\n\\x0bpredictions\\x1...</td>\n",
       "      <td>23999</td>\n",
       "    </tr>\n",
       "    <tr>\n",
       "      <th>2</th>\n",
       "      <td>2023-01-03</td>\n",
       "      <td>demo_model</td>\n",
       "      <td>1.0.1</td>\n",
       "      <td>5.838543</td>\n",
       "      <td>1.0</td>\n",
       "      <td>5.000000e+08</td>\n",
       "      <td>13.291135</td>\n",
       "      <td>-222.223722</td>\n",
       "      <td>33.0</td>\n",
       "      <td>-6.190258</td>\n",
       "      <td>b'WHY1\\x00\\x93\\x03\\n\\x0e \\xa3\\xe9\\xea\\xd1\\xfb0(\\xa3\\xe9\\xea\\xd1\\xfb0\\x12\\x10\\n\\tfeature_1\\x12\\x0...</td>\n",
       "      <td>b'WHY1\\x00\\xb1\\x02\\n\\x0e \\x89\\xea\\xea\\xd1\\xfb0(\\x89\\xea\\xea\\xd1\\xfb0\\x12\\x12\\n\\x0bpredictions\\x1...</td>\n",
       "      <td>24000</td>\n",
       "    </tr>\n",
       "    <tr>\n",
       "      <th>3</th>\n",
       "      <td>2023-01-04</td>\n",
       "      <td>demo_model</td>\n",
       "      <td>1.0.1</td>\n",
       "      <td>15.285272</td>\n",
       "      <td>1.0</td>\n",
       "      <td>2.631579e+00</td>\n",
       "      <td>16.573775</td>\n",
       "      <td>-355.747054</td>\n",
       "      <td>363.0</td>\n",
       "      <td>-6.324387</td>\n",
       "      <td>b'WHY1\\x00\\x93\\x03\\n\\x0e \\x95\\x85\\xeb\\xd1\\xfb0(\\x95\\x85\\xeb\\xd1\\xfb0\\x12\\x10\\n\\tfeature_1\\x12\\x0...</td>\n",
       "      <td>b'WHY1\\x00\\xb1\\x02\\n\\x0e \\xfa\\x85\\xeb\\xd1\\xfb0(\\xfa\\x85\\xeb\\xd1\\xfb0\\x12\\x12\\n\\x0bpredictions\\x1...</td>\n",
       "      <td>24000</td>\n",
       "    </tr>\n",
       "    <tr>\n",
       "      <th>4</th>\n",
       "      <td>2023-01-05</td>\n",
       "      <td>demo_model</td>\n",
       "      <td>1.0.1</td>\n",
       "      <td>5.200397</td>\n",
       "      <td>1.0</td>\n",
       "      <td>5.000000e+08</td>\n",
       "      <td>7.376024</td>\n",
       "      <td>-223.297205</td>\n",
       "      <td>33.0</td>\n",
       "      <td>-6.862306</td>\n",
       "      <td>b'WHY1\\x00\\x93\\x03\\n\\x0e \\xf0\\x9e\\xeb\\xd1\\xfb0(\\xf0\\x9e\\xeb\\xd1\\xfb0\\x12\\x12\\n\\tfeature_2\\x12\\x0...</td>\n",
       "      <td>b'WHY1\\x00\\xb1\\x02\\n\\x0e \\xd8\\x9f\\xeb\\xd1\\xfb0(\\xd8\\x9f\\xeb\\xd1\\xfb0\\x12\\x12\\n\\x0bpredictions\\x1...</td>\n",
       "      <td>24000</td>\n",
       "    </tr>\n",
       "    <tr>\n",
       "      <th>...</th>\n",
       "      <td>...</td>\n",
       "      <td>...</td>\n",
       "      <td>...</td>\n",
       "      <td>...</td>\n",
       "      <td>...</td>\n",
       "      <td>...</td>\n",
       "      <td>...</td>\n",
       "      <td>...</td>\n",
       "      <td>...</td>\n",
       "      <td>...</td>\n",
       "      <td>...</td>\n",
       "      <td>...</td>\n",
       "      <td>...</td>\n",
       "    </tr>\n",
       "    <tr>\n",
       "      <th>83</th>\n",
       "      <td>2023-03-25</td>\n",
       "      <td>demo_model</td>\n",
       "      <td>1.0.1</td>\n",
       "      <td>20.648773</td>\n",
       "      <td>0.0</td>\n",
       "      <td>8.088235e-01</td>\n",
       "      <td>-16.573775</td>\n",
       "      <td>-368.562824</td>\n",
       "      <td>22.0</td>\n",
       "      <td>-7.097175</td>\n",
       "      <td>b'WHY1\\x00\\x92\\x03\\n\\x0e \\x87\\x84\\xfa\\xd1\\xfb0(\\x87\\x84\\xfa\\xd1\\xfb0\\x12\\x12\\n\\tfeature_3\\x12\\x0...</td>\n",
       "      <td>b'WHY1\\x00\\xb1\\x02\\n\\x0e \\xc5\\x84\\xfa\\xd1\\xfb0(\\xc5\\x84\\xfa\\xd1\\xfb0\\x12\\x12\\n\\x0bpredictions\\x1...</td>\n",
       "      <td>4248</td>\n",
       "    </tr>\n",
       "    <tr>\n",
       "      <th>84</th>\n",
       "      <td>2023-03-26</td>\n",
       "      <td>demo_model</td>\n",
       "      <td>1.0.1</td>\n",
       "      <td>13.163588</td>\n",
       "      <td>1.0</td>\n",
       "      <td>2.500000e+00</td>\n",
       "      <td>-13.291135</td>\n",
       "      <td>-263.689394</td>\n",
       "      <td>33.0</td>\n",
       "      <td>-6.689304</td>\n",
       "      <td>b'WHY1\\x00\\x93\\x03\\n\\x0e \\xce\\x93\\xfa\\xd1\\xfb0(\\xce\\x93\\xfa\\xd1\\xfb0\\x12\\x12\\n\\tfeature_4\\x12\\x0...</td>\n",
       "      <td>b'WHY1\\x00\\xb1\\x02\\n\\x0e \\x89\\x94\\xfa\\xd1\\xfb0(\\x89\\x94\\xfa\\xd1\\xfb0\\x12\\x12\\n\\x0bpredictions\\x1...</td>\n",
       "      <td>3784</td>\n",
       "    </tr>\n",
       "    <tr>\n",
       "      <th>85</th>\n",
       "      <td>2023-03-27</td>\n",
       "      <td>demo_model</td>\n",
       "      <td>1.0.1</td>\n",
       "      <td>29.717026</td>\n",
       "      <td>1.0</td>\n",
       "      <td>2.500000e+00</td>\n",
       "      <td>-0.000000</td>\n",
       "      <td>-213.566814</td>\n",
       "      <td>110.0</td>\n",
       "      <td>-5.962720</td>\n",
       "      <td>b'WHY1\\x00\\x93\\x03\\n\\x0e \\xf8\\xa2\\xfa\\xd1\\xfb0(\\xf8\\xa2\\xfa\\xd1\\xfb0\\x12\\x12\\n\\tfeature_3\\x12\\x0...</td>\n",
       "      <td>b'WHY1\\x00\\xb1\\x02\\n\\x0e \\xb5\\xa3\\xfa\\xd1\\xfb0(\\xb5\\xa3\\xfa\\xd1\\xfb0\\x12\\x12\\n\\x0bpredictions\\x1...</td>\n",
       "      <td>3686</td>\n",
       "    </tr>\n",
       "    <tr>\n",
       "      <th>86</th>\n",
       "      <td>2023-03-28</td>\n",
       "      <td>demo_model</td>\n",
       "      <td>1.0.1</td>\n",
       "      <td>11.663711</td>\n",
       "      <td>1.0</td>\n",
       "      <td>5.520833e+00</td>\n",
       "      <td>13.291135</td>\n",
       "      <td>-263.896567</td>\n",
       "      <td>44.0</td>\n",
       "      <td>-6.435433</td>\n",
       "      <td>b'WHY1\\x00\\x92\\x03\\n\\x0e \\xb0\\xb3\\xfa\\xd1\\xfb0(\\xb0\\xb3\\xfa\\xd1\\xfb0\\x12\\x12\\n\\tfeature_5\\x12\\x0...</td>\n",
       "      <td>b'WHY1\\x00\\xb1\\x02\\n\\x0e \\xe7\\xb3\\xfa\\xd1\\xfb0(\\xe7\\xb3\\xfa\\xd1\\xfb0\\x12\\x12\\n\\x0bpredictions\\x1...</td>\n",
       "      <td>5290</td>\n",
       "    </tr>\n",
       "    <tr>\n",
       "      <th>87</th>\n",
       "      <td>2023-03-29</td>\n",
       "      <td>demo_model</td>\n",
       "      <td>1.0.1</td>\n",
       "      <td>26.400421</td>\n",
       "      <td>0.0</td>\n",
       "      <td>6.000000e-01</td>\n",
       "      <td>16.573775</td>\n",
       "      <td>-226.110444</td>\n",
       "      <td>44.0</td>\n",
       "      <td>-5.979721</td>\n",
       "      <td>b'WHY1\\x00\\x92\\x03\\n\\x0e \\xd6\\xc3\\xfa\\xd1\\xfb0(\\xd6\\xc3\\xfa\\xd1\\xfb0\\x12\\x10\\n\\tfeature_1\\x12\\x0...</td>\n",
       "      <td>b'WHY1\\x00\\xb0\\x02\\n\\x0e \\x8f\\xc4\\xfa\\xd1\\xfb0(\\x8f\\xc4\\xfa\\xd1\\xfb0\\x12\\x12\\n\\x0bpredictions\\x1...</td>\n",
       "      <td>1013</td>\n",
       "    </tr>\n",
       "  </tbody>\n",
       "</table>\n",
       "<p>88 rows × 13 columns</p>\n",
       "</div>"
      ],
      "text/plain": [
       "            ds  model_name version  predictions  feature_1     feature_2   \n",
       "0   2023-01-01  demo_model   1.0.1    28.874601        0.0  5.000000e+08  \\\n",
       "1   2023-01-02  demo_model   1.0.1    17.241968        1.0  3.750000e+00   \n",
       "2   2023-01-03  demo_model   1.0.1     5.838543        1.0  5.000000e+08   \n",
       "3   2023-01-04  demo_model   1.0.1    15.285272        1.0  2.631579e+00   \n",
       "4   2023-01-05  demo_model   1.0.1     5.200397        1.0  5.000000e+08   \n",
       "..         ...         ...     ...          ...        ...           ...   \n",
       "83  2023-03-25  demo_model   1.0.1    20.648773        0.0  8.088235e-01   \n",
       "84  2023-03-26  demo_model   1.0.1    13.163588        1.0  2.500000e+00   \n",
       "85  2023-03-27  demo_model   1.0.1    29.717026        1.0  2.500000e+00   \n",
       "86  2023-03-28  demo_model   1.0.1    11.663711        1.0  5.520833e+00   \n",
       "87  2023-03-29  demo_model   1.0.1    26.400421        0.0  6.000000e-01   \n",
       "\n",
       "    feature_3   feature_4  feature_5  feature_6   \n",
       "0  -13.291135 -303.546123      957.0  -6.954191  \\\n",
       "1   -0.000000 -226.315937       44.0  -6.295416   \n",
       "2   13.291135 -222.223722       33.0  -6.190258   \n",
       "3   16.573775 -355.747054      363.0  -6.324387   \n",
       "4    7.376024 -223.297205       33.0  -6.862306   \n",
       "..        ...         ...        ...        ...   \n",
       "83 -16.573775 -368.562824       22.0  -7.097175   \n",
       "84 -13.291135 -263.689394       33.0  -6.689304   \n",
       "85  -0.000000 -213.566814      110.0  -5.962720   \n",
       "86  13.291135 -263.896567       44.0  -6.435433   \n",
       "87  16.573775 -226.110444       44.0  -5.979721   \n",
       "\n",
       "                                                                                       features_profile   \n",
       "0   b'WHY1\\x00\\x93\\x03\\n\\x0e \\xce\\xb4\\xea\\xd1\\xfb0(\\xce\\xb4\\xea\\xd1\\xfb0\\x12\\x12\\n\\tfeature_6\\x12\\x0...  \\\n",
       "1   b'WHY1\\x00\\x93\\x03\\n\\x0e \\xd6\\xcf\\xea\\xd1\\xfb0(\\xd6\\xcf\\xea\\xd1\\xfb0\\x12\\x12\\n\\tfeature_2\\x12\\x0...   \n",
       "2   b'WHY1\\x00\\x93\\x03\\n\\x0e \\xa3\\xe9\\xea\\xd1\\xfb0(\\xa3\\xe9\\xea\\xd1\\xfb0\\x12\\x10\\n\\tfeature_1\\x12\\x0...   \n",
       "3   b'WHY1\\x00\\x93\\x03\\n\\x0e \\x95\\x85\\xeb\\xd1\\xfb0(\\x95\\x85\\xeb\\xd1\\xfb0\\x12\\x10\\n\\tfeature_1\\x12\\x0...   \n",
       "4   b'WHY1\\x00\\x93\\x03\\n\\x0e \\xf0\\x9e\\xeb\\xd1\\xfb0(\\xf0\\x9e\\xeb\\xd1\\xfb0\\x12\\x12\\n\\tfeature_2\\x12\\x0...   \n",
       "..                                                                                                  ...   \n",
       "83  b'WHY1\\x00\\x92\\x03\\n\\x0e \\x87\\x84\\xfa\\xd1\\xfb0(\\x87\\x84\\xfa\\xd1\\xfb0\\x12\\x12\\n\\tfeature_3\\x12\\x0...   \n",
       "84  b'WHY1\\x00\\x93\\x03\\n\\x0e \\xce\\x93\\xfa\\xd1\\xfb0(\\xce\\x93\\xfa\\xd1\\xfb0\\x12\\x12\\n\\tfeature_4\\x12\\x0...   \n",
       "85  b'WHY1\\x00\\x93\\x03\\n\\x0e \\xf8\\xa2\\xfa\\xd1\\xfb0(\\xf8\\xa2\\xfa\\xd1\\xfb0\\x12\\x12\\n\\tfeature_3\\x12\\x0...   \n",
       "86  b'WHY1\\x00\\x92\\x03\\n\\x0e \\xb0\\xb3\\xfa\\xd1\\xfb0(\\xb0\\xb3\\xfa\\xd1\\xfb0\\x12\\x12\\n\\tfeature_5\\x12\\x0...   \n",
       "87  b'WHY1\\x00\\x92\\x03\\n\\x0e \\xd6\\xc3\\xfa\\xd1\\xfb0(\\xd6\\xc3\\xfa\\xd1\\xfb0\\x12\\x10\\n\\tfeature_1\\x12\\x0...   \n",
       "\n",
       "                                                                                    predictions_profile   \n",
       "0   b'WHY1\\x00\\xb1\\x02\\n\\x0e \\xca\\xb5\\xea\\xd1\\xfb0(\\xca\\xb5\\xea\\xd1\\xfb0\\x12\\x12\\n\\x0bpredictions\\x1...  \\\n",
       "1   b'WHY1\\x00\\xb1\\x02\\n\\x0e \\xce\\xd0\\xea\\xd1\\xfb0(\\xce\\xd0\\xea\\xd1\\xfb0\\x12\\x12\\n\\x0bpredictions\\x1...   \n",
       "2   b'WHY1\\x00\\xb1\\x02\\n\\x0e \\x89\\xea\\xea\\xd1\\xfb0(\\x89\\xea\\xea\\xd1\\xfb0\\x12\\x12\\n\\x0bpredictions\\x1...   \n",
       "3   b'WHY1\\x00\\xb1\\x02\\n\\x0e \\xfa\\x85\\xeb\\xd1\\xfb0(\\xfa\\x85\\xeb\\xd1\\xfb0\\x12\\x12\\n\\x0bpredictions\\x1...   \n",
       "4   b'WHY1\\x00\\xb1\\x02\\n\\x0e \\xd8\\x9f\\xeb\\xd1\\xfb0(\\xd8\\x9f\\xeb\\xd1\\xfb0\\x12\\x12\\n\\x0bpredictions\\x1...   \n",
       "..                                                                                                  ...   \n",
       "83  b'WHY1\\x00\\xb1\\x02\\n\\x0e \\xc5\\x84\\xfa\\xd1\\xfb0(\\xc5\\x84\\xfa\\xd1\\xfb0\\x12\\x12\\n\\x0bpredictions\\x1...   \n",
       "84  b'WHY1\\x00\\xb1\\x02\\n\\x0e \\x89\\x94\\xfa\\xd1\\xfb0(\\x89\\x94\\xfa\\xd1\\xfb0\\x12\\x12\\n\\x0bpredictions\\x1...   \n",
       "85  b'WHY1\\x00\\xb1\\x02\\n\\x0e \\xb5\\xa3\\xfa\\xd1\\xfb0(\\xb5\\xa3\\xfa\\xd1\\xfb0\\x12\\x12\\n\\x0bpredictions\\x1...   \n",
       "86  b'WHY1\\x00\\xb1\\x02\\n\\x0e \\xe7\\xb3\\xfa\\xd1\\xfb0(\\xe7\\xb3\\xfa\\xd1\\xfb0\\x12\\x12\\n\\x0bpredictions\\x1...   \n",
       "87  b'WHY1\\x00\\xb0\\x02\\n\\x0e \\x8f\\xc4\\xfa\\xd1\\xfb0(\\x8f\\xc4\\xfa\\xd1\\xfb0\\x12\\x12\\n\\x0bpredictions\\x1...   \n",
       "\n",
       "    sample_records  \n",
       "0            24001  \n",
       "1            23999  \n",
       "2            24000  \n",
       "3            24000  \n",
       "4            24000  \n",
       "..             ...  \n",
       "83            4248  \n",
       "84            3784  \n",
       "85            3686  \n",
       "86            5290  \n",
       "87            1013  \n",
       "\n",
       "[88 rows x 13 columns]"
      ]
     },
     "execution_count": 65,
     "metadata": {},
     "output_type": "execute_result"
    }
   ],
   "source": [
    "daily_feature_profile_df"
   ]
  },
  {
   "cell_type": "markdown",
   "id": "2b487faa",
   "metadata": {
    "pycharm": {
     "name": "#%% md\n"
    }
   },
   "source": [
    "### Scaling up with Fugue & Dask"
   ]
  },
  {
   "cell_type": "markdown",
   "id": "9cce7e36",
   "metadata": {
    "pycharm": {
     "name": "#%% md\n"
    }
   },
   "source": [
    "#### DASK"
   ]
  },
  {
   "cell_type": "code",
   "execution_count": 66,
   "id": "59d41475",
   "metadata": {
    "collapsed": false,
    "jupyter": {
     "outputs_hidden": false
    },
    "pycharm": {
     "name": "#%%\n"
    },
    "tags": []
   },
   "outputs": [
    {
     "name": "stderr",
     "output_type": "stream",
     "text": [
      "<jemalloc>: MADV_DONTNEED does not work (memset will be used instead)\n",
      "<jemalloc>: (This is the expected behaviour if you are running under QEMU)\n",
      "<jemalloc>: MADV_DONTNEED does not work (memset will be used instead)\n",
      "<jemalloc>: (This is the expected behaviour if you are running under QEMU)\n",
      "<jemalloc>: MADV_DONTNEED does not work (memset will be used instead)\n",
      "<jemalloc>: (This is the expected behaviour if you are running under QEMU)\n"
     ]
    }
   ],
   "source": [
    "from fugue import transform\n",
    "\n",
    "hourly_feature_profile_df = transform(\n",
    "    df=features_df, \n",
    "    using=profile_features, \n",
    "    schema=\"*-occurred_at+features_profile:binary,predictions_profile:binary,sample_records:long\",\n",
    "    partition=dict(by=['ds', 'hour', 'model_name', 'version']), \n",
    "    engine=\"dask\"\n",
    ")"
   ]
  },
  {
   "cell_type": "code",
   "execution_count": 67,
   "id": "ca3ef4d5",
   "metadata": {
    "collapsed": false,
    "jupyter": {
     "outputs_hidden": false
    },
    "pycharm": {
     "name": "#%%\n"
    },
    "tags": []
   },
   "outputs": [
    {
     "name": "stderr",
     "output_type": "stream",
     "text": [
      "/opt/conda/lib/python3.10/site-packages/distributed/client.py:3095: UserWarning: Sending large graph of size 125.58 MiB.\n",
      "This may cause some slowdown.\n",
      "Consider scattering data ahead of time and using futures.\n",
      "  warnings.warn(\n"
     ]
    },
    {
     "data": {
      "text/html": [
       "<div>\n",
       "<style scoped>\n",
       "    .dataframe tbody tr th:only-of-type {\n",
       "        vertical-align: middle;\n",
       "    }\n",
       "\n",
       "    .dataframe tbody tr th {\n",
       "        vertical-align: top;\n",
       "    }\n",
       "\n",
       "    .dataframe thead th {\n",
       "        text-align: right;\n",
       "    }\n",
       "</style>\n",
       "<table border=\"1\" class=\"dataframe\">\n",
       "  <thead>\n",
       "    <tr style=\"text-align: right;\">\n",
       "      <th></th>\n",
       "      <th>ds</th>\n",
       "      <th>hour</th>\n",
       "      <th>model_name</th>\n",
       "      <th>version</th>\n",
       "      <th>predictions</th>\n",
       "      <th>feature_1</th>\n",
       "      <th>feature_2</th>\n",
       "      <th>feature_3</th>\n",
       "      <th>feature_4</th>\n",
       "      <th>feature_5</th>\n",
       "      <th>feature_6</th>\n",
       "      <th>features_profile</th>\n",
       "      <th>predictions_profile</th>\n",
       "      <th>sample_records</th>\n",
       "    </tr>\n",
       "  </thead>\n",
       "  <tbody>\n",
       "    <tr>\n",
       "      <th>0</th>\n",
       "      <td>2023-01-01</td>\n",
       "      <td>2</td>\n",
       "      <td>demo_model</td>\n",
       "      <td>1.0.1</td>\n",
       "      <td>31.434237</td>\n",
       "      <td>0.0</td>\n",
       "      <td>5.000000e+08</td>\n",
       "      <td>-13.291135</td>\n",
       "      <td>-257.492325</td>\n",
       "      <td>1969.0</td>\n",
       "      <td>-3.698853</td>\n",
       "      <td>b'WHY1\\x00\\x92\\x03\\n\\x0e \\xae\\xfc\\x99\\xd2\\xfb0(\\xae\\xfc\\x99\\xd2\\xfb0\\x12\\x12\\n\\tfeature_3\\x12\\x0...</td>\n",
       "      <td>b'WHY1\\x00\\xb0\\x02\\n\\x0e \\xbd\\xfe\\x99\\xd2\\xfb0(\\xbd\\xfe\\x99\\xd2\\xfb0\\x12\\x12\\n\\x0bpredictions\\x1...</td>\n",
       "      <td>1000</td>\n",
       "    </tr>\n",
       "    <tr>\n",
       "      <th>1</th>\n",
       "      <td>2023-01-02</td>\n",
       "      <td>9</td>\n",
       "      <td>demo_model</td>\n",
       "      <td>1.0.1</td>\n",
       "      <td>19.137638</td>\n",
       "      <td>1.0</td>\n",
       "      <td>1.400000e+01</td>\n",
       "      <td>13.291135</td>\n",
       "      <td>-280.842539</td>\n",
       "      <td>44.0</td>\n",
       "      <td>6.013381</td>\n",
       "      <td>b'WHY1\\x00\\x92\\x03\\n\\x0e \\x84\\xff\\x99\\xd2\\xfb0(\\x84\\xff\\x99\\xd2\\xfb0\\x12\\x12\\n\\tfeature_6\\x12\\x0...</td>\n",
       "      <td>b'WHY1\\x00\\xb0\\x02\\n\\x0e \\x8b\\x81\\x9a\\xd2\\xfb0(\\x8b\\x81\\x9a\\xd2\\xfb0\\x12\\x12\\n\\x0bpredictions\\x1...</td>\n",
       "      <td>1000</td>\n",
       "    </tr>\n",
       "    <tr>\n",
       "      <th>2</th>\n",
       "      <td>2023-01-02</td>\n",
       "      <td>22</td>\n",
       "      <td>demo_model</td>\n",
       "      <td>1.0.1</td>\n",
       "      <td>11.617042</td>\n",
       "      <td>1.0</td>\n",
       "      <td>4.473684e+00</td>\n",
       "      <td>13.291135</td>\n",
       "      <td>-336.947768</td>\n",
       "      <td>110.0</td>\n",
       "      <td>-6.111603</td>\n",
       "      <td>b'WHY1\\x00\\x92\\x03\\n\\x0e \\xec\\x81\\x9a\\xd2\\xfb0(\\xec\\x81\\x9a\\xd2\\xfb0\\x12\\x12\\n\\tfeature_6\\x12\\x0...</td>\n",
       "      <td>b'WHY1\\x00\\xb0\\x02\\n\\x0e \\xb2\\x83\\x9a\\xd2\\xfb0(\\xb2\\x83\\x9a\\xd2\\xfb0\\x12\\x12\\n\\x0bpredictions\\x1...</td>\n",
       "      <td>1000</td>\n",
       "    </tr>\n",
       "    <tr>\n",
       "      <th>3</th>\n",
       "      <td>2023-01-03</td>\n",
       "      <td>2</td>\n",
       "      <td>demo_model</td>\n",
       "      <td>1.0.1</td>\n",
       "      <td>34.734276</td>\n",
       "      <td>1.0</td>\n",
       "      <td>5.000000e+08</td>\n",
       "      <td>13.291135</td>\n",
       "      <td>-222.465304</td>\n",
       "      <td>1584.0</td>\n",
       "      <td>-4.064077</td>\n",
       "      <td>b'WHY1\\x00\\x92\\x03\\n\\x0e \\x83\\x84\\x9a\\xd2\\xfb0(\\x83\\x84\\x9a\\xd2\\xfb0\\x12\\x10\\n\\tfeature_1\\x12\\x0...</td>\n",
       "      <td>b'WHY1\\x00\\xb0\\x02\\n\\x0e \\xc7\\x85\\x9a\\xd2\\xfb0(\\xc7\\x85\\x9a\\xd2\\xfb0\\x12\\x12\\n\\x0bpredictions\\x1...</td>\n",
       "      <td>1000</td>\n",
       "    </tr>\n",
       "    <tr>\n",
       "      <th>4</th>\n",
       "      <td>2023-01-04</td>\n",
       "      <td>10</td>\n",
       "      <td>demo_model</td>\n",
       "      <td>1.0.1</td>\n",
       "      <td>6.508048</td>\n",
       "      <td>0.0</td>\n",
       "      <td>5.000000e+00</td>\n",
       "      <td>7.376024</td>\n",
       "      <td>-352.856626</td>\n",
       "      <td>44.0</td>\n",
       "      <td>5.019625</td>\n",
       "      <td>b'WHY1\\x00\\x92\\x03\\n\\x0e \\xa3\\x86\\x9a\\xd2\\xfb0(\\xa3\\x86\\x9a\\xd2\\xfb0\\x12\\x12\\n\\tfeature_5\\x12\\x0...</td>\n",
       "      <td>b'WHY1\\x00\\xb0\\x02\\n\\x0e \\xb9\\x88\\x9a\\xd2\\xfb0(\\xb9\\x88\\x9a\\xd2\\xfb0\\x12\\x12\\n\\x0bpredictions\\x1...</td>\n",
       "      <td>999</td>\n",
       "    </tr>\n",
       "  </tbody>\n",
       "</table>\n",
       "</div>"
      ],
      "text/plain": [
       "           ds  hour  model_name version  predictions  feature_1     feature_2   \n",
       "0  2023-01-01     2  demo_model   1.0.1    31.434237        0.0  5.000000e+08  \\\n",
       "1  2023-01-02     9  demo_model   1.0.1    19.137638        1.0  1.400000e+01   \n",
       "2  2023-01-02    22  demo_model   1.0.1    11.617042        1.0  4.473684e+00   \n",
       "3  2023-01-03     2  demo_model   1.0.1    34.734276        1.0  5.000000e+08   \n",
       "4  2023-01-04    10  demo_model   1.0.1     6.508048        0.0  5.000000e+00   \n",
       "\n",
       "   feature_3   feature_4  feature_5  feature_6   \n",
       "0 -13.291135 -257.492325     1969.0  -3.698853  \\\n",
       "1  13.291135 -280.842539       44.0   6.013381   \n",
       "2  13.291135 -336.947768      110.0  -6.111603   \n",
       "3  13.291135 -222.465304     1584.0  -4.064077   \n",
       "4   7.376024 -352.856626       44.0   5.019625   \n",
       "\n",
       "                                                                                      features_profile   \n",
       "0  b'WHY1\\x00\\x92\\x03\\n\\x0e \\xae\\xfc\\x99\\xd2\\xfb0(\\xae\\xfc\\x99\\xd2\\xfb0\\x12\\x12\\n\\tfeature_3\\x12\\x0...  \\\n",
       "1  b'WHY1\\x00\\x92\\x03\\n\\x0e \\x84\\xff\\x99\\xd2\\xfb0(\\x84\\xff\\x99\\xd2\\xfb0\\x12\\x12\\n\\tfeature_6\\x12\\x0...   \n",
       "2  b'WHY1\\x00\\x92\\x03\\n\\x0e \\xec\\x81\\x9a\\xd2\\xfb0(\\xec\\x81\\x9a\\xd2\\xfb0\\x12\\x12\\n\\tfeature_6\\x12\\x0...   \n",
       "3  b'WHY1\\x00\\x92\\x03\\n\\x0e \\x83\\x84\\x9a\\xd2\\xfb0(\\x83\\x84\\x9a\\xd2\\xfb0\\x12\\x10\\n\\tfeature_1\\x12\\x0...   \n",
       "4  b'WHY1\\x00\\x92\\x03\\n\\x0e \\xa3\\x86\\x9a\\xd2\\xfb0(\\xa3\\x86\\x9a\\xd2\\xfb0\\x12\\x12\\n\\tfeature_5\\x12\\x0...   \n",
       "\n",
       "                                                                                   predictions_profile   \n",
       "0  b'WHY1\\x00\\xb0\\x02\\n\\x0e \\xbd\\xfe\\x99\\xd2\\xfb0(\\xbd\\xfe\\x99\\xd2\\xfb0\\x12\\x12\\n\\x0bpredictions\\x1...  \\\n",
       "1  b'WHY1\\x00\\xb0\\x02\\n\\x0e \\x8b\\x81\\x9a\\xd2\\xfb0(\\x8b\\x81\\x9a\\xd2\\xfb0\\x12\\x12\\n\\x0bpredictions\\x1...   \n",
       "2  b'WHY1\\x00\\xb0\\x02\\n\\x0e \\xb2\\x83\\x9a\\xd2\\xfb0(\\xb2\\x83\\x9a\\xd2\\xfb0\\x12\\x12\\n\\x0bpredictions\\x1...   \n",
       "3  b'WHY1\\x00\\xb0\\x02\\n\\x0e \\xc7\\x85\\x9a\\xd2\\xfb0(\\xc7\\x85\\x9a\\xd2\\xfb0\\x12\\x12\\n\\x0bpredictions\\x1...   \n",
       "4  b'WHY1\\x00\\xb0\\x02\\n\\x0e \\xb9\\x88\\x9a\\xd2\\xfb0(\\xb9\\x88\\x9a\\xd2\\xfb0\\x12\\x12\\n\\x0bpredictions\\x1...   \n",
       "\n",
       "   sample_records  \n",
       "0            1000  \n",
       "1            1000  \n",
       "2            1000  \n",
       "3            1000  \n",
       "4             999  "
      ]
     },
     "execution_count": 67,
     "metadata": {},
     "output_type": "execute_result"
    }
   ],
   "source": [
    "hourly_feature_profile_df.head(5)"
   ]
  },
  {
   "cell_type": "markdown",
   "id": "a2b2c4d3-8a68-49c5-afc6-1174a1676089",
   "metadata": {
    "jupyter": {
     "outputs_hidden": false
    },
    "pycharm": {
     "name": "#%%\n"
    }
   },
   "source": [
    "Similarly, we can also use `engine=\"ray\"` `engine=\"spark\"` as the backend engines to scale it up seamlessly with `Ray` or `Spark`."
   ]
  },
  {
   "cell_type": "code",
   "execution_count": null,
   "id": "9ec96813-9f7d-4b2f-918f-ad5f513e2d1e",
   "metadata": {},
   "outputs": [],
   "source": []
  }
 ],
 "metadata": {
  "kernelspec": {
   "display_name": "Python 3 (ipykernel)",
   "language": "python",
   "name": "python3"
  },
  "language_info": {
   "codemirror_mode": {
    "name": "ipython",
    "version": 3
   },
   "file_extension": ".py",
   "mimetype": "text/x-python",
   "name": "python",
   "nbconvert_exporter": "python",
   "pygments_lexer": "ipython3",
   "version": "3.10.10"
  }
 },
 "nbformat": 4,
 "nbformat_minor": 5
}