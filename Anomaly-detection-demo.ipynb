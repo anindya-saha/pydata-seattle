{
 "cells": [
  {
   "cell_type": "markdown",
   "id": "b138270d-a32f-4713-ba28-87f3512aee72",
   "metadata": {
    "pycharm": {
     "name": "#%% md\n"
    }
   },
   "source": [
    "# Read generated daily profile"
   ]
  },
  {
   "cell_type": "code",
   "execution_count": null,
   "id": "a42d6f4d-a79b-4f19-97e1-60ddcd1bf401",
   "metadata": {
    "pycharm": {
     "name": "#%%\n"
    },
    "tags": []
   },
   "outputs": [],
   "source": [
    "import pandas as pd\n",
    "daily_profile_df = pd.read_parquet(\"addemo23/daily_profile.parquet\")"
   ]
  },
  {
   "cell_type": "markdown",
   "id": "961611e7-98d6-4103-b18b-87b3343aaf05",
   "metadata": {
    "pycharm": {
     "name": "#%% md\n"
    }
   },
   "source": [
    "# Define anomaly detectors of interest"
   ]
  },
  {
   "cell_type": "code",
   "execution_count": null,
   "id": "d0e96759-678e-4edf-ba91-81e3ef2d1a0b",
   "metadata": {
    "pycharm": {
     "name": "#%%\n"
    },
    "tags": []
   },
   "outputs": [],
   "source": [
    "from ad_demo import MSTLDetector\n",
    "detectors = [\n",
    "    MSTLDetector(\"distribution/mean\", [7], 99.9)\n",
    "]\n",
    "daily_profile_df.tail(5)"
   ]
  },
  {
   "cell_type": "markdown",
   "id": "f66847ad-5658-4820-b674-3198d2afe70e",
   "metadata": {
    "pycharm": {
     "name": "#%% md\n"
    }
   },
   "source": [
    "# Extract Predictions and Features profiles"
   ]
  },
  {
   "cell_type": "code",
   "execution_count": null,
   "id": "0dcbeafa-0480-47ba-9ede-0c3a40f5d197",
   "metadata": {
    "pycharm": {
     "name": "#%%\n"
    },
    "tags": []
   },
   "outputs": [],
   "source": [
    "from ad_demo import extract_profiles\n",
    "preds_df, features_df = extract_profiles(daily_profile_df)"
   ]
  },
  {
   "cell_type": "code",
   "execution_count": null,
   "id": "6374c8a4-79de-4676-9df7-b5fee7d0092f",
   "metadata": {
    "pycharm": {
     "name": "#%%\n"
    },
    "tags": []
   },
   "outputs": [],
   "source": [
    "preds_df.tail(5)"
   ]
  },
  {
   "cell_type": "code",
   "execution_count": null,
   "id": "e0b67a00-6b85-49af-b673-7f412a48aa72",
   "metadata": {
    "pycharm": {
     "name": "#%%\n"
    },
    "tags": []
   },
   "outputs": [],
   "source": [
    "# we look at the daily mean values of all the features\n",
    "features_df.tail(5)"
   ]
  },
  {
   "cell_type": "markdown",
   "id": "af1a081f-52cb-41e9-a64c-04de24c4aa76",
   "metadata": {
    "pycharm": {
     "name": "#%% md\n"
    }
   },
   "source": [
    "# Generate Forecasts "
   ]
  },
  {
   "cell_type": "code",
   "execution_count": null,
   "id": "7f86c180-55da-4dbd-b986-44621910712b",
   "metadata": {
    "pycharm": {
     "name": "#%%\n"
    },
    "tags": []
   },
   "outputs": [],
   "source": [
    "# lets examine one detector\n",
    "d = detectors[0]\n",
    "forecast_df = d.score(preds_df)\n",
    "forecast_df.tail(5)"
   ]
  },
  {
   "cell_type": "markdown",
   "id": "7601ef75-dac1-4f30-9c71-54207c9fc1e3",
   "metadata": {
    "pycharm": {
     "name": "#%% md\n"
    }
   },
   "source": [
    "# Find anomalies"
   ]
  },
  {
   "cell_type": "code",
   "execution_count": null,
   "id": "6e259d64-927a-46ea-878d-3c4b8b1acc9b",
   "metadata": {
    "pycharm": {
     "name": "#%%\n"
    },
    "tags": []
   },
   "outputs": [],
   "source": [
    "import datetime\n",
    "from typing import Dict, List\n",
    "\n",
    "# lets generate forcasts for all detectors and find anomalies\n",
    "anomalies: Dict[str, List[datetime.datetime]] = {}\n",
    "for detector in detectors:\n",
    "    anomalies[detector.name] = detector.find_anomalies(detector.score(preds_df))\n",
    "anomalies"
   ]
  },
  {
   "cell_type": "markdown",
   "id": "1653ec28",
   "metadata": {
    "pycharm": {
     "name": "#%% md\n"
    }
   },
   "source": [
    "# Find anomalies with Fugue"
   ]
  },
  {
   "cell_type": "code",
   "execution_count": null,
   "id": "5986c153",
   "metadata": {
    "collapsed": false,
    "jupyter": {
     "outputs_hidden": false
    },
    "pycharm": {
     "name": "#%%\n"
    },
    "tags": []
   },
   "outputs": [],
   "source": [
    "from fugue import transform\n",
    "from ad_demo import fugue_find_anomalies\n",
    "\n",
    "res = transform(\n",
    "    daily_profile_df,\n",
    "    fugue_find_anomalies,\n",
    "    params={\n",
    "        \"detectors\": detectors\n",
    "    },\n",
    "    schema=\"model_name:str, anomalies:[str]\",\n",
    "    partition={\n",
    "        \"by\": [\"model_name\"],\n",
    "        \"presort\": \"date\",\n",
    "    },\n",
    "    engine=\"dask\",\n",
    "    engine_conf={\"fugue.dask.default.partitions\": 5}\n",
    ")"
   ]
  },
  {
   "cell_type": "code",
   "execution_count": null,
   "id": "297b22eb",
   "metadata": {
    "collapsed": false,
    "jupyter": {
     "outputs_hidden": false
    },
    "pycharm": {
     "name": "#%%\n"
    },
    "tags": []
   },
   "outputs": [],
   "source": [
    "res.head(npartitions=5)"
   ]
  },
  {
   "cell_type": "markdown",
   "id": "cf8f2f10-4555-4225-b741-f49f91908136",
   "metadata": {
    "pycharm": {
     "name": "#%% md\n"
    }
   },
   "source": [
    "# View prediction anomalies"
   ]
  },
  {
   "cell_type": "code",
   "execution_count": null,
   "id": "0b0b1bf5-5600-4c41-a3af-a44ff5c4f5cc",
   "metadata": {
    "pycharm": {
     "name": "#%%\n"
    },
    "tags": []
   },
   "outputs": [],
   "source": [
    "from IPython.display import display, HTML\n",
    "from ad_demo import plot_series_graph\n",
    "\n",
    "display(HTML(f'<h1>Prediction</h1>'))\n",
    "fig = plot_series_graph(preds_df[\"distribution/mean\"], anomalies)\n",
    "fig.show()"
   ]
  },
  {
   "cell_type": "markdown",
   "id": "8fb38e06-5bc8-46a9-9cb0-6d8fda6dba6f",
   "metadata": {
    "pycharm": {
     "name": "#%% md\n"
    }
   },
   "source": [
    "# Feature importance w.r.t prediction change"
   ]
  },
  {
   "cell_type": "code",
   "execution_count": null,
   "id": "2dada12d-b162-445f-ad1d-917b9cc3f5a4",
   "metadata": {
    "pycharm": {
     "name": "#%%\n"
    },
    "tags": []
   },
   "outputs": [],
   "source": [
    "from IPython.display import display, HTML\n",
    "from ad_demo import plot_feature_drift_stack, get_feature_drift_stack\n",
    "\n",
    "display(HTML(f'<h1>Feature drift - stacked importance</h1>'))\n",
    "features_df[\"_pred\"] = preds_df[\"distribution/mean\"]\n",
    "importance = get_feature_drift_stack(features_df)\n",
    "fig = plot_feature_drift_stack(importance)\n",
    "fig.show()"
   ]
  },
  {
   "cell_type": "markdown",
   "id": "82f7b797-16e9-4917-b753-12dc1301ce2b",
   "metadata": {
    "pycharm": {
     "name": "#%% md\n"
    }
   },
   "source": [
    "# Feature values"
   ]
  },
  {
   "cell_type": "code",
   "execution_count": null,
   "id": "b4d18530-2b58-42e7-8067-b376ecbe35e6",
   "metadata": {
    "pycharm": {
     "name": "#%%\n"
    },
    "tags": []
   },
   "outputs": [],
   "source": [
    "#show all features in drift importance rank order\n",
    "for feature in reversed(importance.name.values):\n",
    "    series = features_df[feature]\n",
    "    display(HTML(f'<h3>{feature}</h1>'))\n",
    "    fig = plot_series_graph(series, anomalies)\n",
    "    fig.show()"
   ]
  },
  {
   "cell_type": "code",
   "execution_count": null,
   "id": "bc451a66-77bb-48e8-81f1-0f0cab71e119",
   "metadata": {
    "pycharm": {
     "name": "#%%\n"
    }
   },
   "outputs": [],
   "source": []
  }
 ],
 "metadata": {
  "kernelspec": {
   "display_name": "Python 3 (ipykernel)",
   "language": "python",
   "name": "python3"
  },
  "language_info": {
   "codemirror_mode": {
    "name": "ipython",
    "version": 3
   },
   "file_extension": ".py",
   "mimetype": "text/x-python",
   "name": "python",
   "nbconvert_exporter": "python",
   "pygments_lexer": "ipython3",
   "version": "3.10.10"
  }
 },
 "nbformat": 4,
 "nbformat_minor": 5
}
