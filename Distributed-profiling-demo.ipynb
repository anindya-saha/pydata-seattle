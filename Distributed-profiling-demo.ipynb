{
 "cells": [
  {
   "cell_type": "markdown",
   "id": "ca89ab3b-357f-4d03-a1b9-8850927aef8a",
   "metadata": {
    "pycharm": {
     "name": "#%% md\n"
    },
    "tags": []
   },
   "source": [
    "# Distributed Profiling of Model Features with Whylogs & Fugue\n",
    "\n",
    "It is a usual practice in the Machine Learning worls to log incoming model inference requests and outgoing predictions. These logs are then processed and aggregated later for various monitoring and drift detection purposes. However, consuming this raw data presents several pain points:\n",
    "+ Machine Learning models vary widely in the number and nature of features and predictions. Some have 10 features and emit probability scores while others may have 30 features and emit a ranking. \n",
    "+ They also differ significantly in the type of features, with some having more categorical features and others having more numerical features.\n",
    "\n",
    "It is imperative for us to devise a uniform way of processing them. We cannot have a specific monitoring logic for each model. \n",
    "\n",
    "In this tutorial we show how to use [Whylogs](https://whylabs.ai/whylogs) to profile the features and predictions and extract only the essential metrics from these profiles, regardless of the scale of the data.\n",
    "\n",
    "The purposes of profiling are:\n",
    "+ To normalize and compress metric data while retaining maximal information.\n",
    "+ We can unify data from totally different models and process them using the same pipeline in the following step.\n",
    "+ The subsequent steps will only need to handle purely numerical time series.\n",
    "+ Significantly reduce the scale of the problem, so the compute can be more efficient and cost effective.\n",
    "\n",
    "We also use the open source framework called [Fugue](https://fugue-tutorials.readthedocs.io/index.html) for its excellent abstraction layer that unifies the computing logic over Pandas, Spark, Ray or Dask.One of Fugue's most popular features is the ability to use a simple Python function call to distribute logic across many partitions of a larger dataframe. Users can provide functions with type-annotated inputs and outputs, and Fugue then converts the data based on the type annotations. This makes the custom logic independent from Fugue and Spark, removing the need for any pre-existing knowledge."
   ]
  },
  {
   "cell_type": "markdown",
   "id": "ca146721-fe70-48d8-b561-16bfee6b6382",
   "metadata": {
    "pycharm": {
     "name": "#%% md\n"
    },
    "tags": []
   },
   "source": [
    "![](images/scale-up-ad.png)"
   ]
  },
  {
   "cell_type": "code",
   "execution_count": null,
   "id": "40756b07-ecf1-47c9-a17e-a548e99ff40a",
   "metadata": {
    "pycharm": {
     "name": "#%%\n"
    },
    "tags": []
   },
   "outputs": [],
   "source": [
    "import seaborn as sns\n",
    "from matplotlib import pyplot as plt\n",
    "\n",
    "from IPython.core.interactiveshell import InteractiveShell\n",
    "InteractiveShell.ast_node_interactivity = \"all\"\n",
    "\n",
    "# this allows plots to appear directly in the notebook\n",
    "%matplotlib inline\n",
    "%config InlineBackend.figure_format = 'retina'"
   ]
  },
  {
   "cell_type": "code",
   "execution_count": null,
   "id": "d98f7593-1665-4d3c-86c4-bc99cc75fa72",
   "metadata": {
    "pycharm": {
     "name": "#%%\n"
    },
    "tags": []
   },
   "outputs": [],
   "source": [
    "import pandas as pd\n",
    "\n",
    "pd.set_option('display.max_columns', 50)\n",
    "pd.set_option('display.max_colwidth', 100)"
   ]
  },
  {
   "cell_type": "code",
   "execution_count": null,
   "id": "5137d96b-dfb8-4609-a966-e01e91ec26a7",
   "metadata": {
    "pycharm": {
     "name": "#%%\n"
    },
    "tags": []
   },
   "outputs": [],
   "source": [
    "demo_df = pd.read_parquet('addemo23/demo_raw_data_20.parquet')"
   ]
  },
  {
   "cell_type": "code",
   "execution_count": null,
   "id": "8a151b4b-43c4-49ca-96d7-593416f143c4",
   "metadata": {
    "pycharm": {
     "name": "#%%\n"
    },
    "tags": []
   },
   "outputs": [],
   "source": [
    "demo_df.shape"
   ]
  },
  {
   "cell_type": "code",
   "execution_count": null,
   "id": "86ddbf7f",
   "metadata": {
    "collapsed": false,
    "jupyter": {
     "outputs_hidden": false
    },
    "pycharm": {
     "name": "#%%\n"
    },
    "tags": []
   },
   "outputs": [],
   "source": [
    "demo_df.head(5)"
   ]
  },
  {
   "cell_type": "markdown",
   "id": "8e16bcea",
   "metadata": {
    "pycharm": {
     "name": "#%% md\n"
    }
   },
   "source": [
    "## Load Model Feature and Prediction Logs"
   ]
  },
  {
   "cell_type": "markdown",
   "id": "0f6f1462",
   "metadata": {
    "pycharm": {
     "name": "#%% md\n"
    }
   },
   "source": [
    "### Extract Features and Predictions from model logs"
   ]
  },
  {
   "cell_type": "code",
   "execution_count": null,
   "id": "ea107aa7",
   "metadata": {
    "collapsed": false,
    "jupyter": {
     "outputs_hidden": false
    },
    "pycharm": {
     "name": "#%%\n"
    },
    "tags": []
   },
   "outputs": [],
   "source": [
    "import json\n",
    "import pandas as pd\n",
    "\n",
    "def extract_features(df: pd.DataFrame) -> pd.DataFrame:\n",
    "    json_str = \"[\" + (\",\".join(df.features)) + \"]\"\n",
    "    feature_df = pd.DataFrame(json.loads(json_str))\n",
    "    #feature_df = feature_df.reset_index(drop=True)\n",
    "    return feature_df[sorted(feature_df.columns)]"
   ]
  },
  {
   "cell_type": "code",
   "execution_count": null,
   "id": "877a1762",
   "metadata": {
    "collapsed": false,
    "jupyter": {
     "outputs_hidden": false
    },
    "pycharm": {
     "name": "#%%\n"
    },
    "tags": []
   },
   "outputs": [],
   "source": [
    "extracted_features_df = extract_features(demo_df)"
   ]
  },
  {
   "cell_type": "code",
   "execution_count": null,
   "id": "7b7cb381",
   "metadata": {
    "collapsed": false,
    "jupyter": {
     "outputs_hidden": false
    },
    "pycharm": {
     "name": "#%%\n"
    },
    "tags": []
   },
   "outputs": [],
   "source": [
    "extracted_features_df.head(5)"
   ]
  },
  {
   "cell_type": "code",
   "execution_count": null,
   "id": "6106dbc3",
   "metadata": {
    "collapsed": false,
    "jupyter": {
     "outputs_hidden": false
    },
    "pycharm": {
     "name": "#%%\n"
    },
    "tags": []
   },
   "outputs": [],
   "source": [
    "extracted_features_df.shape, demo_df.shape"
   ]
  },
  {
   "cell_type": "code",
   "execution_count": null,
   "id": "4d67c79e-8f60-4714-addf-ef221e1aae13",
   "metadata": {
    "collapsed": false,
    "jupyter": {
     "outputs_hidden": false
    },
    "pycharm": {
     "name": "#%%\n"
    },
    "tags": []
   },
   "outputs": [],
   "source": [
    "pd.concat([demo_df, extracted_features_df], axis=1, ignore_index=True).head(5)"
   ]
  },
  {
   "cell_type": "markdown",
   "id": "09cb1d92-1dae-4171-a071-62b4811e8006",
   "metadata": {
    "pycharm": {
     "name": "#%% md\n"
    }
   },
   "source": [
    "### A unit function to work on a partition of data"
   ]
  },
  {
   "cell_type": "code",
   "execution_count": null,
   "id": "3bba960e",
   "metadata": {
    "collapsed": false,
    "jupyter": {
     "outputs_hidden": false
    },
    "pycharm": {
     "name": "#%%\n"
    },
    "tags": []
   },
   "outputs": [],
   "source": [
    "import json\n",
    "import pandas as pd\n",
    "\n",
    "def extract_features(model_logs_df: pd.DataFrame) -> pd.DataFrame:\n",
    "    json_str = \"[\" + (\",\".join(model_logs_df.features)) + \"]\"\n",
    "    extracted_features_df = pd.DataFrame(json.loads(json_str))\n",
    "    extracted_features_df = extracted_features_df[sorted(extracted_features_df.columns)]\n",
    "    model_logs_df['occurred_at'] = model_logs_df['occurred_at'].apply(lambda x: x.replace(microsecond=0))\n",
    "    model_logs_df['ds'] = model_logs_df['occurred_at'].apply(lambda x: x.strftime(\"%Y-%m-%d\"))\n",
    "    model_logs_df['hour'] = model_logs_df['occurred_at'].apply(lambda x: x.hour)\n",
    "    #return pd.merge(model_logs_df[['occurred_at', 'ds', 'hour', 'model_name', 'version', 'predictions']], feature_df, left_index=True, right_index=True)\n",
    "    features_df = pd.concat([model_logs_df[['occurred_at', 'ds', 'hour', 'model_name', 'version', 'predictions']], extracted_features_df], axis=1, ignore_index=True)\n",
    "    features_df.columns = ['occurred_at', 'ds', 'hour', 'model_name', 'version', 'predictions', 'feature_1', 'feature_2', 'feature_3', 'feature_4', 'feature_5', 'feature_6']\n",
    "    return features_df"
   ]
  },
  {
   "cell_type": "code",
   "execution_count": null,
   "id": "e2d7c6bc",
   "metadata": {
    "collapsed": false,
    "jupyter": {
     "outputs_hidden": false
    },
    "pycharm": {
     "name": "#%%\n"
    },
    "tags": []
   },
   "outputs": [],
   "source": [
    "features_df = extract_features(demo_df)"
   ]
  },
  {
   "cell_type": "code",
   "execution_count": null,
   "id": "b50ac08f-aa4d-4f4f-9307-1a78e4c738f5",
   "metadata": {
    "pycharm": {
     "name": "#%%\n"
    },
    "tags": []
   },
   "outputs": [],
   "source": [
    "features_df.shape"
   ]
  },
  {
   "cell_type": "code",
   "execution_count": null,
   "id": "a8365739",
   "metadata": {
    "collapsed": false,
    "jupyter": {
     "outputs_hidden": false
    },
    "pycharm": {
     "name": "#%%\n"
    },
    "tags": []
   },
   "outputs": [],
   "source": [
    "features_df.head(5)"
   ]
  },
  {
   "cell_type": "code",
   "execution_count": null,
   "id": "ccfc3bbf",
   "metadata": {
    "collapsed": false,
    "jupyter": {
     "outputs_hidden": false
    },
    "pycharm": {
     "name": "#%%\n"
    },
    "tags": []
   },
   "outputs": [],
   "source": [
    "features_df.tail(5)"
   ]
  },
  {
   "cell_type": "code",
   "execution_count": null,
   "id": "9f81a6ae",
   "metadata": {
    "collapsed": false,
    "jupyter": {
     "outputs_hidden": false
    },
    "pycharm": {
     "name": "#%%\n"
    },
    "tags": []
   },
   "outputs": [],
   "source": [
    "features_df.dtypes"
   ]
  },
  {
   "cell_type": "code",
   "execution_count": null,
   "id": "d69ece33",
   "metadata": {
    "collapsed": false,
    "jupyter": {
     "outputs_hidden": false
    },
    "pycharm": {
     "name": "#%%\n"
    },
    "tags": []
   },
   "outputs": [],
   "source": [
    "len(features_df.ds.unique())"
   ]
  },
  {
   "cell_type": "code",
   "execution_count": null,
   "id": "671569cc",
   "metadata": {
    "collapsed": false,
    "jupyter": {
     "outputs_hidden": false
    },
    "pycharm": {
     "name": "#%%\n"
    },
    "tags": []
   },
   "outputs": [],
   "source": [
    "features_df.hour.unique()"
   ]
  },
  {
   "cell_type": "code",
   "execution_count": null,
   "id": "1015180c",
   "metadata": {
    "collapsed": false,
    "jupyter": {
     "outputs_hidden": false
    },
    "pycharm": {
     "name": "#%%\n"
    },
    "tags": []
   },
   "outputs": [],
   "source": [
    "features_df[(features_df['ds'] == '2023-02-10') & (features_df['hour'] == 5)].head(5)"
   ]
  },
  {
   "cell_type": "code",
   "execution_count": null,
   "id": "f283c0ed-430a-4f6f-8a52-dbeaa9f3e1c1",
   "metadata": {
    "pycharm": {
     "name": "#%%\n"
    }
   },
   "outputs": [],
   "source": []
  },
  {
   "cell_type": "markdown",
   "id": "c5f0ecf0",
   "metadata": {
    "pycharm": {
     "name": "#%% md\n"
    }
   },
   "source": [
    "### !!PAUSE!! Questions ?"
   ]
  },
  {
   "cell_type": "code",
   "execution_count": null,
   "id": "5b2215b4-f0fa-4a06-8d94-92bc1ccbac49",
   "metadata": {
    "pycharm": {
     "name": "#%%\n"
    }
   },
   "outputs": [],
   "source": []
  },
  {
   "cell_type": "markdown",
   "id": "8917003f",
   "metadata": {
    "pycharm": {
     "name": "#%% md\n"
    }
   },
   "source": [
    "### Generate Whylogs Profiles - For month of Feb and Mar"
   ]
  },
  {
   "cell_type": "code",
   "execution_count": null,
   "id": "9e1a807f",
   "metadata": {
    "collapsed": false,
    "jupyter": {
     "outputs_hidden": false
    },
    "pycharm": {
     "name": "#%%\n"
    },
    "tags": []
   },
   "outputs": [],
   "source": [
    "import json\n",
    "import numpy as np\n",
    "\n",
    "import whylogs as why\n",
    "from whylogs import DatasetProfileView"
   ]
  },
  {
   "cell_type": "code",
   "execution_count": null,
   "id": "fd555d4f",
   "metadata": {
    "collapsed": false,
    "jupyter": {
     "outputs_hidden": false
    },
    "pycharm": {
     "name": "#%%\n"
    },
    "tags": []
   },
   "outputs": [],
   "source": [
    "feb_test_df = features_df[(features_df['ds'] == '2023-02-10') & (features_df['hour'] == 5)]"
   ]
  },
  {
   "cell_type": "code",
   "execution_count": null,
   "id": "bfbc2c09",
   "metadata": {
    "collapsed": false,
    "jupyter": {
     "outputs_hidden": false
    },
    "pycharm": {
     "name": "#%%\n"
    },
    "tags": []
   },
   "outputs": [],
   "source": [
    "feb_test_df.head(5)"
   ]
  },
  {
   "cell_type": "code",
   "execution_count": null,
   "id": "7479c843",
   "metadata": {
    "collapsed": false,
    "jupyter": {
     "outputs_hidden": false
    },
    "pycharm": {
     "name": "#%%\n"
    },
    "tags": []
   },
   "outputs": [],
   "source": [
    "feb_whylogs_prof = why.log(feb_test_df[['feature_5', 'feature_6']]).view()"
   ]
  },
  {
   "cell_type": "code",
   "execution_count": null,
   "id": "76c01b71-f862-4c34-8c88-6a5f66d69126",
   "metadata": {
    "pycharm": {
     "name": "#%%\n"
    }
   },
   "outputs": [],
   "source": []
  },
  {
   "cell_type": "code",
   "execution_count": null,
   "id": "4aebf632",
   "metadata": {
    "collapsed": false,
    "jupyter": {
     "outputs_hidden": false
    },
    "pycharm": {
     "name": "#%%\n"
    },
    "tags": []
   },
   "outputs": [],
   "source": [
    "mar_test_df = features_df[(features_df['ds'] == '2023-03-10') & (features_df['hour'] == 5)]"
   ]
  },
  {
   "cell_type": "code",
   "execution_count": null,
   "id": "dae27c93",
   "metadata": {
    "collapsed": false,
    "jupyter": {
     "outputs_hidden": false
    },
    "pycharm": {
     "name": "#%%\n"
    },
    "tags": []
   },
   "outputs": [],
   "source": [
    "mar_test_df.head(5)"
   ]
  },
  {
   "cell_type": "code",
   "execution_count": null,
   "id": "3fb78ad0",
   "metadata": {
    "collapsed": false,
    "jupyter": {
     "outputs_hidden": false
    },
    "pycharm": {
     "name": "#%%\n"
    },
    "tags": []
   },
   "outputs": [],
   "source": [
    "mar_whylogs_prof = why.log(mar_test_df[['feature_5', 'feature_6']]).view()"
   ]
  },
  {
   "cell_type": "code",
   "execution_count": null,
   "id": "446fe2fa-be35-41bf-bbd4-7369c1a038d3",
   "metadata": {
    "pycharm": {
     "name": "#%%\n"
    }
   },
   "outputs": [],
   "source": []
  },
  {
   "cell_type": "code",
   "execution_count": null,
   "id": "443599a7",
   "metadata": {
    "collapsed": false,
    "jupyter": {
     "outputs_hidden": false
    },
    "pycharm": {
     "name": "#%%\n"
    },
    "tags": []
   },
   "outputs": [],
   "source": [
    "feb_whylogs_prof.to_pandas()"
   ]
  },
  {
   "cell_type": "code",
   "execution_count": null,
   "id": "ece50e46-5385-4d1e-b78c-eec563b3efdd",
   "metadata": {
    "collapsed": false,
    "jupyter": {
     "outputs_hidden": false
    },
    "pycharm": {
     "name": "#%%\n"
    },
    "tags": []
   },
   "outputs": [],
   "source": [
    "mar_whylogs_prof.to_pandas()"
   ]
  },
  {
   "cell_type": "markdown",
   "id": "41b68b25",
   "metadata": {
    "pycharm": {
     "name": "#%% md\n"
    }
   },
   "source": [
    "### Visualize Whylogs Profiles"
   ]
  },
  {
   "cell_type": "code",
   "execution_count": null,
   "id": "ca2ef8d3",
   "metadata": {
    "collapsed": false,
    "jupyter": {
     "outputs_hidden": false
    },
    "pycharm": {
     "name": "#%%\n"
    },
    "tags": []
   },
   "outputs": [],
   "source": [
    "from whylogs.viz import NotebookProfileVisualizer\n",
    "\n",
    "from whylogs.viz.utils.histogram_calculations import histogram_from_view\n",
    "from whylogs.viz.utils.frequent_items_calculations import frequent_items_from_view"
   ]
  },
  {
   "cell_type": "code",
   "execution_count": null,
   "id": "a86c54d2",
   "metadata": {
    "collapsed": false,
    "jupyter": {
     "outputs_hidden": false
    },
    "pycharm": {
     "name": "#%%\n"
    },
    "tags": []
   },
   "outputs": [],
   "source": [
    "visualization = NotebookProfileVisualizer()\n",
    "visualization.set_profiles(target_profile_view=feb_whylogs_prof, reference_profile_view=mar_whylogs_prof)"
   ]
  },
  {
   "cell_type": "code",
   "execution_count": null,
   "id": "131fff26",
   "metadata": {
    "collapsed": false,
    "jupyter": {
     "outputs_hidden": false
    },
    "pycharm": {
     "name": "#%%\n"
    },
    "tags": []
   },
   "outputs": [],
   "source": [
    "visualization.double_histogram(feature_name=\"feature_6\")"
   ]
  },
  {
   "cell_type": "markdown",
   "id": "ff5f2efb",
   "metadata": {
    "pycharm": {
     "name": "#%% md\n"
    }
   },
   "source": [
    "### Serialize Whylogs Profiles"
   ]
  },
  {
   "cell_type": "code",
   "execution_count": null,
   "id": "7deefb43",
   "metadata": {
    "collapsed": false,
    "jupyter": {
     "outputs_hidden": false
    },
    "pycharm": {
     "name": "#%%\n"
    },
    "tags": []
   },
   "outputs": [],
   "source": [
    "feb_whylogs_prof.serialize()[0:100]"
   ]
  },
  {
   "cell_type": "code",
   "execution_count": null,
   "id": "4f2541c9-6b77-48dc-8126-fd124f4a5a77",
   "metadata": {
    "pycharm": {
     "name": "#%%\n"
    }
   },
   "outputs": [],
   "source": []
  },
  {
   "cell_type": "markdown",
   "id": "848e8591",
   "metadata": {
    "pycharm": {
     "name": "#%% md\n"
    }
   },
   "source": [
    "### !!PAUSE!! Questions ?"
   ]
  },
  {
   "cell_type": "code",
   "execution_count": null,
   "id": "76f1dcbc-6f91-4781-b926-af51abd92c1a",
   "metadata": {
    "pycharm": {
     "name": "#%%\n"
    }
   },
   "outputs": [],
   "source": []
  },
  {
   "cell_type": "markdown",
   "id": "c6589ae7",
   "metadata": {
    "pycharm": {
     "name": "#%% md\n"
    }
   },
   "source": [
    "### Generate Hourly Profiles using Fugue\n",
    "\n",
    "Showing profiling and serializing in one place."
   ]
  },
  {
   "cell_type": "markdown",
   "id": "b35ddc0e-421d-4b7f-af65-d6b3b4efcfe3",
   "metadata": {
    "pycharm": {
     "name": "#%% md\n"
    }
   },
   "source": [
    "### A unit function to work on a partition of data"
   ]
  },
  {
   "cell_type": "code",
   "execution_count": null,
   "id": "11ee03ce",
   "metadata": {
    "collapsed": false,
    "jupyter": {
     "outputs_hidden": false
    },
    "pycharm": {
     "name": "#%%\n"
    },
    "tags": []
   },
   "outputs": [],
   "source": [
    "import json\n",
    "import pandas as pd\n",
    "\n",
    "def profile_features(features_df: pd.DataFrame) -> pd.DataFrame:\n",
    "    features_buf = why.log(features_df[['feature_1', 'feature_2', 'feature_3', 'feature_4', 'feature_5', 'feature_6']]).view().serialize()\n",
    "    predictions_buf = why.log(features_df[['predictions']]).view().serialize()\n",
    "    profiled_features = features_df.head(1).copy()\n",
    "    profiled_features = profiled_features.drop(['occurred_at'], axis=1)\n",
    "    profiled_features = profiled_features.assign(features_profile=features_buf, predictions_profile = predictions_buf, sample_records=len(features_df))\n",
    "    return profiled_features"
   ]
  },
  {
   "cell_type": "code",
   "execution_count": null,
   "id": "5a4db369",
   "metadata": {
    "collapsed": false,
    "jupyter": {
     "outputs_hidden": false
    },
    "pycharm": {
     "name": "#%%\n"
    },
    "tags": []
   },
   "outputs": [],
   "source": [
    "feb_test_df.shape"
   ]
  },
  {
   "cell_type": "code",
   "execution_count": null,
   "id": "cd499ad2",
   "metadata": {
    "collapsed": false,
    "jupyter": {
     "outputs_hidden": false
    },
    "pycharm": {
     "name": "#%%\n"
    },
    "tags": []
   },
   "outputs": [],
   "source": [
    "profile_features(feb_test_df[(feb_test_df['ds'] == '2023-02-10') & (feb_test_df['hour'] == 5)])"
   ]
  },
  {
   "cell_type": "markdown",
   "id": "77d16344-6aab-4b27-b794-94436a3c11c4",
   "metadata": {
    "pycharm": {
     "name": "#%% md\n"
    }
   },
   "source": [
    "### SCALE up the unit function to work on ALL partitions of data [Takes 3 mins]"
   ]
  },
  {
   "cell_type": "code",
   "execution_count": null,
   "id": "ea71d7ea",
   "metadata": {
    "collapsed": false,
    "jupyter": {
     "outputs_hidden": false
    },
    "pycharm": {
     "name": "#%%\n"
    },
    "tags": []
   },
   "outputs": [],
   "source": [
    "from fugue import transform\n",
    "\n",
    "hourly_feature_profile_df = transform(\n",
    "    df=features_df, \n",
    "    using=profile_features, \n",
    "    schema=\"*-occurred_at+features_profile:binary,predictions_profile:binary,sample_records:long\",\n",
    "    partition=dict(by=['ds', 'hour', 'model_name', 'version']), \n",
    "    engine=None\n",
    ")"
   ]
  },
  {
   "cell_type": "code",
   "execution_count": null,
   "id": "778cbd75",
   "metadata": {
    "collapsed": false,
    "jupyter": {
     "outputs_hidden": false
    },
    "pycharm": {
     "name": "#%%\n"
    },
    "tags": []
   },
   "outputs": [],
   "source": [
    "hourly_feature_profile_df"
   ]
  },
  {
   "cell_type": "code",
   "execution_count": null,
   "id": "f04612c4",
   "metadata": {
    "collapsed": false,
    "jupyter": {
     "outputs_hidden": false
    },
    "pycharm": {
     "name": "#%%\n"
    }
   },
   "outputs": [],
   "source": []
  },
  {
   "cell_type": "markdown",
   "id": "f6eaae88",
   "metadata": {
    "pycharm": {
     "name": "#%% md\n"
    }
   },
   "source": [
    "### !!PAUSE!! Questions ?"
   ]
  },
  {
   "cell_type": "code",
   "execution_count": null,
   "id": "fa459ce0-0808-47b7-a629-a05c706134ea",
   "metadata": {
    "pycharm": {
     "name": "#%%\n"
    }
   },
   "outputs": [],
   "source": []
  },
  {
   "cell_type": "markdown",
   "id": "6c6f390c",
   "metadata": {
    "pycharm": {
     "name": "#%% md\n"
    }
   },
   "source": [
    "### Merge Whylogs Profiles\n",
    "\n",
    "We already have the Hourly profiles. Can we resuse that to get the daily profiles ? Can help incremental merging ? "
   ]
  },
  {
   "cell_type": "code",
   "execution_count": null,
   "id": "69c7001d",
   "metadata": {
    "collapsed": false,
    "jupyter": {
     "outputs_hidden": false
    },
    "pycharm": {
     "name": "#%%\n"
    },
    "tags": []
   },
   "outputs": [],
   "source": [
    "type(feb_whylogs_prof)"
   ]
  },
  {
   "cell_type": "code",
   "execution_count": null,
   "id": "3b52cdce",
   "metadata": {
    "collapsed": false,
    "jupyter": {
     "outputs_hidden": false
    },
    "pycharm": {
     "name": "#%%\n"
    },
    "tags": []
   },
   "outputs": [],
   "source": [
    "feb_whylogs_prof.to_pandas()"
   ]
  },
  {
   "cell_type": "code",
   "execution_count": null,
   "id": "a2d84764",
   "metadata": {
    "collapsed": false,
    "jupyter": {
     "outputs_hidden": false
    },
    "pycharm": {
     "name": "#%%\n"
    },
    "tags": []
   },
   "outputs": [],
   "source": [
    "mar_whylogs_prof.to_pandas()"
   ]
  },
  {
   "cell_type": "code",
   "execution_count": null,
   "id": "ca1dceb3",
   "metadata": {
    "collapsed": false,
    "jupyter": {
     "outputs_hidden": false
    },
    "pycharm": {
     "name": "#%%\n"
    },
    "tags": []
   },
   "outputs": [],
   "source": [
    "merged_prof_view = feb_whylogs_prof.merge(mar_whylogs_prof)\n",
    "merged_prof_view.to_pandas()"
   ]
  },
  {
   "cell_type": "code",
   "execution_count": null,
   "id": "b4375cdf",
   "metadata": {
    "collapsed": false,
    "jupyter": {
     "outputs_hidden": false
    },
    "pycharm": {
     "name": "#%%\n"
    },
    "tags": []
   },
   "outputs": [],
   "source": [
    "merge_test_df = features_df[((features_df['ds'] == '2023-02-10') | (features_df['ds'] == '2023-03-10')) & (features_df['hour'] == 5)]"
   ]
  },
  {
   "cell_type": "code",
   "execution_count": null,
   "id": "fc4be6d1",
   "metadata": {
    "collapsed": false,
    "jupyter": {
     "outputs_hidden": false
    },
    "pycharm": {
     "name": "#%%\n"
    },
    "tags": []
   },
   "outputs": [],
   "source": [
    "merge_test_df['ds'].unique()"
   ]
  },
  {
   "cell_type": "code",
   "execution_count": null,
   "id": "1e424226",
   "metadata": {
    "collapsed": false,
    "jupyter": {
     "outputs_hidden": false
    },
    "pycharm": {
     "name": "#%%\n"
    },
    "tags": []
   },
   "outputs": [],
   "source": [
    "merged_whylogs_prof = why.log(merge_test_df[['feature_5', 'feature_6']]).view()"
   ]
  },
  {
   "cell_type": "code",
   "execution_count": null,
   "id": "1d861765",
   "metadata": {
    "collapsed": false,
    "jupyter": {
     "outputs_hidden": false
    },
    "pycharm": {
     "name": "#%%\n"
    },
    "tags": []
   },
   "outputs": [],
   "source": [
    "merged_whylogs_prof.to_pandas()"
   ]
  },
  {
   "cell_type": "code",
   "execution_count": null,
   "id": "6ecc272f",
   "metadata": {
    "collapsed": false,
    "jupyter": {
     "outputs_hidden": false
    },
    "pycharm": {
     "name": "#%%\n"
    }
   },
   "outputs": [],
   "source": []
  },
  {
   "cell_type": "markdown",
   "id": "4554a704",
   "metadata": {
    "pycharm": {
     "name": "#%% md\n"
    }
   },
   "source": [
    "### Generate Daily Profiles"
   ]
  },
  {
   "cell_type": "markdown",
   "id": "7188175e-f6f6-4861-8eed-c535c2b20a8f",
   "metadata": {
    "pycharm": {
     "name": "#%% md\n"
    }
   },
   "source": [
    "### A unit function to work on a partition of data"
   ]
  },
  {
   "cell_type": "code",
   "execution_count": null,
   "id": "61c1b338",
   "metadata": {
    "collapsed": false,
    "jupyter": {
     "outputs_hidden": false
    },
    "pycharm": {
     "name": "#%%\n"
    },
    "tags": []
   },
   "outputs": [],
   "source": [
    "from functools import reduce\n",
    "\n",
    "def profile_reduce(hourly_profiles_df: pd.DataFrame) -> pd.DataFrame:\n",
    "    features_buf = reduce(\n",
    "        lambda acc, x: acc.merge(x),\n",
    "        hourly_profiles_df.features_profile.apply(DatasetProfileView.deserialize),\n",
    "    ).serialize()\n",
    "    predictions_buf = reduce(\n",
    "        lambda acc, x: acc.merge(x),\n",
    "        hourly_profiles_df.predictions_profile.apply(DatasetProfileView.deserialize),\n",
    "    ).serialize()\n",
    "    records = hourly_profiles_df.sample_records.sum()\n",
    "    daily_profiles_df = hourly_profiles_df.head(1).copy()\n",
    "    daily_profiles_df = daily_profiles_df.drop(['hour'], axis=1)\n",
    "    daily_profiles_df = daily_profiles_df.assign(features_profile=features_buf, predictions_profile = predictions_buf, sample_records=records)\n",
    "    return daily_profiles_df"
   ]
  },
  {
   "cell_type": "code",
   "execution_count": null,
   "id": "c13af142",
   "metadata": {
    "collapsed": false,
    "jupyter": {
     "outputs_hidden": false
    },
    "pycharm": {
     "name": "#%%\n"
    },
    "tags": []
   },
   "outputs": [],
   "source": [
    "hourly_feature_profile_df"
   ]
  },
  {
   "cell_type": "code",
   "execution_count": null,
   "id": "4edc61ed",
   "metadata": {
    "collapsed": false,
    "jupyter": {
     "outputs_hidden": false
    },
    "pycharm": {
     "name": "#%%\n"
    },
    "tags": []
   },
   "outputs": [],
   "source": [
    "profile_reduce(hourly_feature_profile_df[hourly_feature_profile_df['ds'] == '2023-01-01'])"
   ]
  },
  {
   "cell_type": "code",
   "execution_count": null,
   "id": "439119ef",
   "metadata": {
    "collapsed": false,
    "jupyter": {
     "outputs_hidden": false
    },
    "pycharm": {
     "name": "#%%\n"
    },
    "tags": []
   },
   "outputs": [],
   "source": [
    "from fugue import transform\n",
    "\n",
    "daily_feature_profile_df = transform(\n",
    "    df=hourly_feature_profile_df, \n",
    "    using=profile_reduce, \n",
    "    schema=\"*-hour\",\n",
    "    partition=dict(by=['ds', 'model_name', 'version']), \n",
    "    engine=None\n",
    ")"
   ]
  },
  {
   "cell_type": "code",
   "execution_count": null,
   "id": "fa919c11",
   "metadata": {
    "collapsed": false,
    "jupyter": {
     "outputs_hidden": false
    },
    "pycharm": {
     "name": "#%%\n"
    }
   },
   "outputs": [],
   "source": []
  },
  {
   "cell_type": "code",
   "execution_count": null,
   "id": "f9eed769",
   "metadata": {
    "collapsed": false,
    "jupyter": {
     "outputs_hidden": false
    },
    "pycharm": {
     "name": "#%%\n"
    },
    "tags": []
   },
   "outputs": [],
   "source": [
    "daily_feature_profile_df"
   ]
  },
  {
   "cell_type": "code",
   "execution_count": null,
   "id": "ac26918c-82a2-447d-95ba-fa8e4d78a501",
   "metadata": {},
   "outputs": [],
   "source": []
  },
  {
   "cell_type": "markdown",
   "id": "9c4b78f2-c857-4907-9b4d-97a533507cc3",
   "metadata": {
    "pycharm": {
     "name": "#%% md\n"
    }
   },
   "source": [
    "### !!PAUSE!! Questions ?"
   ]
  },
  {
   "cell_type": "code",
   "execution_count": null,
   "id": "4e5fd3bd-3730-48d7-b892-c4e2f45cf26d",
   "metadata": {},
   "outputs": [],
   "source": []
  },
  {
   "cell_type": "markdown",
   "id": "2b487faa",
   "metadata": {
    "pycharm": {
     "name": "#%% md\n"
    }
   },
   "source": [
    "### Scaling up with Fugue & Dask"
   ]
  },
  {
   "cell_type": "markdown",
   "id": "9cce7e36",
   "metadata": {
    "pycharm": {
     "name": "#%% md\n"
    }
   },
   "source": [
    "#### DASK"
   ]
  },
  {
   "cell_type": "code",
   "execution_count": null,
   "id": "59d41475",
   "metadata": {
    "collapsed": false,
    "jupyter": {
     "outputs_hidden": false
    },
    "pycharm": {
     "name": "#%%\n"
    },
    "tags": []
   },
   "outputs": [],
   "source": [
    "from fugue import transform\n",
    "\n",
    "hourly_feature_profile_df = transform(\n",
    "    df=features_df, \n",
    "    using=profile_features, \n",
    "    schema=\"*-occurred_at+features_profile:binary,predictions_profile:binary,sample_records:long\",\n",
    "    partition=dict(by=['ds', 'hour', 'model_name', 'version']), \n",
    "    engine=\"dask\"\n",
    ")"
   ]
  },
  {
   "cell_type": "code",
   "execution_count": null,
   "id": "ca3ef4d5",
   "metadata": {
    "collapsed": false,
    "jupyter": {
     "outputs_hidden": false
    },
    "pycharm": {
     "name": "#%%\n"
    },
    "tags": []
   },
   "outputs": [],
   "source": [
    "hourly_feature_profile_df.compute().head(5)"
   ]
  },
  {
   "cell_type": "markdown",
   "id": "978cdd40",
   "metadata": {
    "pycharm": {
     "name": "#%% md\n"
    }
   },
   "source": [
    "Similarly, we can also use `engine=\"ray\"` `engine=\"spark\"` as the backend engines to scale it up seamlessly with `Ray` or `Spark`."
   ]
  },
  {
   "cell_type": "code",
   "execution_count": null,
   "id": "9ec96813-9f7d-4b2f-918f-ad5f513e2d1e",
   "metadata": {
    "pycharm": {
     "name": "#%%\n"
    }
   },
   "outputs": [],
   "source": []
  }
 ],
 "metadata": {
  "kernelspec": {
   "display_name": "Python 3 (ipykernel)",
   "language": "python",
   "name": "python3"
  },
  "language_info": {
   "codemirror_mode": {
    "name": "ipython",
    "version": 3
   },
   "file_extension": ".py",
   "mimetype": "text/x-python",
   "name": "python",
   "nbconvert_exporter": "python",
   "pygments_lexer": "ipython3",
   "version": "3.10.10"
  }
 },
 "nbformat": 4,
 "nbformat_minor": 5
}
